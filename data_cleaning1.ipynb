{
 "cells": [
  {
   "cell_type": "code",
   "execution_count": 3,
   "metadata": {},
   "outputs": [],
   "source": [
    "import numpy as np\n",
    "import pandas as pd\n",
    "import json\n",
    "from tqdm import tqdm\n",
    "import matplotlib.pyplot as plt\n",
    "import random\n"
   ]
  },
  {
   "cell_type": "markdown",
   "metadata": {},
   "source": [
    "# Create Ratings Dataframe"
   ]
  },
  {
   "cell_type": "code",
   "execution_count": 2,
   "metadata": {},
   "outputs": [],
   "source": [
    "line_count = len(open(\"yelp_dataset/review.json\").readlines())\n",
    "review_id, user_ids, business_ids, stars, dates, useful, funny, cool, text = [], [], [], [], [], [], [], [], []\n",
    "with open(\"yelp_dataset/review.json\") as f:\n",
    "    for line in tqdm(f, total=line_count):\n",
    "        blob = json.loads(line)\n",
    "        review_id+=[blob[\"review_id\"]]\n",
    "        user_ids += [blob[\"user_id\"]]\n",
    "        business_ids += [blob[\"business_id\"]]\n",
    "        stars += [blob[\"stars\"]]\n",
    "        useful+= [blob[\"useful\"]]\n",
    "        dates += [blob[\"date\"]]\n",
    "        funny += [blob[\"funny\"]]\n",
    "        cool += [blob[\"cool\"]]\n",
    "        text += [blob[\"text\"]]\n",
    "ratings = pd.DataFrame(\n",
    "    {\"user_id\": user_ids, \"business_id\": business_ids,\"review_id\":review_id, \"rating\": stars, \"date\": dates,\"useful\":useful,\n",
    "    \"funny\":funny,\"cool\":cool,\"text\":text})\n",
    "ratings.to_csv('ratings.csv')"
   ]
  },
  {
   "cell_type": "code",
   "execution_count": 4,
   "metadata": {
    "scrolled": true
   },
   "outputs": [
    {
     "name": "stderr",
     "output_type": "stream",
     "text": [
      "/home/darshan/anaconda3/lib/python3.7/site-packages/IPython/core/interactiveshell.py:3057: DtypeWarning: Columns (0) have mixed types. Specify dtype option on import or set low_memory=False.\n",
      "  interactivity=interactivity, compiler=compiler, result=result)\n"
     ]
    },
    {
     "data": {
      "text/html": [
       "<div>\n",
       "<style scoped>\n",
       "    .dataframe tbody tr th:only-of-type {\n",
       "        vertical-align: middle;\n",
       "    }\n",
       "\n",
       "    .dataframe tbody tr th {\n",
       "        vertical-align: top;\n",
       "    }\n",
       "\n",
       "    .dataframe thead th {\n",
       "        text-align: right;\n",
       "    }\n",
       "</style>\n",
       "<table border=\"1\" class=\"dataframe\">\n",
       "  <thead>\n",
       "    <tr style=\"text-align: right;\">\n",
       "      <th></th>\n",
       "      <th>Unnamed: 0</th>\n",
       "      <th>user_id</th>\n",
       "      <th>business_id</th>\n",
       "      <th>review_id</th>\n",
       "      <th>rating</th>\n",
       "      <th>date</th>\n",
       "      <th>useful</th>\n",
       "      <th>funny</th>\n",
       "      <th>cool</th>\n",
       "      <th>text</th>\n",
       "    </tr>\n",
       "  </thead>\n",
       "  <tbody>\n",
       "    <tr>\n",
       "      <th>0</th>\n",
       "      <td>0</td>\n",
       "      <td>hG7b0MtEbXx5QzbzE6C_VA</td>\n",
       "      <td>ujmEBvifdJM6h6RLv4wQIg</td>\n",
       "      <td>Q1sbwvVQXV2734tPgoKj4Q</td>\n",
       "      <td>1.0</td>\n",
       "      <td>2013-05-07 04:34:36</td>\n",
       "      <td>6.0</td>\n",
       "      <td>1.0</td>\n",
       "      <td>0.0</td>\n",
       "      <td>Total bill for this horrible service? Over $8G...</td>\n",
       "    </tr>\n",
       "    <tr>\n",
       "      <th>1</th>\n",
       "      <td>1</td>\n",
       "      <td>yXQM5uF2jS6es16SJzNHfg</td>\n",
       "      <td>NZnhc2sEQy3RmzKTZnqtwQ</td>\n",
       "      <td>GJXCdrto3ASJOqKeVWPi6Q</td>\n",
       "      <td>5.0</td>\n",
       "      <td>2017-01-14 21:30:33</td>\n",
       "      <td>0.0</td>\n",
       "      <td>0.0</td>\n",
       "      <td>0.0</td>\n",
       "      <td>I *adore* Travis at the Hard Rock's new Kelly ...</td>\n",
       "    </tr>\n",
       "    <tr>\n",
       "      <th>2</th>\n",
       "      <td>2</td>\n",
       "      <td>n6-Gk65cPZL6Uz8qRm3NYw</td>\n",
       "      <td>WTqjgwHlXbSFevF32_DJVw</td>\n",
       "      <td>2TzJjDVDEuAW6MR5Vuc1ug</td>\n",
       "      <td>5.0</td>\n",
       "      <td>2016-11-09 20:09:03</td>\n",
       "      <td>3.0</td>\n",
       "      <td>0.0</td>\n",
       "      <td>0.0</td>\n",
       "      <td>I have to say that this office really has it t...</td>\n",
       "    </tr>\n",
       "    <tr>\n",
       "      <th>3</th>\n",
       "      <td>3</td>\n",
       "      <td>dacAIZ6fTM6mqwW5uxkskg</td>\n",
       "      <td>ikCg8xy5JIg_NGPx-MSIDA</td>\n",
       "      <td>yi0R0Ugj_xUx_Nek0-_Qig</td>\n",
       "      <td>5.0</td>\n",
       "      <td>2018-01-09 20:56:38</td>\n",
       "      <td>0.0</td>\n",
       "      <td>0.0</td>\n",
       "      <td>0.0</td>\n",
       "      <td>Went in for a lunch. Steak sandwich was delici...</td>\n",
       "    </tr>\n",
       "    <tr>\n",
       "      <th>4</th>\n",
       "      <td>4</td>\n",
       "      <td>ssoyf2_x0EQMed6fgHeMyQ</td>\n",
       "      <td>b1b1eb3uo-w561D0ZfCEiQ</td>\n",
       "      <td>11a8sVPMUFtaC7_ABRkmtw</td>\n",
       "      <td>1.0</td>\n",
       "      <td>2018-01-30 23:07:38</td>\n",
       "      <td>7.0</td>\n",
       "      <td>0.0</td>\n",
       "      <td>0.0</td>\n",
       "      <td>Today was my second out of three sessions I ha...</td>\n",
       "    </tr>\n",
       "  </tbody>\n",
       "</table>\n",
       "</div>"
      ],
      "text/plain": [
       "  Unnamed: 0                 user_id             business_id  \\\n",
       "0          0  hG7b0MtEbXx5QzbzE6C_VA  ujmEBvifdJM6h6RLv4wQIg   \n",
       "1          1  yXQM5uF2jS6es16SJzNHfg  NZnhc2sEQy3RmzKTZnqtwQ   \n",
       "2          2  n6-Gk65cPZL6Uz8qRm3NYw  WTqjgwHlXbSFevF32_DJVw   \n",
       "3          3  dacAIZ6fTM6mqwW5uxkskg  ikCg8xy5JIg_NGPx-MSIDA   \n",
       "4          4  ssoyf2_x0EQMed6fgHeMyQ  b1b1eb3uo-w561D0ZfCEiQ   \n",
       "\n",
       "                review_id  rating                 date  useful  funny  cool  \\\n",
       "0  Q1sbwvVQXV2734tPgoKj4Q     1.0  2013-05-07 04:34:36     6.0    1.0   0.0   \n",
       "1  GJXCdrto3ASJOqKeVWPi6Q     5.0  2017-01-14 21:30:33     0.0    0.0   0.0   \n",
       "2  2TzJjDVDEuAW6MR5Vuc1ug     5.0  2016-11-09 20:09:03     3.0    0.0   0.0   \n",
       "3  yi0R0Ugj_xUx_Nek0-_Qig     5.0  2018-01-09 20:56:38     0.0    0.0   0.0   \n",
       "4  11a8sVPMUFtaC7_ABRkmtw     1.0  2018-01-30 23:07:38     7.0    0.0   0.0   \n",
       "\n",
       "                                                text  \n",
       "0  Total bill for this horrible service? Over $8G...  \n",
       "1  I *adore* Travis at the Hard Rock's new Kelly ...  \n",
       "2  I have to say that this office really has it t...  \n",
       "3  Went in for a lunch. Steak sandwich was delici...  \n",
       "4  Today was my second out of three sessions I ha...  "
      ]
     },
     "execution_count": 4,
     "metadata": {},
     "output_type": "execute_result"
    }
   ],
   "source": [
    "ratings=pd.read_csv('ratings.csv')\n",
    "ratings.head()"
   ]
  },
  {
   "cell_type": "code",
   "execution_count": 5,
   "metadata": {},
   "outputs": [
    {
     "data": {
      "text/plain": [
       "6685902"
      ]
     },
     "execution_count": 5,
     "metadata": {},
     "output_type": "execute_result"
    }
   ],
   "source": [
    "len(ratings)"
   ]
  },
  {
   "cell_type": "code",
   "execution_count": 6,
   "metadata": {},
   "outputs": [
    {
     "data": {
      "text/plain": [
       "1637139"
      ]
     },
     "execution_count": 6,
     "metadata": {},
     "output_type": "execute_result"
    }
   ],
   "source": [
    "len(ratings.user_id.unique())"
   ]
  },
  {
   "cell_type": "code",
   "execution_count": 7,
   "metadata": {},
   "outputs": [
    {
     "data": {
      "text/plain": [
       "192607"
      ]
     },
     "execution_count": 7,
     "metadata": {},
     "output_type": "execute_result"
    }
   ],
   "source": [
    "len(ratings.business_id.unique())"
   ]
  },
  {
   "cell_type": "code",
   "execution_count": 8,
   "metadata": {},
   "outputs": [
    {
     "data": {
      "text/plain": [
       "Index(['Unnamed: 0', 'user_id', 'business_id', 'review_id', 'rating', 'date',\n",
       "       'useful', 'funny', 'cool', 'text'],\n",
       "      dtype='object')"
      ]
     },
     "execution_count": 8,
     "metadata": {},
     "output_type": "execute_result"
    }
   ],
   "source": [
    "ratings.columns"
   ]
  },
  {
   "cell_type": "markdown",
   "metadata": {},
   "source": [
    "# Distribution of Ratings in ratings data\n"
   ]
  },
  {
   "cell_type": "code",
   "execution_count": 13,
   "metadata": {},
   "outputs": [
    {
     "data": {
      "image/png": "[encoded data removed]",
      "text/plain": [
       "<Figure size 432x288 with 1 Axes>"
      ]
     },
     "metadata": {
      "needs_background": "light"
     },
     "output_type": "display_data"
    }
   ],
   "source": [
    "x=ratings['rating'].value_counts().rename_axis('ratings').reset_index(name='UserCount').sort_values(by=['ratings'])\n",
    "plt.bar([i for i in range(5)], x['UserCount'])\n",
    "plt.xticks([i for i in range(5)],x['ratings'])\n",
    "plt.xlabel(\"Ratings\")\n",
    "plt.ylabel(\"Number of Users\")\n",
    "plt.show()\n",
    "\n"
   ]
  },
  {
   "cell_type": "markdown",
   "metadata": {},
   "source": [
    "# Create business dataframe"
   ]
  },
  {
   "cell_type": "code",
   "execution_count": 7,
   "metadata": {},
   "outputs": [
    {
     "name": "stderr",
     "output_type": "stream",
     "text": [
      "100%|██████████| 192609/192609 [00:03<00:00, 62004.46it/s]\n"
     ]
    }
   ],
   "source": [
    "line_count = len(open(\"yelp_dataset/business.json\").readlines())\n",
    "\n",
    "business_id, name ,address,city ,state,postal_code ,latitude ,longitude ,stars ,review_count ,is_open,attributes ,categories =[],[],[],[],[],[],[],[],[],[],[],[],[]\n",
    "\n",
    "with open(\"yelp_dataset/business.json\") as f:\n",
    "    for line in tqdm(f, total=line_count):\n",
    "        blob = json.loads(line)\n",
    "        business_id+=[blob[\"business_id\"]]\n",
    "        name += [blob[\"name\"]]\n",
    "        address += [blob[\"address\"]]\n",
    "        city += [blob[\"city\"]]\n",
    "        state+= [blob[\"state\"]]\n",
    "        postal_code += [blob[\"postal_code\"]]\n",
    "        latitude += [blob[\"latitude\"]]\n",
    "        longitude += [blob[\"longitude\"]]\n",
    "        stars += [blob[\"stars\"]]\n",
    "        review_count += [blob[\"review_count\"]]\n",
    "        is_open += [blob[\"is_open\"]]\n",
    "        attributes += [blob[\"attributes\"]]\n",
    "        categories += [blob[\"categories\"]]\n",
    "business = pd.DataFrame(\n",
    "    {\"business_id\":business_id, \"name\":name,\n",
    "         \"address\":address,\"city\":city,\"state\": state, \"postal_code\":postal_code,\"latitude\":latitude,\n",
    "     \"longitude\":longitude,\n",
    "        \"stars\":stars,\n",
    "         \"review_count\":review_count,\n",
    "        \"is_open\":is_open,\n",
    "        \"attributes\":attributes,\n",
    "         \"categories\":categories})\n",
    "business.to_csv(\"business.csv\")"
   ]
  },
  {
   "cell_type": "code",
   "execution_count": 9,
   "metadata": {},
   "outputs": [
    {
     "data": {
      "text/html": [
       "<div>\n",
       "<style scoped>\n",
       "    .dataframe tbody tr th:only-of-type {\n",
       "        vertical-align: middle;\n",
       "    }\n",
       "\n",
       "    .dataframe tbody tr th {\n",
       "        vertical-align: top;\n",
       "    }\n",
       "\n",
       "    .dataframe thead th {\n",
       "        text-align: right;\n",
       "    }\n",
       "</style>\n",
       "<table border=\"1\" class=\"dataframe\">\n",
       "  <thead>\n",
       "    <tr style=\"text-align: right;\">\n",
       "      <th></th>\n",
       "      <th>Unnamed: 0</th>\n",
       "      <th>business_id</th>\n",
       "      <th>name</th>\n",
       "      <th>address</th>\n",
       "      <th>city</th>\n",
       "      <th>state</th>\n",
       "      <th>postal_code</th>\n",
       "      <th>latitude</th>\n",
       "      <th>longitude</th>\n",
       "      <th>stars</th>\n",
       "      <th>review_count</th>\n",
       "      <th>is_open</th>\n",
       "      <th>attributes</th>\n",
       "      <th>categories</th>\n",
       "    </tr>\n",
       "  </thead>\n",
       "  <tbody>\n",
       "    <tr>\n",
       "      <th>0</th>\n",
       "      <td>0</td>\n",
       "      <td>1SWheh84yJXfytovILXOAQ</td>\n",
       "      <td>Arizona Biltmore Golf Club</td>\n",
       "      <td>2818 E Camino Acequia Drive</td>\n",
       "      <td>Phoenix</td>\n",
       "      <td>AZ</td>\n",
       "      <td>85016</td>\n",
       "      <td>33.522143</td>\n",
       "      <td>-112.018481</td>\n",
       "      <td>3.0</td>\n",
       "      <td>5</td>\n",
       "      <td>0</td>\n",
       "      <td>{'GoodForKids': 'False'}</td>\n",
       "      <td>Golf, Active Life</td>\n",
       "    </tr>\n",
       "    <tr>\n",
       "      <th>1</th>\n",
       "      <td>1</td>\n",
       "      <td>QXAEGFB4oINsVuTFxEYKFQ</td>\n",
       "      <td>Emerald Chinese Restaurant</td>\n",
       "      <td>30 Eglinton Avenue W</td>\n",
       "      <td>Mississauga</td>\n",
       "      <td>ON</td>\n",
       "      <td>L5R 3E7</td>\n",
       "      <td>43.605499</td>\n",
       "      <td>-79.652289</td>\n",
       "      <td>2.5</td>\n",
       "      <td>128</td>\n",
       "      <td>1</td>\n",
       "      <td>{'RestaurantsReservations': 'True', 'GoodForMe...</td>\n",
       "      <td>Specialty Food, Restaurants, Dim Sum, Imported...</td>\n",
       "    </tr>\n",
       "    <tr>\n",
       "      <th>2</th>\n",
       "      <td>2</td>\n",
       "      <td>gnKjwL_1w79qoiV3IC_xQQ</td>\n",
       "      <td>Musashi Japanese Restaurant</td>\n",
       "      <td>10110 Johnston Rd, Ste 15</td>\n",
       "      <td>Charlotte</td>\n",
       "      <td>NC</td>\n",
       "      <td>28210</td>\n",
       "      <td>35.092564</td>\n",
       "      <td>-80.859132</td>\n",
       "      <td>4.0</td>\n",
       "      <td>170</td>\n",
       "      <td>1</td>\n",
       "      <td>{'GoodForKids': 'True', 'NoiseLevel': \"u'avera...</td>\n",
       "      <td>Sushi Bars, Restaurants, Japanese</td>\n",
       "    </tr>\n",
       "    <tr>\n",
       "      <th>3</th>\n",
       "      <td>3</td>\n",
       "      <td>xvX2CttrVhyG2z1dFg_0xw</td>\n",
       "      <td>Farmers Insurance - Paul Lorenz</td>\n",
       "      <td>15655 W Roosevelt St, Ste 237</td>\n",
       "      <td>Goodyear</td>\n",
       "      <td>AZ</td>\n",
       "      <td>85338</td>\n",
       "      <td>33.455613</td>\n",
       "      <td>-112.395596</td>\n",
       "      <td>5.0</td>\n",
       "      <td>3</td>\n",
       "      <td>1</td>\n",
       "      <td>NaN</td>\n",
       "      <td>Insurance, Financial Services</td>\n",
       "    </tr>\n",
       "    <tr>\n",
       "      <th>4</th>\n",
       "      <td>4</td>\n",
       "      <td>HhyxOkGAM07SRYtlQ4wMFQ</td>\n",
       "      <td>Queen City Plumbing</td>\n",
       "      <td>4209 Stuart Andrew Blvd, Ste F</td>\n",
       "      <td>Charlotte</td>\n",
       "      <td>NC</td>\n",
       "      <td>28217</td>\n",
       "      <td>35.190012</td>\n",
       "      <td>-80.887223</td>\n",
       "      <td>4.0</td>\n",
       "      <td>4</td>\n",
       "      <td>1</td>\n",
       "      <td>{'BusinessAcceptsBitcoin': 'False', 'ByAppoint...</td>\n",
       "      <td>Plumbing, Shopping, Local Services, Home Servi...</td>\n",
       "    </tr>\n",
       "  </tbody>\n",
       "</table>\n",
       "</div>"
      ],
      "text/plain": [
       "   Unnamed: 0             business_id                             name  \\\n",
       "0           0  1SWheh84yJXfytovILXOAQ       Arizona Biltmore Golf Club   \n",
       "1           1  QXAEGFB4oINsVuTFxEYKFQ       Emerald Chinese Restaurant   \n",
       "2           2  gnKjwL_1w79qoiV3IC_xQQ      Musashi Japanese Restaurant   \n",
       "3           3  xvX2CttrVhyG2z1dFg_0xw  Farmers Insurance - Paul Lorenz   \n",
       "4           4  HhyxOkGAM07SRYtlQ4wMFQ              Queen City Plumbing   \n",
       "\n",
       "                          address         city state postal_code   latitude  \\\n",
       "0     2818 E Camino Acequia Drive      Phoenix    AZ       85016  33.522143   \n",
       "1            30 Eglinton Avenue W  Mississauga    ON     L5R 3E7  43.605499   \n",
       "2       10110 Johnston Rd, Ste 15    Charlotte    NC       28210  35.092564   \n",
       "3   15655 W Roosevelt St, Ste 237     Goodyear    AZ       85338  33.455613   \n",
       "4  4209 Stuart Andrew Blvd, Ste F    Charlotte    NC       28217  35.190012   \n",
       "\n",
       "    longitude  stars  review_count  is_open  \\\n",
       "0 -112.018481    3.0             5        0   \n",
       "1  -79.652289    2.5           128        1   \n",
       "2  -80.859132    4.0           170        1   \n",
       "3 -112.395596    5.0             3        1   \n",
       "4  -80.887223    4.0             4        1   \n",
       "\n",
       "                                          attributes  \\\n",
       "0                           {'GoodForKids': 'False'}   \n",
       "1  {'RestaurantsReservations': 'True', 'GoodForMe...   \n",
       "2  {'GoodForKids': 'True', 'NoiseLevel': \"u'avera...   \n",
       "3                                                NaN   \n",
       "4  {'BusinessAcceptsBitcoin': 'False', 'ByAppoint...   \n",
       "\n",
       "                                          categories  \n",
       "0                                  Golf, Active Life  \n",
       "1  Specialty Food, Restaurants, Dim Sum, Imported...  \n",
       "2                  Sushi Bars, Restaurants, Japanese  \n",
       "3                      Insurance, Financial Services  \n",
       "4  Plumbing, Shopping, Local Services, Home Servi...  "
      ]
     },
     "execution_count": 9,
     "metadata": {},
     "output_type": "execute_result"
    }
   ],
   "source": [
    "business=pd.read_csv(\"business.csv\")\n",
    "business.head()"
   ]
  },
  {
   "cell_type": "code",
   "execution_count": 10,
   "metadata": {},
   "outputs": [
    {
     "data": {
      "text/plain": [
       "Index(['Unnamed: 0', 'business_id', 'name', 'address', 'city', 'state',\n",
       "       'postal_code', 'latitude', 'longitude', 'stars', 'review_count',\n",
       "       'is_open', 'attributes', 'categories'],\n",
       "      dtype='object')"
      ]
     },
     "execution_count": 10,
     "metadata": {},
     "output_type": "execute_result"
    }
   ],
   "source": [
    "business.columns"
   ]
  },
  {
   "cell_type": "markdown",
   "metadata": {},
   "source": [
    "# See the distribution of business in different cities\n",
    "# Las Vegas Toronto Phoenix have most businesses "
   ]
  },
  {
   "cell_type": "code",
   "execution_count": 9,
   "metadata": {},
   "outputs": [
    {
     "data": {
      "text/plain": [
       "<matplotlib.axes._subplots.AxesSubplot at 0x7fadd29d8048>"
      ]
     },
     "execution_count": 9,
     "metadata": {},
     "output_type": "execute_result"
    },
    {
     "data": {
      "image/png": "[encoded data removed]",
      "text/plain": [
       "<Figure size 432x288 with 1 Axes>"
      ]
     },
     "metadata": {
      "needs_background": "light"
     },
     "output_type": "display_data"
    }
   ],
   "source": [
    "df_bus_groups = business.groupby('city').count()\n",
    "df_bus_city = df_bus_groups['name']\n",
    "df_bus_city_sorted = df_bus_city.sort_values(ascending = False)\n",
    "df_bus_city_sorted[:30].plot(kind = 'bar')"
   ]
  },
  {
   "cell_type": "markdown",
   "metadata": {},
   "source": [
    "# Businesses categories and their Count"
   ]
  },
  {
   "cell_type": "code",
   "execution_count": 10,
   "metadata": {},
   "outputs": [
    {
     "data": {
      "text/plain": [
       "<matplotlib.axes._subplots.AxesSubplot at 0x7fadd2856f98>"
      ]
     },
     "execution_count": 10,
     "metadata": {},
     "output_type": "execute_result"
    },
    {
     "data": {
      "image/png": "[encoded data removed]",
      "text/plain": [
       "<Figure size 432x288 with 1 Axes>"
      ]
     },
     "metadata": {
      "needs_background": "light"
     },
     "output_type": "display_data"
    }
   ],
   "source": [
    "category_business = {}\n",
    "for i in business.categories:\n",
    "    cat = str(i).split(',')\n",
    "    for j in cat:\n",
    "        if j not in category_business.keys():\n",
    "            category_business[j] = 1\n",
    "        else:\n",
    "            category_business[j] += 1\n",
    "category_business_series = pd.Series(category_business)\n",
    "category_business_series.sort_values(ascending = False, inplace = True)\n",
    "category_business_series[:30].plot(kind = 'bar')"
   ]
  },
  {
   "cell_type": "markdown",
   "metadata": {},
   "source": [
    "# Business and City Ordered pairs and their count"
   ]
  },
  {
   "cell_type": "code",
   "execution_count": 11,
   "metadata": {},
   "outputs": [
    {
     "data": {
      "text/plain": [
       "<matplotlib.axes._subplots.AxesSubplot at 0x7fadcf1ba668>"
      ]
     },
     "execution_count": 11,
     "metadata": {},
     "output_type": "execute_result"
    },
    {
     "data": {
      "image/png": "[encoded data removed]",
      "text/plain": [
       "<Figure size 432x288 with 1 Axes>"
      ]
     },
     "metadata": {
      "needs_background": "light"
     },
     "output_type": "display_data"
    }
   ],
   "source": [
    "business_city = {}\n",
    "n = len(business)\n",
    "for i in range(n):\n",
    "    k1 = str(business.categories.iloc[i]).split(',')\n",
    "    k2 = business.city.iloc[i]\n",
    "    for j in k1:\n",
    "        k = (j,k2)\n",
    "        if k not in business_city.keys():\n",
    "            business_city[k] = 1\n",
    "        else:\n",
    "            business_city[k] += 1\n",
    "business_city_series = pd.Series(business_city)\n",
    "business_city_series.sort_values(ascending = False, inplace = True)\n",
    "business_city_series[:30].plot(kind = 'bar')"
   ]
  },
  {
   "cell_type": "markdown",
   "metadata": {},
   "source": [
    "# Create User data_frame"
   ]
  },
  {
   "cell_type": "code",
   "execution_count": 14,
   "metadata": {},
   "outputs": [],
   "source": [
    "path = 'yelp_dataset/user.json'\n",
    "user = []\n",
    "with open(path) as fin:\n",
    "    i = 0 \n",
    "    for line in fin:\n",
    "        line_contents = json.loads(line)\n",
    "        user.append(line_contents)"
   ]
  },
  {
   "cell_type": "code",
   "execution_count": 15,
   "metadata": {},
   "outputs": [],
   "source": [
    "user_df = pd.DataFrame(user)\n",
    "user_df.to_csv('user.csv')"
   ]
  },
  {
   "cell_type": "code",
   "execution_count": 11,
   "metadata": {},
   "outputs": [
    {
     "name": "stderr",
     "output_type": "stream",
     "text": [
      "/home/darshan/anaconda3/lib/python3.7/site-packages/IPython/core/interactiveshell.py:3057: DtypeWarning: Columns (14) have mixed types. Specify dtype option on import or set low_memory=False.\n",
      "  interactivity=interactivity, compiler=compiler, result=result)\n"
     ]
    }
   ],
   "source": [
    "user_df=pd.read_csv('user.csv')"
   ]
  },
  {
   "cell_type": "code",
   "execution_count": 16,
   "metadata": {},
   "outputs": [
    {
     "data": {
      "text/html": [
       "<div>\n",
       "<style scoped>\n",
       "    .dataframe tbody tr th:only-of-type {\n",
       "        vertical-align: middle;\n",
       "    }\n",
       "\n",
       "    .dataframe tbody tr th {\n",
       "        vertical-align: top;\n",
       "    }\n",
       "\n",
       "    .dataframe thead th {\n",
       "        text-align: right;\n",
       "    }\n",
       "</style>\n",
       "<table border=\"1\" class=\"dataframe\">\n",
       "  <thead>\n",
       "    <tr style=\"text-align: right;\">\n",
       "      <th></th>\n",
       "      <th>average_stars</th>\n",
       "      <th>compliment_cool</th>\n",
       "      <th>compliment_cute</th>\n",
       "      <th>compliment_funny</th>\n",
       "      <th>compliment_hot</th>\n",
       "      <th>compliment_list</th>\n",
       "      <th>compliment_more</th>\n",
       "      <th>compliment_note</th>\n",
       "      <th>compliment_photos</th>\n",
       "      <th>compliment_plain</th>\n",
       "      <th>...</th>\n",
       "      <th>cool</th>\n",
       "      <th>elite</th>\n",
       "      <th>fans</th>\n",
       "      <th>friends</th>\n",
       "      <th>funny</th>\n",
       "      <th>name</th>\n",
       "      <th>review_count</th>\n",
       "      <th>useful</th>\n",
       "      <th>user_id</th>\n",
       "      <th>yelping_since</th>\n",
       "    </tr>\n",
       "  </thead>\n",
       "  <tbody>\n",
       "    <tr>\n",
       "      <th>0</th>\n",
       "      <td>4.03</td>\n",
       "      <td>1</td>\n",
       "      <td>0</td>\n",
       "      <td>1</td>\n",
       "      <td>2</td>\n",
       "      <td>0</td>\n",
       "      <td>0</td>\n",
       "      <td>1</td>\n",
       "      <td>0</td>\n",
       "      <td>1</td>\n",
       "      <td>...</td>\n",
       "      <td>25</td>\n",
       "      <td>2015,2016,2017</td>\n",
       "      <td>5</td>\n",
       "      <td>c78V-rj8NQcQjOI8KP3UEA, alRMgPcngYSCJ5naFRBz5g...</td>\n",
       "      <td>17</td>\n",
       "      <td>Rashmi</td>\n",
       "      <td>95</td>\n",
       "      <td>84</td>\n",
       "      <td>l6BmjZMeQD3rDxWUbiAiow</td>\n",
       "      <td>2013-10-08 23:11:33</td>\n",
       "    </tr>\n",
       "    <tr>\n",
       "      <th>1</th>\n",
       "      <td>3.63</td>\n",
       "      <td>1</td>\n",
       "      <td>0</td>\n",
       "      <td>1</td>\n",
       "      <td>1</td>\n",
       "      <td>0</td>\n",
       "      <td>0</td>\n",
       "      <td>0</td>\n",
       "      <td>0</td>\n",
       "      <td>0</td>\n",
       "      <td>...</td>\n",
       "      <td>16</td>\n",
       "      <td></td>\n",
       "      <td>4</td>\n",
       "      <td>kEBTgDvFX754S68FllfCaA, aB2DynOxNOJK9st2ZeGTPg...</td>\n",
       "      <td>22</td>\n",
       "      <td>Jenna</td>\n",
       "      <td>33</td>\n",
       "      <td>48</td>\n",
       "      <td>4XChL029mKr5hydo79Ljxg</td>\n",
       "      <td>2013-02-21 22:29:06</td>\n",
       "    </tr>\n",
       "    <tr>\n",
       "      <th>2</th>\n",
       "      <td>3.71</td>\n",
       "      <td>0</td>\n",
       "      <td>0</td>\n",
       "      <td>0</td>\n",
       "      <td>0</td>\n",
       "      <td>0</td>\n",
       "      <td>0</td>\n",
       "      <td>1</td>\n",
       "      <td>0</td>\n",
       "      <td>0</td>\n",
       "      <td>...</td>\n",
       "      <td>10</td>\n",
       "      <td></td>\n",
       "      <td>0</td>\n",
       "      <td>4N-HU_T32hLENLntsNKNBg, pSY2vwWLgWfGVAAiKQzMng...</td>\n",
       "      <td>8</td>\n",
       "      <td>David</td>\n",
       "      <td>16</td>\n",
       "      <td>28</td>\n",
       "      <td>bc8C_eETBWL0olvFSJJd0w</td>\n",
       "      <td>2013-10-04 00:16:10</td>\n",
       "    </tr>\n",
       "    <tr>\n",
       "      <th>3</th>\n",
       "      <td>4.85</td>\n",
       "      <td>0</td>\n",
       "      <td>0</td>\n",
       "      <td>0</td>\n",
       "      <td>1</td>\n",
       "      <td>0</td>\n",
       "      <td>0</td>\n",
       "      <td>0</td>\n",
       "      <td>0</td>\n",
       "      <td>2</td>\n",
       "      <td>...</td>\n",
       "      <td>14</td>\n",
       "      <td></td>\n",
       "      <td>5</td>\n",
       "      <td>RZ6wS38wnlXyj-OOdTzBxA, l5jxZh1KsgI8rMunm-GN6A...</td>\n",
       "      <td>4</td>\n",
       "      <td>Angela</td>\n",
       "      <td>17</td>\n",
       "      <td>30</td>\n",
       "      <td>dD0gZpBctWGdWo9WlGuhlA</td>\n",
       "      <td>2014-05-22 15:57:30</td>\n",
       "    </tr>\n",
       "    <tr>\n",
       "      <th>4</th>\n",
       "      <td>4.08</td>\n",
       "      <td>80</td>\n",
       "      <td>0</td>\n",
       "      <td>80</td>\n",
       "      <td>28</td>\n",
       "      <td>1</td>\n",
       "      <td>1</td>\n",
       "      <td>16</td>\n",
       "      <td>5</td>\n",
       "      <td>57</td>\n",
       "      <td>...</td>\n",
       "      <td>665</td>\n",
       "      <td>2015,2016,2017,2018</td>\n",
       "      <td>39</td>\n",
       "      <td>mbwrZ-RS76V1HoJ0bF_Geg, g64lOV39xSLRZO0aQQ6DeQ...</td>\n",
       "      <td>279</td>\n",
       "      <td>Nancy</td>\n",
       "      <td>361</td>\n",
       "      <td>1114</td>\n",
       "      <td>MM4RJAeH6yuaN8oZDSt0RA</td>\n",
       "      <td>2013-10-23 07:02:50</td>\n",
       "    </tr>\n",
       "  </tbody>\n",
       "</table>\n",
       "<p>5 rows × 22 columns</p>\n",
       "</div>"
      ],
      "text/plain": [
       "   average_stars  compliment_cool  compliment_cute  compliment_funny  \\\n",
       "0           4.03                1                0                 1   \n",
       "1           3.63                1                0                 1   \n",
       "2           3.71                0                0                 0   \n",
       "3           4.85                0                0                 0   \n",
       "4           4.08               80                0                80   \n",
       "\n",
       "   compliment_hot  compliment_list  compliment_more  compliment_note  \\\n",
       "0               2                0                0                1   \n",
       "1               1                0                0                0   \n",
       "2               0                0                0                1   \n",
       "3               1                0                0                0   \n",
       "4              28                1                1               16   \n",
       "\n",
       "   compliment_photos  compliment_plain  ...  cool                elite  fans  \\\n",
       "0                  0                 1  ...    25       2015,2016,2017     5   \n",
       "1                  0                 0  ...    16                          4   \n",
       "2                  0                 0  ...    10                          0   \n",
       "3                  0                 2  ...    14                          5   \n",
       "4                  5                57  ...   665  2015,2016,2017,2018    39   \n",
       "\n",
       "                                             friends  funny    name  \\\n",
       "0  c78V-rj8NQcQjOI8KP3UEA, alRMgPcngYSCJ5naFRBz5g...     17  Rashmi   \n",
       "1  kEBTgDvFX754S68FllfCaA, aB2DynOxNOJK9st2ZeGTPg...     22   Jenna   \n",
       "2  4N-HU_T32hLENLntsNKNBg, pSY2vwWLgWfGVAAiKQzMng...      8   David   \n",
       "3  RZ6wS38wnlXyj-OOdTzBxA, l5jxZh1KsgI8rMunm-GN6A...      4  Angela   \n",
       "4  mbwrZ-RS76V1HoJ0bF_Geg, g64lOV39xSLRZO0aQQ6DeQ...    279   Nancy   \n",
       "\n",
       "   review_count useful                 user_id        yelping_since  \n",
       "0            95     84  l6BmjZMeQD3rDxWUbiAiow  2013-10-08 23:11:33  \n",
       "1            33     48  4XChL029mKr5hydo79Ljxg  2013-02-21 22:29:06  \n",
       "2            16     28  bc8C_eETBWL0olvFSJJd0w  2013-10-04 00:16:10  \n",
       "3            17     30  dD0gZpBctWGdWo9WlGuhlA  2014-05-22 15:57:30  \n",
       "4           361   1114  MM4RJAeH6yuaN8oZDSt0RA  2013-10-23 07:02:50  \n",
       "\n",
       "[5 rows x 22 columns]"
      ]
     },
     "execution_count": 16,
     "metadata": {},
     "output_type": "execute_result"
    }
   ],
   "source": [
    "user_df.head()"
   ]
  },
  {
   "cell_type": "code",
   "execution_count": 12,
   "metadata": {},
   "outputs": [
    {
     "data": {
      "text/plain": [
       "Index(['Unnamed: 0', 'average_stars', 'compliment_cool', 'compliment_cute',\n",
       "       'compliment_funny', 'compliment_hot', 'compliment_list',\n",
       "       'compliment_more', 'compliment_note', 'compliment_photos',\n",
       "       'compliment_plain', 'compliment_profile', 'compliment_writer', 'cool',\n",
       "       'elite', 'fans', 'friends', 'funny', 'name', 'review_count', 'useful',\n",
       "       'user_id', 'yelping_since'],\n",
       "      dtype='object')"
      ]
     },
     "execution_count": 12,
     "metadata": {},
     "output_type": "execute_result"
    }
   ],
   "source": [
    "user_df.columns"
   ]
  },
  {
   "cell_type": "code",
   "execution_count": null,
   "metadata": {},
   "outputs": [],
   "source": []
  }
 ],
 "metadata": {
  "kernelspec": {
   "display_name": "Python 3",
   "language": "python",
   "name": "python3"
  },
  "language_info": {
   "codemirror_mode": {
    "name": "ipython",
    "version": 3
   },
   "file_extension": ".py",
   "mimetype": "text/x-python",
   "name": "python",
   "nbconvert_exporter": "python",
   "pygments_lexer": "ipython3",
   "version": "3.7.3"
  }
 },
 "nbformat": 4,
 "nbformat_minor": 2
}
