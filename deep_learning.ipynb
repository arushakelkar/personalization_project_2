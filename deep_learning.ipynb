{
 "cells": [
  {
   "cell_type": "code",
   "execution_count": 1,
   "metadata": {
    "colab": {
     "base_uri": "https://localhost:8080/",
     "height": 79
    },
    "colab_type": "code",
    "id": "JGYhBumsOw37",
    "outputId": "359a0fd4-499a-4ba1-b5b3-8a66777c3f39"
   },
   "outputs": [
    {
     "name": "stderr",
     "output_type": "stream",
     "text": [
      "Using TensorFlow backend.\n"
     ]
    }
   ],
   "source": [
    "import numpy as np\n",
    "import pandas as pd\n",
    "import matplotlib.pyplot as plt\n",
    "import os\n",
    "import warnings\n",
    "from keras.callbacks import ModelCheckpoint\n",
    "from keras.layers import Input, Embedding, Flatten, Dot, Dense, Concatenate\n",
    "from keras.models import Model"
   ]
  },
  {
   "cell_type": "markdown",
   "metadata": {
    "colab_type": "text",
    "id": "FFVr8Cx-1mUm"
   },
   "source": [
    "# Reading the cleaned dataset.\n"
   ]
  },
  {
   "cell_type": "code",
   "execution_count": 2,
   "metadata": {
    "colab": {},
    "colab_type": "code",
    "id": "VSu1kdDMOw3_"
   },
   "outputs": [],
   "source": [
    "sample = pd.read_csv('nan_clean_dataset.csv')"
   ]
  },
  {
   "cell_type": "code",
   "execution_count": 3,
   "metadata": {
    "colab": {
     "base_uri": "https://localhost:8080/",
     "height": 941
    },
    "colab_type": "code",
    "id": "VlUZ5GSJ4HBA",
    "outputId": "bb5638d7-ff14-44ab-9947-d6fa573cfb6e"
   },
   "outputs": [
    {
     "data": {
      "text/plain": [
       "Unnamed: 0                       0\n",
       "Unnamed: 0.1                     0\n",
       "user_id                          0\n",
       "business_id                      0\n",
       "review_id                        0\n",
       "rating                           0\n",
       "date                             0\n",
       "useful_x                         0\n",
       "funny_x                          0\n",
       "cool_x                           0\n",
       "text                             0\n",
       "name_x                           0\n",
       "address                       2222\n",
       "city                             0\n",
       "state                            0\n",
       "postal_code                    405\n",
       "latitude                         0\n",
       "longitude                        0\n",
       "stars                            0\n",
       "review_count_x                   0\n",
       "category                         0\n",
       "RestaurantsTakeOut               0\n",
       "RestaurantsPriceRange2           0\n",
       "GoodForKids                      0\n",
       "HasTV                            0\n",
       "RestaurantsGoodForGroups         0\n",
       "RestaurantsReservations          0\n",
       "WiFi                             0\n",
       "RestaurantsAttire                0\n",
       "Alcohol                          0\n",
       "OutdoorSeating                   0\n",
       "RestaurantsDelivery              0\n",
       "BikeParking                      0\n",
       "average_stars                    0\n",
       "compliment_cool                  0\n",
       "compliment_cute                  0\n",
       "compliment_funny                 0\n",
       "compliment_hot                   0\n",
       "compliment_list                  0\n",
       "compliment_more                  0\n",
       "compliment_note                  0\n",
       "compliment_photos                0\n",
       "compliment_plain                 0\n",
       "compliment_profile               0\n",
       "compliment_writer                0\n",
       "cool_y                           0\n",
       "elite                       520790\n",
       "fans                             0\n",
       "friends                          0\n",
       "funny_y                          0\n",
       "name_y                           0\n",
       "review_count_y                   0\n",
       "useful_y                         0\n",
       "yelping_since                    0\n",
       "dtype: int64"
      ]
     },
     "execution_count": 3,
     "metadata": {},
     "output_type": "execute_result"
    }
   ],
   "source": [
    "sample.isnull().sum()"
   ]
  },
  {
   "cell_type": "markdown",
   "metadata": {
    "colab_type": "text",
    "id": "qDkDIXZ-2DGO"
   },
   "source": [
    "# Creating a dictionary for mapping user_id and business_id to integer values"
   ]
  },
  {
   "cell_type": "code",
   "execution_count": 4,
   "metadata": {
    "colab": {
     "base_uri": "https://localhost:8080/",
     "height": 50
    },
    "colab_type": "code",
    "id": "49U1FyG7Ow4D",
    "outputId": "ab5eea56-ff15-40d1-c511-ad6e3c497e36"
   },
   "outputs": [
    {
     "name": "stdout",
     "output_type": "stream",
     "text": [
      "<generator object <genexpr> at 0x000001EA8F6BA248>\n",
      "<generator object <genexpr> at 0x000001EA8F6BA248>\n"
     ]
    }
   ],
   "source": [
    "d = dict([(y,x+1) for x,y in enumerate(sorted(set(sample['user_id'])))])\n",
    "print(d[x] for x in sample['user_id'])\n",
    "#print(X_train_array[0])\n",
    "#max_value = max(d.values())\n",
    "#print(max_value)\n",
    "l = []\n",
    "for i in sample['user_id']:\n",
    "     l.append(d[i])\n",
    "\n",
    "sample['USER_ID']=l\n",
    "        \n",
    "db = dict([(y,x+1) for x,y in enumerate(sorted(set(sample['business_id'])))])\n",
    "print(db[x] for x in sample['business_id'])\n",
    "#print(X_train_array[0])\n",
    "lb=[]\n",
    "for i in sample['business_id']:\n",
    "    lb.append(db[i])\n",
    "\n",
    "sample['BUSINESS_ID']=lb"
   ]
  },
  {
   "cell_type": "markdown",
   "metadata": {
    "colab_type": "text",
    "id": "h-aVGExo2X0x"
   },
   "source": [
    "# Reading the X_test, X_train, y_test and y_train created previously.\n",
    " "
   ]
  },
  {
   "cell_type": "code",
   "execution_count": 5,
   "metadata": {
    "colab": {},
    "colab_type": "code",
    "id": "aCjcfzhOOw4J"
   },
   "outputs": [],
   "source": [
    "X_train = pd.read_csv('X_train.csv')\n",
    "X_test = pd.read_csv('X_test.csv')\n",
    "y_train = pd.read_csv('y_train.csv')\n",
    "y_test = pd.read_csv('y_test.csv')"
   ]
  },
  {
   "cell_type": "code",
   "execution_count": 10,
   "metadata": {
    "colab": {},
    "colab_type": "code",
    "id": "8blpV0yNgyr5"
   },
   "outputs": [],
   "source": [
    "X_train = X_train.drop(columns=['Unnamed: 0'])\n",
    "X_test = X_test.drop(columns=['Unnamed: 0'])\n",
    "y_test = y_test.drop(columns=['Unnamed: 0'])\n",
    "y_train = y_train.drop(columns=['Unnamed: 0'])"
   ]
  },
  {
   "cell_type": "markdown",
   "metadata": {
    "colab_type": "text",
    "id": "yFUCJ1pi3E0c"
   },
   "source": [
    "# Mapping user_ids and business_ids in the X_train and X_test dataframe to the dictionary created."
   ]
  },
  {
   "cell_type": "code",
   "execution_count": 11,
   "metadata": {
    "colab": {},
    "colab_type": "code",
    "id": "CfiZT3G_Ow4T"
   },
   "outputs": [],
   "source": [
    "l = []\n",
    "for i in X_train['user_id']:\n",
    "     l.append(d[i])\n",
    "\n",
    "X_train['USER_ID'] = l\n",
    "\n",
    "k = []\n",
    "for i in X_test['user_id']:\n",
    "     k.append(d[i])\n",
    "        \n",
    "X_test['USER_ID'] = k"
   ]
  },
  {
   "cell_type": "code",
   "execution_count": 12,
   "metadata": {
    "colab": {},
    "colab_type": "code",
    "id": "jrjGsoBn5okZ"
   },
   "outputs": [],
   "source": [
    "l = []\n",
    "for i in X_train['business_id']:\n",
    "     l.append(db[i])\n",
    "\n",
    "X_train['BUSINESS_ID'] = l\n",
    "\n",
    "k = []\n",
    "for i in X_test['business_id']:\n",
    "     k.append(db[i])\n",
    "        \n",
    "X_test['BUSINESS_ID'] = k"
   ]
  },
  {
   "cell_type": "code",
   "execution_count": 13,
   "metadata": {
    "colab": {
     "base_uri": "https://localhost:8080/",
     "height": 34
    },
    "colab_type": "code",
    "id": "YItck4plOw4W",
    "outputId": "ff9d71f8-1889-4f8c-9465-2143e8131db4"
   },
   "outputs": [
    {
     "data": {
      "text/plain": [
       "(947066, 3)"
      ]
     },
     "execution_count": 13,
     "metadata": {},
     "output_type": "execute_result"
    }
   ],
   "source": [
    "sample.head()\n",
    "dataset = sample[['rating','USER_ID','BUSINESS_ID']]\n",
    "dataset.shape"
   ]
  },
  {
   "cell_type": "markdown",
   "metadata": {
    "colab_type": "text",
    "id": "KPr24S8b3nwr"
   },
   "source": [
    "# Getting the number of unique values of the features to be supplied in the deep learning model."
   ]
  },
  {
   "cell_type": "code",
   "execution_count": 14,
   "metadata": {
    "colab": {
     "base_uri": "https://localhost:8080/",
     "height": 34
    },
    "colab_type": "code",
    "id": "Gnbsu-XWOw4c",
    "outputId": "c0efe3a1-dce0-48f6-e409-ec481e31289a"
   },
   "outputs": [
    {
     "data": {
      "text/plain": [
       "66968"
      ]
     },
     "execution_count": 14,
     "metadata": {},
     "output_type": "execute_result"
    }
   ],
   "source": [
    "n_users = len(sample.USER_ID.unique())\n",
    "n_users"
   ]
  },
  {
   "cell_type": "code",
   "execution_count": 15,
   "metadata": {
    "colab": {
     "base_uri": "https://localhost:8080/",
     "height": 34
    },
    "colab_type": "code",
    "id": "eMXRyigOOw4f",
    "outputId": "204e2596-c778-451f-f1a1-38b449a68861"
   },
   "outputs": [
    {
     "data": {
      "text/plain": [
       "18208"
      ]
     },
     "execution_count": 15,
     "metadata": {},
     "output_type": "execute_result"
    }
   ],
   "source": [
    "n_busi = len(sample.BUSINESS_ID.unique())\n",
    "n_busi"
   ]
  },
  {
   "cell_type": "code",
   "execution_count": 16,
   "metadata": {
    "colab": {
     "base_uri": "https://localhost:8080/",
     "height": 34
    },
    "colab_type": "code",
    "id": "SQiRrgmnMjJc",
    "outputId": "202ce487-1f97-489d-c09e-ebf59a0d3b68"
   },
   "outputs": [
    {
     "data": {
      "text/plain": [
       "9"
      ]
     },
     "execution_count": 16,
     "metadata": {},
     "output_type": "execute_result"
    }
   ],
   "source": [
    "n_stars = len(sample.stars.unique())\n",
    "n_stars"
   ]
  },
  {
   "cell_type": "code",
   "execution_count": 17,
   "metadata": {
    "colab": {
     "base_uri": "https://localhost:8080/",
     "height": 34
    },
    "colab_type": "code",
    "id": "PKe7wgT4UGHU",
    "outputId": "b18ee16e-68ed-4523-ebcf-bf52ae8c2904"
   },
   "outputs": [
    {
     "data": {
      "text/plain": [
       "333"
      ]
     },
     "execution_count": 17,
     "metadata": {},
     "output_type": "execute_result"
    }
   ],
   "source": [
    "n_useful = sample.useful_x.max()\n",
    "n_useful = int(n_useful)\n",
    "n_useful"
   ]
  },
  {
   "cell_type": "code",
   "execution_count": 18,
   "metadata": {
    "colab": {
     "base_uri": "https://localhost:8080/",
     "height": 34
    },
    "colab_type": "code",
    "id": "51OF6d0_cMDE",
    "outputId": "0d1af4ee-9ca3-4e34-ec68-3fd1ac74cc9a"
   },
   "outputs": [
    {
     "data": {
      "text/plain": [
       "2"
      ]
     },
     "execution_count": 18,
     "metadata": {},
     "output_type": "execute_result"
    }
   ],
   "source": [
    "n_restakeout = len(sample.RestaurantsTakeOut.unique())\n",
    "n_restakeout"
   ]
  },
  {
   "cell_type": "code",
   "execution_count": 19,
   "metadata": {
    "colab": {
     "base_uri": "https://localhost:8080/",
     "height": 34
    },
    "colab_type": "code",
    "id": "KufH8AFh7jc6",
    "outputId": "1ba7f29b-b49a-418d-fae1-b9da76247254"
   },
   "outputs": [
    {
     "data": {
      "text/plain": [
       "5"
      ]
     },
     "execution_count": 19,
     "metadata": {},
     "output_type": "execute_result"
    }
   ],
   "source": [
    "n_resprice = len(sample.RestaurantsPriceRange2.unique())\n",
    "n_resprice"
   ]
  },
  {
   "cell_type": "code",
   "execution_count": 20,
   "metadata": {
    "colab": {
     "base_uri": "https://localhost:8080/",
     "height": 34
    },
    "colab_type": "code",
    "id": "v87bXWtHUqCz",
    "outputId": "0f9f36e6-ab11-4d8d-8dfa-f77ed6b6fe56"
   },
   "outputs": [
    {
     "data": {
      "text/plain": [
       "201"
      ]
     },
     "execution_count": 20,
     "metadata": {},
     "output_type": "execute_result"
    }
   ],
   "source": [
    "n_funny = sample.funny_x.max()\n",
    "n_funny = int(n_funny)\n",
    "type(n_funny)\n",
    "n_funny"
   ]
  },
  {
   "cell_type": "code",
   "execution_count": 21,
   "metadata": {
    "colab": {
     "base_uri": "https://localhost:8080/",
     "height": 34
    },
    "colab_type": "code",
    "id": "mBuiDwUeU4jS",
    "outputId": "b13fec39-65a5-4e6b-d59c-f9cc15498f1c"
   },
   "outputs": [
    {
     "data": {
      "text/plain": [
       "290"
      ]
     },
     "execution_count": 21,
     "metadata": {},
     "output_type": "execute_result"
    }
   ],
   "source": [
    "n_cool = sample.cool_x.max()\n",
    "n_cool = int(n_cool)\n",
    "n_cool"
   ]
  },
  {
   "cell_type": "code",
   "execution_count": 22,
   "metadata": {
    "colab": {},
    "colab_type": "code",
    "id": "8NySVODMffLN"
   },
   "outputs": [],
   "source": [
    "cols = ['useful_x']\n",
    "X_train[cols] = X_train[cols].applymap(np.float64)"
   ]
  },
  {
   "cell_type": "code",
   "execution_count": 23,
   "metadata": {
    "colab": {},
    "colab_type": "code",
    "id": "Tle-mk67jpuI"
   },
   "outputs": [],
   "source": [
    "cols = ['RestaurantsTakeOut']\n",
    "X_train[cols] = X_train[cols].applymap(np.float64)"
   ]
  },
  {
   "cell_type": "code",
   "execution_count": 24,
   "metadata": {
    "colab": {},
    "colab_type": "code",
    "id": "ag3fVfB7kdFP"
   },
   "outputs": [],
   "source": [
    "cols = ['RestaurantsTakeOut']\n",
    "X_test[cols] = X_test[cols].applymap(np.float64)"
   ]
  },
  {
   "cell_type": "code",
   "execution_count": 25,
   "metadata": {
    "colab": {
     "base_uri": "https://localhost:8080/",
     "height": 70
    },
    "colab_type": "code",
    "id": "rTww_uFQ8sLD",
    "outputId": "db261df1-91da-40b7-d966-738bd256be3a"
   },
   "outputs": [],
   "source": [
    "X_train.loc[(X_train.RestaurantsPriceRange2 == 'None'),'RestaurantsPriceRange2'] = 0.0\n",
    "cols = ['RestaurantsPriceRange2']\n",
    "X_train[cols] = X_train[cols].applymap(np.float64)\n"
   ]
  },
  {
   "cell_type": "code",
   "execution_count": 26,
   "metadata": {
    "colab": {
     "base_uri": "https://localhost:8080/",
     "height": 70
    },
    "colab_type": "code",
    "id": "tYZH1j4v_ijY",
    "outputId": "6943edb4-4c2f-4f0d-c843-a62a887e73b0"
   },
   "outputs": [],
   "source": [
    "X_test.loc[(X_test.RestaurantsPriceRange2 == 'None'),'RestaurantsPriceRange2'] = 0.0\n",
    "cols = ['RestaurantsPriceRange2']\n",
    "X_test[cols] = X_test[cols].applymap(np.float64)\n"
   ]
  },
  {
   "cell_type": "code",
   "execution_count": 27,
   "metadata": {
    "colab": {
     "base_uri": "https://localhost:8080/",
     "height": 34
    },
    "colab_type": "code",
    "id": "29m_Xtpk_sOm",
    "outputId": "017f7653-d0e0-4b04-90c9-b2d21911ea67"
   },
   "outputs": [
    {
     "data": {
      "text/plain": [
       "2"
      ]
     },
     "execution_count": 27,
     "metadata": {},
     "output_type": "execute_result"
    }
   ],
   "source": [
    "sample.GoodForKids.unique()\n",
    "n_goodforkids = len(sample.GoodForKids.unique())\n",
    "n_goodforkids"
   ]
  },
  {
   "cell_type": "code",
   "execution_count": 28,
   "metadata": {
    "colab": {
     "base_uri": "https://localhost:8080/",
     "height": 34
    },
    "colab_type": "code",
    "id": "gIG0ZDnGCKm9",
    "outputId": "1b8b1d92-f2ff-426b-b8d5-08939d992512"
   },
   "outputs": [
    {
     "data": {
      "text/plain": [
       "2"
      ]
     },
     "execution_count": 28,
     "metadata": {},
     "output_type": "execute_result"
    }
   ],
   "source": [
    "sample.HasTV.unique()\n",
    "n_hastv = len(sample.HasTV.unique())\n",
    "n_hastv"
   ]
  },
  {
   "cell_type": "code",
   "execution_count": 29,
   "metadata": {
    "colab": {
     "base_uri": "https://localhost:8080/",
     "height": 34
    },
    "colab_type": "code",
    "id": "whNffnhTDK3u",
    "outputId": "b6ea187f-e382-49d5-9125-8f5a4ec2a348"
   },
   "outputs": [
    {
     "data": {
      "text/plain": [
       "2"
      ]
     },
     "execution_count": 29,
     "metadata": {},
     "output_type": "execute_result"
    }
   ],
   "source": [
    "sample.RestaurantsGoodForGroups.unique()\n",
    "n_resgrp = len(sample.RestaurantsGoodForGroups.unique())\n",
    "n_resgrp"
   ]
  },
  {
   "cell_type": "code",
   "execution_count": 30,
   "metadata": {
    "colab": {
     "base_uri": "https://localhost:8080/",
     "height": 34
    },
    "colab_type": "code",
    "id": "yGdqrXhCEVYr",
    "outputId": "a608e947-62f8-4070-8151-33b4dc2bcfd5"
   },
   "outputs": [
    {
     "data": {
      "text/plain": [
       "2"
      ]
     },
     "execution_count": 30,
     "metadata": {},
     "output_type": "execute_result"
    }
   ],
   "source": [
    "sample.RestaurantsReservations.unique()\n",
    "n_resreserve = len(sample.RestaurantsReservations.unique())\n",
    "n_resreserve"
   ]
  },
  {
   "cell_type": "code",
   "execution_count": 31,
   "metadata": {
    "colab": {
     "base_uri": "https://localhost:8080/",
     "height": 34
    },
    "colab_type": "code",
    "id": "xK0hEzEBFth6",
    "outputId": "8c735262-c2d7-4869-f577-1df6693eb384"
   },
   "outputs": [
    {
     "data": {
      "text/plain": [
       "2"
      ]
     },
     "execution_count": 31,
     "metadata": {},
     "output_type": "execute_result"
    }
   ],
   "source": [
    "sample.RestaurantsDelivery.unique()\n",
    "n_resdelivery = len(sample.RestaurantsDelivery.unique())\n",
    "n_resdelivery"
   ]
  },
  {
   "cell_type": "code",
   "execution_count": 32,
   "metadata": {
    "colab": {
     "base_uri": "https://localhost:8080/",
     "height": 34
    },
    "colab_type": "code",
    "id": "JtWxOT2bHE4J",
    "outputId": "34569aca-a0c7-49fb-f30a-6707a5e05883"
   },
   "outputs": [
    {
     "data": {
      "text/plain": [
       "2"
      ]
     },
     "execution_count": 32,
     "metadata": {},
     "output_type": "execute_result"
    }
   ],
   "source": [
    "sample.OutdoorSeating.unique()\n",
    "n_outdoor = len(sample.OutdoorSeating.unique())\n",
    "n_outdoor"
   ]
  },
  {
   "cell_type": "code",
   "execution_count": 33,
   "metadata": {
    "colab": {
     "base_uri": "https://localhost:8080/",
     "height": 34
    },
    "colab_type": "code",
    "id": "m8fTXGcGIH3f",
    "outputId": "553fbc11-778e-4557-b683-1fb2f3718177"
   },
   "outputs": [
    {
     "data": {
      "text/plain": [
       "2"
      ]
     },
     "execution_count": 33,
     "metadata": {},
     "output_type": "execute_result"
    }
   ],
   "source": [
    "sample.BikeParking.unique()\n",
    "n_bike = len(sample.BikeParking.unique())\n",
    "n_bike"
   ]
  },
  {
   "cell_type": "markdown",
   "metadata": {
    "colab_type": "text",
    "id": "TTAuCe615VE8"
   },
   "source": [
    "# Cleaning some of the feature columns according to the embeddings model requirement.\n"
   ]
  },
  {
   "cell_type": "code",
   "execution_count": 34,
   "metadata": {
    "colab": {
     "base_uri": "https://localhost:8080/",
     "height": 70
    },
    "colab_type": "code",
    "id": "sA_9YTo1Jm99",
    "outputId": "2337fc15-e627-479b-887b-6b8dd1ecea38"
   },
   "outputs": [],
   "source": [
    "sample.Alcohol.unique()\n",
    "X_train.loc[(X_train.Alcohol == 'None'),'Alcohol'] = 0.0\n",
    "X_train.loc[(X_train.Alcohol == 'full_bar'),'Alcohol'] = 1.0\n",
    "X_train.loc[(X_train.Alcohol == 'beer_and_wine'),'Alcohol'] = 2.0\n",
    "X_test.loc[(X_test.Alcohol == 'None'),'Alcohol'] = 0.0\n",
    "X_test.loc[(X_test.Alcohol == 'full_bar'),'Alcohol'] = 1.0\n",
    "X_test.loc[(X_test.Alcohol == 'beer_and_wine'),'Alcohol'] = 2.0\n"
   ]
  },
  {
   "cell_type": "code",
   "execution_count": 35,
   "metadata": {
    "colab": {
     "base_uri": "https://localhost:8080/",
     "height": 34
    },
    "colab_type": "code",
    "id": "JjlOK5HeKNRb",
    "outputId": "b99958f0-379f-41bd-9aa1-df1decd18ba2"
   },
   "outputs": [
    {
     "data": {
      "text/plain": [
       "3"
      ]
     },
     "execution_count": 35,
     "metadata": {},
     "output_type": "execute_result"
    }
   ],
   "source": [
    "X_test.Alcohol.unique()\n",
    "n_alcohol = len(X_test.Alcohol.unique())\n",
    "n_alcohol"
   ]
  },
  {
   "cell_type": "code",
   "execution_count": 36,
   "metadata": {},
   "outputs": [
    {
     "data": {
      "text/plain": [
       "array([0, 2, 1], dtype=int64)"
      ]
     },
     "execution_count": 36,
     "metadata": {},
     "output_type": "execute_result"
    }
   ],
   "source": [
    "X_test.Alcohol.unique()"
   ]
  },
  {
   "cell_type": "code",
   "execution_count": 37,
   "metadata": {
    "colab": {},
    "colab_type": "code",
    "id": "N-Yg1UOGLMlz"
   },
   "outputs": [],
   "source": [
    "sample.RestaurantsAttire.unique()\n",
    "X_train.loc[(X_train.RestaurantsAttire == 'None'),'RestaurantsAttire'] = 0.0\n",
    "X_train.loc[(X_train.RestaurantsAttire == 'casual'),'RestaurantsAttire'] = 1.0\n",
    "X_train.loc[(X_train.RestaurantsAttire == 'dressy'),'RestaurantsAttire'] = 2.0\n",
    "X_train.loc[(X_train.RestaurantsAttire == 'formal'),'RestaurantsAttire'] = 3.0\n",
    "X_test.loc[(X_test.RestaurantsAttire == 'None'),'RestaurantsAttire'] = 0.0\n",
    "X_test.loc[(X_test.RestaurantsAttire == 'casual'),'RestaurantsAttire'] = 1.0\n",
    "X_test.loc[(X_test.RestaurantsAttire == 'dressy'),'RestaurantsAttire'] = 2.0\n",
    "X_test.loc[(X_test.RestaurantsAttire == 'formal'),'RestaurantsAttire'] = 3.0"
   ]
  },
  {
   "cell_type": "code",
   "execution_count": 38,
   "metadata": {
    "colab": {
     "base_uri": "https://localhost:8080/",
     "height": 34
    },
    "colab_type": "code",
    "id": "adanjDBPL7GX",
    "outputId": "bb697fcd-141d-48ae-c50f-169e04f59f55"
   },
   "outputs": [
    {
     "data": {
      "text/plain": [
       "4"
      ]
     },
     "execution_count": 38,
     "metadata": {},
     "output_type": "execute_result"
    }
   ],
   "source": [
    "X_test.RestaurantsAttire.unique()\n",
    "n_resattire = len(X_test.RestaurantsAttire.unique())\n",
    "n_resattire"
   ]
  },
  {
   "cell_type": "code",
   "execution_count": 39,
   "metadata": {
    "colab": {},
    "colab_type": "code",
    "id": "NMHEfb9FNB1J"
   },
   "outputs": [],
   "source": [
    "sample.WiFi.unique()\n",
    "X_train.loc[(X_train.WiFi == 'None'),'WiFi'] = 0.0\n",
    "X_train.loc[(X_train.WiFi == 'no'),'WiFi'] = 1.0\n",
    "X_train.loc[(X_train.WiFi == 'free'),'WiFi'] = 2.0\n",
    "X_train.loc[(X_train.WiFi == 'paid'),'WiFi'] = 3.0\n",
    "X_test.loc[(X_test.WiFi == 'None'),'WiFi'] = 0.0\n",
    "X_test.loc[(X_test.WiFi == 'no'),'WiFi'] = 1.0\n",
    "X_test.loc[(X_test.WiFi == 'free'),'WiFi'] = 2.0\n",
    "X_test.loc[(X_test.WiFi == 'paid'),'WiFi'] = 3.0\n"
   ]
  },
  {
   "cell_type": "code",
   "execution_count": 40,
   "metadata": {},
   "outputs": [
    {
     "data": {
      "text/plain": [
       "array([0, 2, 1, 3], dtype=int64)"
      ]
     },
     "execution_count": 40,
     "metadata": {},
     "output_type": "execute_result"
    }
   ],
   "source": [
    "X_test.WiFi.unique()"
   ]
  },
  {
   "cell_type": "code",
   "execution_count": 41,
   "metadata": {
    "colab": {
     "base_uri": "https://localhost:8080/",
     "height": 34
    },
    "colab_type": "code",
    "id": "ciLHsk-dNosw",
    "outputId": "fab73fcc-05eb-4694-a759-674f7b4b78b1"
   },
   "outputs": [
    {
     "data": {
      "text/plain": [
       "4"
      ]
     },
     "execution_count": 41,
     "metadata": {},
     "output_type": "execute_result"
    }
   ],
   "source": [
    "X_test.WiFi.unique()\n",
    "n_wifi = len(X_test.WiFi.unique())\n",
    "n_wifi"
   ]
  },
  {
   "cell_type": "code",
   "execution_count": 42,
   "metadata": {
    "colab": {
     "base_uri": "https://localhost:8080/",
     "height": 702
    },
    "colab_type": "code",
    "id": "RrYgeId0PtPV",
    "outputId": "ebbc0df8-bdd6-4c1d-afb1-b947e958d1b9"
   },
   "outputs": [
    {
     "data": {
      "text/html": [
       "<div>\n",
       "<style scoped>\n",
       "    .dataframe tbody tr th:only-of-type {\n",
       "        vertical-align: middle;\n",
       "    }\n",
       "\n",
       "    .dataframe tbody tr th {\n",
       "        vertical-align: top;\n",
       "    }\n",
       "\n",
       "    .dataframe thead th {\n",
       "        text-align: right;\n",
       "    }\n",
       "</style>\n",
       "<table border=\"1\" class=\"dataframe\">\n",
       "  <thead>\n",
       "    <tr style=\"text-align: right;\">\n",
       "      <th></th>\n",
       "      <th>Unnamed: 0</th>\n",
       "      <th>Unnamed: 0.1</th>\n",
       "      <th>user_id</th>\n",
       "      <th>business_id</th>\n",
       "      <th>review_id</th>\n",
       "      <th>rating</th>\n",
       "      <th>date</th>\n",
       "      <th>useful_x</th>\n",
       "      <th>funny_x</th>\n",
       "      <th>cool_x</th>\n",
       "      <th>...</th>\n",
       "      <th>elite</th>\n",
       "      <th>fans</th>\n",
       "      <th>friends</th>\n",
       "      <th>funny_y</th>\n",
       "      <th>name_y</th>\n",
       "      <th>review_count_y</th>\n",
       "      <th>useful_y</th>\n",
       "      <th>yelping_since</th>\n",
       "      <th>USER_ID</th>\n",
       "      <th>BUSINESS_ID</th>\n",
       "    </tr>\n",
       "  </thead>\n",
       "  <tbody>\n",
       "    <tr>\n",
       "      <td>0</td>\n",
       "      <td>0</td>\n",
       "      <td>0</td>\n",
       "      <td>hG7b0MtEbXx5QzbzE6C_VA</td>\n",
       "      <td>Y07qIurPKiUJDnTZWxZN2A</td>\n",
       "      <td>HeTRGukwBk1TPoX0dr4xZA</td>\n",
       "      <td>5.0</td>\n",
       "      <td>2012-08-28 23:34:11</td>\n",
       "      <td>0.0</td>\n",
       "      <td>0.0</td>\n",
       "      <td>0.0</td>\n",
       "      <td>...</td>\n",
       "      <td>NaN</td>\n",
       "      <td>0</td>\n",
       "      <td>frQs7y5qa-X1pvAM0sJe1w</td>\n",
       "      <td>4</td>\n",
       "      <td>Stefan</td>\n",
       "      <td>10</td>\n",
       "      <td>18</td>\n",
       "      <td>2008-07-10 17:24:47</td>\n",
       "      <td>47391</td>\n",
       "      <td>9950</td>\n",
       "    </tr>\n",
       "    <tr>\n",
       "      <td>1</td>\n",
       "      <td>1</td>\n",
       "      <td>1</td>\n",
       "      <td>hG7b0MtEbXx5QzbzE6C_VA</td>\n",
       "      <td>eSLwC2iFJOU4UWXyuPiTpg</td>\n",
       "      <td>C_25_cKO3JXflunMIwBHdA</td>\n",
       "      <td>1.0</td>\n",
       "      <td>2008-08-23 20:07:25</td>\n",
       "      <td>0.0</td>\n",
       "      <td>0.0</td>\n",
       "      <td>0.0</td>\n",
       "      <td>...</td>\n",
       "      <td>NaN</td>\n",
       "      <td>0</td>\n",
       "      <td>frQs7y5qa-X1pvAM0sJe1w</td>\n",
       "      <td>4</td>\n",
       "      <td>Stefan</td>\n",
       "      <td>10</td>\n",
       "      <td>18</td>\n",
       "      <td>2008-07-10 17:24:47</td>\n",
       "      <td>47391</td>\n",
       "      <td>12118</td>\n",
       "    </tr>\n",
       "    <tr>\n",
       "      <td>2</td>\n",
       "      <td>2</td>\n",
       "      <td>2</td>\n",
       "      <td>hG7b0MtEbXx5QzbzE6C_VA</td>\n",
       "      <td>foPp-aKIZsWcsYf5zuhcNw</td>\n",
       "      <td>OJlgpJcV0At_Almwmlf3ow</td>\n",
       "      <td>1.0</td>\n",
       "      <td>2016-08-11 03:38:43</td>\n",
       "      <td>3.0</td>\n",
       "      <td>1.0</td>\n",
       "      <td>0.0</td>\n",
       "      <td>...</td>\n",
       "      <td>NaN</td>\n",
       "      <td>0</td>\n",
       "      <td>frQs7y5qa-X1pvAM0sJe1w</td>\n",
       "      <td>4</td>\n",
       "      <td>Stefan</td>\n",
       "      <td>10</td>\n",
       "      <td>18</td>\n",
       "      <td>2008-07-10 17:24:47</td>\n",
       "      <td>47391</td>\n",
       "      <td>12493</td>\n",
       "    </tr>\n",
       "    <tr>\n",
       "      <td>3</td>\n",
       "      <td>3</td>\n",
       "      <td>3</td>\n",
       "      <td>hG7b0MtEbXx5QzbzE6C_VA</td>\n",
       "      <td>0giQuOv-hLFlVuwgw_VG9A</td>\n",
       "      <td>tDpkjj18ZnumFUa91M34eA</td>\n",
       "      <td>2.0</td>\n",
       "      <td>2014-12-11 03:51:29</td>\n",
       "      <td>0.0</td>\n",
       "      <td>2.0</td>\n",
       "      <td>0.0</td>\n",
       "      <td>...</td>\n",
       "      <td>NaN</td>\n",
       "      <td>0</td>\n",
       "      <td>frQs7y5qa-X1pvAM0sJe1w</td>\n",
       "      <td>4</td>\n",
       "      <td>Stefan</td>\n",
       "      <td>10</td>\n",
       "      <td>18</td>\n",
       "      <td>2008-07-10 17:24:47</td>\n",
       "      <td>47391</td>\n",
       "      <td>483</td>\n",
       "    </tr>\n",
       "    <tr>\n",
       "      <td>4</td>\n",
       "      <td>4</td>\n",
       "      <td>4</td>\n",
       "      <td>FIk4lQQu1eTe2EpzQ4xhBA</td>\n",
       "      <td>Y07qIurPKiUJDnTZWxZN2A</td>\n",
       "      <td>1gAM0UO81wbM2vdRrQtywA</td>\n",
       "      <td>2.0</td>\n",
       "      <td>2011-11-06 05:11:33</td>\n",
       "      <td>0.0</td>\n",
       "      <td>0.0</td>\n",
       "      <td>0.0</td>\n",
       "      <td>...</td>\n",
       "      <td>2011,2012,2013,2014,2015,2016,2017,2018</td>\n",
       "      <td>63</td>\n",
       "      <td>WeIrA7LbdfS5HeV13iymuw, QFjqxXn3acDC7hckFGUKMg...</td>\n",
       "      <td>314</td>\n",
       "      <td>Carol</td>\n",
       "      <td>866</td>\n",
       "      <td>1635</td>\n",
       "      <td>2010-08-26 22:09:14</td>\n",
       "      <td>17232</td>\n",
       "      <td>9950</td>\n",
       "    </tr>\n",
       "  </tbody>\n",
       "</table>\n",
       "<p>5 rows × 56 columns</p>\n",
       "</div>"
      ],
      "text/plain": [
       "   Unnamed: 0  Unnamed: 0.1                 user_id             business_id  \\\n",
       "0           0             0  hG7b0MtEbXx5QzbzE6C_VA  Y07qIurPKiUJDnTZWxZN2A   \n",
       "1           1             1  hG7b0MtEbXx5QzbzE6C_VA  eSLwC2iFJOU4UWXyuPiTpg   \n",
       "2           2             2  hG7b0MtEbXx5QzbzE6C_VA  foPp-aKIZsWcsYf5zuhcNw   \n",
       "3           3             3  hG7b0MtEbXx5QzbzE6C_VA  0giQuOv-hLFlVuwgw_VG9A   \n",
       "4           4             4  FIk4lQQu1eTe2EpzQ4xhBA  Y07qIurPKiUJDnTZWxZN2A   \n",
       "\n",
       "                review_id  rating                 date  useful_x  funny_x  \\\n",
       "0  HeTRGukwBk1TPoX0dr4xZA     5.0  2012-08-28 23:34:11       0.0      0.0   \n",
       "1  C_25_cKO3JXflunMIwBHdA     1.0  2008-08-23 20:07:25       0.0      0.0   \n",
       "2  OJlgpJcV0At_Almwmlf3ow     1.0  2016-08-11 03:38:43       3.0      1.0   \n",
       "3  tDpkjj18ZnumFUa91M34eA     2.0  2014-12-11 03:51:29       0.0      2.0   \n",
       "4  1gAM0UO81wbM2vdRrQtywA     2.0  2011-11-06 05:11:33       0.0      0.0   \n",
       "\n",
       "   cool_x  ...                                    elite fans  \\\n",
       "0     0.0  ...                                      NaN    0   \n",
       "1     0.0  ...                                      NaN    0   \n",
       "2     0.0  ...                                      NaN    0   \n",
       "3     0.0  ...                                      NaN    0   \n",
       "4     0.0  ...  2011,2012,2013,2014,2015,2016,2017,2018   63   \n",
       "\n",
       "                                             friends funny_y  name_y  \\\n",
       "0                             frQs7y5qa-X1pvAM0sJe1w       4  Stefan   \n",
       "1                             frQs7y5qa-X1pvAM0sJe1w       4  Stefan   \n",
       "2                             frQs7y5qa-X1pvAM0sJe1w       4  Stefan   \n",
       "3                             frQs7y5qa-X1pvAM0sJe1w       4  Stefan   \n",
       "4  WeIrA7LbdfS5HeV13iymuw, QFjqxXn3acDC7hckFGUKMg...     314   Carol   \n",
       "\n",
       "  review_count_y  useful_y        yelping_since  USER_ID  BUSINESS_ID  \n",
       "0             10        18  2008-07-10 17:24:47    47391         9950  \n",
       "1             10        18  2008-07-10 17:24:47    47391        12118  \n",
       "2             10        18  2008-07-10 17:24:47    47391        12493  \n",
       "3             10        18  2008-07-10 17:24:47    47391          483  \n",
       "4            866      1635  2010-08-26 22:09:14    17232         9950  \n",
       "\n",
       "[5 rows x 56 columns]"
      ]
     },
     "execution_count": 42,
     "metadata": {},
     "output_type": "execute_result"
    }
   ],
   "source": [
    "sample.head()"
   ]
  },
  {
   "cell_type": "markdown",
   "metadata": {},
   "source": [
    "Writing the changed X_train and X_test dataframes to csv files."
   ]
  },
  {
   "cell_type": "code",
   "execution_count": 44,
   "metadata": {
    "colab": {},
    "colab_type": "code",
    "id": "ul3cEEtJn6ed"
   },
   "outputs": [],
   "source": [
    "X_train.to_csv(\"X_train2new.csv\")"
   ]
  },
  {
   "cell_type": "code",
   "execution_count": 45,
   "metadata": {
    "colab": {},
    "colab_type": "code",
    "id": "lIbScIf7oxcq"
   },
   "outputs": [],
   "source": [
    "X_test.to_csv(\"X_test2.csv\")"
   ]
  },
  {
   "cell_type": "code",
   "execution_count": 68,
   "metadata": {},
   "outputs": [],
   "source": [
    "from keras import optimizers"
   ]
  },
  {
   "cell_type": "markdown",
   "metadata": {
    "colab_type": "text",
    "id": "bJ1V2XRz5qvZ"
   },
   "source": [
    "Building a deep learning model using embeddings and fully connected layers. Creating embedding paths and specifying the model specifications regarding modelcheckpoint and storing the best model(model with minimum validation loss).\n"
   ]
  },
  {
   "cell_type": "markdown",
   "metadata": {},
   "source": [
    "# Training Model for learning rate 0.001"
   ]
  },
  {
   "cell_type": "code",
   "execution_count": 96,
   "metadata": {
    "colab": {},
    "colab_type": "code",
    "id": "Qe3ara8eOw4i"
   },
   "outputs": [],
   "source": [
    "# creating business embedding path\n",
    "busi_input = Input(shape=[1], name=\"busi-Input\")\n",
    "busi_embedding = Embedding(n_busi+1, 5, name=\"busi-Embedding\")(busi_input)\n",
    "busi_vec = Flatten(name=\"Flatten-busi\")(busi_embedding)\n",
    "\n",
    "# creating user embedding path\n",
    "user_input = Input(shape=[1], name=\"User-Input\")\n",
    "user_embedding = Embedding(n_users+1, 5, name=\"User-Embedding\")(user_input)\n",
    "user_vec = Flatten(name=\"Flatten-Users\")(user_embedding)\n",
    "\n",
    "#creating stars embedding path\n",
    "stars_input = Input(shape=[1], name=\"Stars-Input\")\n",
    "stars_embedding = Embedding(n_stars+1, 5, name=\"Stars-Embedding\")(stars_input)\n",
    "stars_vec = Flatten(name=\"Flatten-Stars\")(stars_embedding)\n",
    "\n",
    "#creating useful embedding path\n",
    "useful_input = Input(shape=[1], name=\"Useful-Input\")\n",
    "useful_embedding = Embedding(n_useful+1, 5, name=\"Useful-Embedding\")(useful_input)\n",
    "useful_vec = Flatten(name=\"Flatten-Useful\")(useful_embedding)\n",
    "\n",
    "#creating restauranttakeout embedding path\n",
    "restakeout_input = Input(shape=[1], name=\"restakeout-Input\")\n",
    "restakeout_embedding = Embedding(n_restakeout + 1, 5, name=\"restakeout-Embedding\")(restakeout_input)\n",
    "restakeout_vec = Flatten(name=\"Flatten-restakeout\")(restakeout_embedding)\n",
    "\n",
    "#creating funny embedding path\n",
    "funny_input = Input(shape=[1], name=\"funny-Input\")\n",
    "funny_embedding = Embedding(n_funny+1, 5, name=\"Funny-Embedding\")(funny_input)\n",
    "funny_vec = Flatten(name=\"Flatten-Funny\")(funny_embedding)\n",
    "\n",
    "#creating cool embedding path\n",
    "cool_input = Input(shape=[1], name=\"cool-Input\")\n",
    "cool_embedding = Embedding(n_cool+1, 5, name=\"Cool-Embedding\")(cool_input)\n",
    "cool_vec = Flatten(name=\"Flatten-cool\")(cool_embedding)\n",
    "\n",
    "#creating a restaurant price range embedding path\n",
    "resprice_input = Input(shape=[1], name=\"resprice-Input\")\n",
    "resprice_embedding = Embedding(n_resprice + 1, 5, name=\"resprice-Embedding\")(resprice_input)\n",
    "resprice_vec = Flatten(name=\"Flatten-resprice\")(resprice_embedding)\n",
    "\n",
    "#creating a Goodforkids embedding path\n",
    "goodforkids_input = Input(shape=[1], name=\"goodforkids-Input\")\n",
    "goodforkids_embedding = Embedding(n_goodforkids + 1, 5, name=\"goodforkids-Embedding\")(goodforkids_input)\n",
    "goodforkids_vec = Flatten(name=\"Flatten-goodforkids\")(goodforkids_embedding)\n",
    "\n",
    "#creating a HasTV embedding path\n",
    "hastv_input = Input(shape=[1], name=\"hastv-Input\")\n",
    "hastv_embedding = Embedding(n_hastv + 1, 5, name=\"hastv-Embedding\")(hastv_input)\n",
    "hastv_vec = Flatten(name=\"Flatten-hastv\")(hastv_embedding)\n",
    "\n",
    "#creating a Restaurant good for groups embedding path\n",
    "resgrp_input = Input(shape=[1], name=\"resgrp-Input\")\n",
    "resgrp_embedding = Embedding(n_resgrp + 1, 5, name=\"resgrp-Embedding\")(resgrp_input)\n",
    "resgrp_vec = Flatten(name=\"Flatten-resgrp\")(resgrp_embedding)\n",
    "\n",
    "#creating a Restaurant Reservations embedding path\n",
    "resreserve_input = Input(shape=[1], name=\"resreserve-Input\")\n",
    "resreserve_embedding = Embedding(n_resreserve + 1, 5, name=\"resreserve-Embedding\")(resreserve_input)\n",
    "resreserve_vec = Flatten(name=\"Flatten-resreserve\")(resreserve_embedding)\n",
    "\n",
    "#creating a restaurant delivery embedding path\n",
    "resdelivery_input = Input(shape=[1], name=\"resdelivery-Input\")\n",
    "resdelivery_embedding = Embedding(n_resdelivery + 1, 5, name=\"resdelivery-Embedding\")(resdelivery_input)\n",
    "resdelivery_vec = Flatten(name=\"Flatten-resdelivery\")(resdelivery_embedding)\n",
    "\n",
    "#creating an outdoor seating embedding path\n",
    "outdoor_input = Input(shape=[1], name=\"outdoor-Input\")\n",
    "outdoor_embedding = Embedding(n_outdoor + 1, 5, name=\"outdoor-Embedding\")(outdoor_input)\n",
    "outdoor_vec = Flatten(name=\"Flatten-outdoor\")(outdoor_embedding)\n",
    "\n",
    "#creating a bikeparking  embedding path\n",
    "bike_input = Input(shape=[1], name=\"bike-Input\")\n",
    "bike_embedding = Embedding(n_bike + 1, 5, name=\"bike-Embedding\")(bike_input)\n",
    "bike_vec = Flatten(name=\"Flatten-bike\")(bike_embedding)\n",
    "\n",
    "#creating alcohol embedding path\n",
    "alcohol_input = Input(shape=[1], name=\"alcohol-Input\")\n",
    "alcohol_embedding = Embedding(n_alcohol + 1, 5, name=\"alcohol-Embedding\")(alcohol_input)\n",
    "alcohol_vec = Flatten(name=\"Flatten-alcohol\")(alcohol_embedding)\n",
    "\n",
    "#Creating a restaurant attire path\n",
    "resattire_input = Input(shape=[1], name=\"resattire-Input\")\n",
    "resattire_embedding = Embedding(n_resattire + 1, 5, name=\"resattire-Embedding\")(resattire_input)\n",
    "resattire_vec = Flatten(name=\"Flatten-resattire\")(resattire_embedding)\n",
    "\n",
    "#creating wifi embedding path\n",
    "wifi_input = Input(shape=[1], name=\"wifi-Input\")\n",
    "wifi_embedding = Embedding(n_wifi + 1, 5, name=\"wifi-Embedding\")(wifi_input)\n",
    "wifi_vec = Flatten(name=\"Flatten-wifi\")(wifi_embedding)\n",
    "\n",
    "\n",
    "# concatenate features\n",
    "conc = Concatenate()([busi_vec, user_vec, stars_vec, useful_vec,funny_vec, cool_vec,restakeout_vec,resprice_vec,goodforkids_vec,hastv_vec,resgrp_vec,resreserve_vec,resdelivery_vec, outdoor_vec,bike_vec,alcohol_vec, resattire_vec, wifi_vec])\n",
    "\n",
    "# add fully-connected-layers\n",
    "fc1 = Dense(128, activation='relu')(conc)\n",
    "fc2 = Dense(32, activation='relu')(fc1)\n",
    "out = Dense(1)(fc2)\n",
    "\n",
    "# Create model and compile it and store the best model(the corresponding weights) throughout the epochs.\n",
    "filepath= \"weights.best.hdf5\"\n",
    "model2 = Model([user_input, busi_input,stars_input, useful_input,funny_input,cool_input, restakeout_input,resprice_input,goodforkids_input,hastv_input,resgrp_input, resreserve_input,resdelivery_input, outdoor_input,bike_input,alcohol_input, resattire_input,wifi_input], out)\n",
    "mc=ModelCheckpoint(filepath,monitor='val_loss',mode='min',save_best_only=True, verbose = 1)\n",
    "optimizers.Adam(learning_rate=0.001)\n",
    "model2.compile('adam', 'mean_squared_error')"
   ]
  },
  {
   "cell_type": "markdown",
   "metadata": {},
   "source": [
    "# Fitting the model on the training dataset"
   ]
  },
  {
   "cell_type": "code",
   "execution_count": 97,
   "metadata": {},
   "outputs": [
    {
     "name": "stderr",
     "output_type": "stream",
     "text": [
      "C:\\Users\\arush\\AppData\\Local\\Continuum\\anaconda3\\lib\\site-packages\\tensorflow_core\\python\\framework\\indexed_slices.py:424: UserWarning: Converting sparse IndexedSlices to a dense Tensor of unknown shape. This may consume a large amount of memory.\n",
      "  \"Converting sparse IndexedSlices to a dense Tensor of unknown shape. \"\n"
     ]
    },
    {
     "name": "stdout",
     "output_type": "stream",
     "text": [
      "Train on 868603 samples, validate on 53192 samples\n",
      "Epoch 1/30\n",
      "868603/868603 [==============================] - 132s 152us/step - loss: 1.1515 - val_loss: 1.3576\n",
      "\n",
      "Epoch 00001: val_loss improved from inf to 1.35764, saving model to weights.best.hdf5\n",
      "Epoch 2/30\n",
      "868603/868603 [==============================] - 132s 152us/step - loss: 0.9913 - val_loss: 1.3531\n",
      "\n",
      "Epoch 00002: val_loss improved from 1.35764 to 1.35311, saving model to weights.best.hdf5\n",
      "Epoch 3/30\n",
      "868603/868603 [==============================] - 127s 146us/step - loss: 0.9250 - val_loss: 1.3256\n",
      "\n",
      "Epoch 00003: val_loss improved from 1.35311 to 1.32558, saving model to weights.best.hdf5\n",
      "Epoch 4/30\n",
      "868603/868603 [==============================] - 113s 130us/step - loss: 0.8737 - val_loss: 1.3396\n",
      "\n",
      "Epoch 00004: val_loss did not improve from 1.32558\n",
      "Epoch 5/30\n",
      "868603/868603 [==============================] - 103s 118us/step - loss: 0.8314 - val_loss: 1.3547\n",
      "\n",
      "Epoch 00005: val_loss did not improve from 1.32558\n",
      "Epoch 6/30\n",
      "868603/868603 [==============================] - 100s 115us/step - loss: 0.7966 - val_loss: 1.3707\n",
      "\n",
      "Epoch 00006: val_loss did not improve from 1.32558\n",
      "Epoch 7/30\n",
      "868603/868603 [==============================] - 100s 115us/step - loss: 0.7680 - val_loss: 1.4075\n",
      "\n",
      "Epoch 00007: val_loss did not improve from 1.32558\n",
      "Epoch 8/30\n",
      "868603/868603 [==============================] - 103s 118us/step - loss: 0.7444 - val_loss: 1.4491\n",
      "\n",
      "Epoch 00008: val_loss did not improve from 1.32558\n",
      "Epoch 9/30\n",
      "868603/868603 [==============================] - 99s 114us/step - loss: 0.7241 - val_loss: 1.4684\n",
      "\n",
      "Epoch 00009: val_loss did not improve from 1.32558\n",
      "Epoch 10/30\n",
      "868603/868603 [==============================] - 99s 113us/step - loss: 0.7074 - val_loss: 1.4603\n",
      "\n",
      "Epoch 00010: val_loss did not improve from 1.32558\n",
      "Epoch 11/30\n",
      "868603/868603 [==============================] - 101s 116us/step - loss: 0.6920 - val_loss: 1.4956\n",
      "\n",
      "Epoch 00011: val_loss did not improve from 1.32558\n",
      "Epoch 12/30\n",
      "868603/868603 [==============================] - 98s 113us/step - loss: 0.6783 - val_loss: 1.5214\n",
      "\n",
      "Epoch 00012: val_loss did not improve from 1.32558\n",
      "Epoch 13/30\n",
      "868603/868603 [==============================] - 98s 113us/step - loss: 0.6664 - val_loss: 1.5317\n",
      "\n",
      "Epoch 00013: val_loss did not improve from 1.32558\n",
      "Epoch 14/30\n",
      "868603/868603 [==============================] - 98s 113us/step - loss: 0.6551 - val_loss: 1.5789\n",
      "\n",
      "Epoch 00014: val_loss did not improve from 1.32558\n",
      "Epoch 15/30\n",
      "868603/868603 [==============================] - 102s 117us/step - loss: 0.6449 - val_loss: 1.5548\n",
      "\n",
      "Epoch 00015: val_loss did not improve from 1.32558\n",
      "Epoch 16/30\n",
      "868603/868603 [==============================] - 104s 120us/step - loss: 0.6353 - val_loss: 1.5863\n",
      "\n",
      "Epoch 00016: val_loss did not improve from 1.32558\n",
      "Epoch 17/30\n",
      "868603/868603 [==============================] - 100s 115us/step - loss: 0.6266 - val_loss: 1.5777\n",
      "\n",
      "Epoch 00017: val_loss did not improve from 1.32558\n",
      "Epoch 18/30\n",
      "868603/868603 [==============================] - 99s 114us/step - loss: 0.6184 - val_loss: 1.6108\n",
      "\n",
      "Epoch 00018: val_loss did not improve from 1.32558\n",
      "Epoch 19/30\n",
      "868603/868603 [==============================] - 98s 113us/step - loss: 0.6106 - val_loss: 1.6561\n",
      "\n",
      "Epoch 00019: val_loss did not improve from 1.32558\n",
      "Epoch 20/30\n",
      "868603/868603 [==============================] - 99s 114us/step - loss: 0.6031 - val_loss: 1.6316\n",
      "\n",
      "Epoch 00020: val_loss did not improve from 1.32558\n",
      "Epoch 21/30\n",
      "868603/868603 [==============================] - 101s 117us/step - loss: 0.5968 - val_loss: 1.6755\n",
      "\n",
      "Epoch 00021: val_loss did not improve from 1.32558\n",
      "Epoch 22/30\n",
      "868603/868603 [==============================] - 105s 121us/step - loss: 0.5902 - val_loss: 1.6815\n",
      "\n",
      "Epoch 00022: val_loss did not improve from 1.32558\n",
      "Epoch 23/30\n",
      "868603/868603 [==============================] - 100s 115us/step - loss: 0.5838 - val_loss: 1.6859\n",
      "\n",
      "Epoch 00023: val_loss did not improve from 1.32558\n",
      "Epoch 24/30\n",
      "868603/868603 [==============================] - 100s 115us/step - loss: 0.5787 - val_loss: 1.6852\n",
      "\n",
      "Epoch 00024: val_loss did not improve from 1.32558\n",
      "Epoch 25/30\n",
      "868603/868603 [==============================] - 100s 115us/step - loss: 0.5733 - val_loss: 1.6937\n",
      "\n",
      "Epoch 00025: val_loss did not improve from 1.32558\n",
      "Epoch 26/30\n",
      "868603/868603 [==============================] - 100s 115us/step - loss: 0.5681 - val_loss: 1.7077\n",
      "\n",
      "Epoch 00026: val_loss did not improve from 1.32558\n",
      "Epoch 27/30\n",
      "868603/868603 [==============================] - 101s 116us/step - loss: 0.5635 - val_loss: 1.7173\n",
      "\n",
      "Epoch 00027: val_loss did not improve from 1.32558\n",
      "Epoch 28/30\n",
      "868603/868603 [==============================] - 102s 118us/step - loss: 0.5591 - val_loss: 1.7358\n",
      "\n",
      "Epoch 00028: val_loss did not improve from 1.32558\n",
      "Epoch 29/30\n",
      "868603/868603 [==============================] - 108s 124us/step - loss: 0.5551 - val_loss: 1.7454\n",
      "\n",
      "Epoch 00029: val_loss did not improve from 1.32558\n",
      "Epoch 30/30\n",
      "868603/868603 [==============================] - 110s 127us/step - loss: 0.5506 - val_loss: 1.7847\n",
      "\n",
      "Epoch 00030: val_loss did not improve from 1.32558\n"
     ]
    },
    {
     "data": {
      "text/plain": [
       "Text(0, 0.5, 'Training Error')"
      ]
     },
     "execution_count": 97,
     "metadata": {},
     "output_type": "execute_result"
    },
    {
     "data": {
      "image/png": "[encoded data removed]",
      "text/plain": [
       "<Figure size 432x288 with 1 Axes>"
      ]
     },
     "metadata": {
      "needs_background": "light"
     },
     "output_type": "display_data"
    }
   ],
   "source": [
    "from keras.models import load_model\n",
    "\n",
    "history = model2.fit([X_train.USER_ID, X_train.BUSINESS_ID,X_train.stars, X_train.useful_x,X_train.funny_x,X_train.cool_x, X_train.RestaurantsTakeOut, X_train.RestaurantsPriceRange2, X_train.GoodForKids, X_train.HasTV, X_train.RestaurantsGoodForGroups,X_train.RestaurantsReservations,X_train.RestaurantsDelivery, X_train.OutdoorSeating, X_train.BikeParking, X_train.Alcohol, X_train.RestaurantsAttire,X_train.WiFi], y_train.rating,batch_size=64,validation_data = ([X_test.USER_ID, X_test.BUSINESS_ID, X_test.stars, X_test.useful_x,X_test.funny_x,X_test.cool_x, X_test.RestaurantsTakeOut,X_test.RestaurantsPriceRange2,X_test.GoodForKids,X_test.HasTV,X_test.RestaurantsGoodForGroups, X_test.RestaurantsReservations, X_test.RestaurantsDelivery, X_test.OutdoorSeating, X_test.BikeParking, X_test.Alcohol, X_test.RestaurantsAttire, X_test.WiFi], y_test.rating), epochs=30, verbose=1,callbacks=[mc])\n",
    "#model2.save('best_model.h5')\n",
    "model2.load_weights(\"weights.best.hdf5\")\n",
    "\n",
    "plt.plot(history.history['loss'])\n",
    "plt.xlabel(\"Epochs\")\n",
    "plt.ylabel(\"Training Error\")"
   ]
  },
  {
   "cell_type": "code",
   "execution_count": 141,
   "metadata": {},
   "outputs": [],
   "source": [
    "model2.load_weights(\"weights.best.hdf5\")"
   ]
  },
  {
   "cell_type": "markdown",
   "metadata": {},
   "source": [
    "Evaluating the model by calculating the mean squared error."
   ]
  },
  {
   "cell_type": "code",
   "execution_count": 142,
   "metadata": {
    "colab": {
     "base_uri": "https://localhost:8080/",
     "height": 50
    },
    "colab_type": "code",
    "id": "1sdznyCDOw4o",
    "outputId": "3f8f5c7a-4bb7-4875-f89e-c2e1dcbc5881"
   },
   "outputs": [
    {
     "name": "stdout",
     "output_type": "stream",
     "text": [
      "53192/53192 [==============================] - 6s 113us/step\n"
     ]
    },
    {
     "data": {
      "text/plain": [
       "1.3255793069032533"
      ]
     },
     "execution_count": 142,
     "metadata": {},
     "output_type": "execute_result"
    }
   ],
   "source": [
    "model2.evaluate([X_test.USER_ID, X_test.BUSINESS_ID, X_test.stars, X_test.useful_x,X_test.funny_x,X_test.cool_x, X_test.RestaurantsTakeOut,X_test.RestaurantsPriceRange2,X_test.GoodForKids,X_test.HasTV,X_test.RestaurantsGoodForGroups, X_test.RestaurantsReservations, X_test.RestaurantsDelivery, X_test.OutdoorSeating, X_test.BikeParking, X_test.Alcohol, X_test.RestaurantsAttire, X_test.WiFi], y_test.rating)"
   ]
  },
  {
   "cell_type": "markdown",
   "metadata": {},
   "source": [
    "Predicting the last rating of the user "
   ]
  },
  {
   "cell_type": "code",
   "execution_count": 143,
   "metadata": {
    "colab": {},
    "colab_type": "code",
    "id": "0oTNzNBuOw4r"
   },
   "outputs": [],
   "source": [
    "predictions2 = model2.predict([X_test.USER_ID, X_test.BUSINESS_ID, X_test.stars, X_test.useful_x,X_test.funny_x,X_test.cool_x, X_test.RestaurantsTakeOut,X_test.RestaurantsPriceRange2,X_test.GoodForKids,X_test.HasTV, X_test.RestaurantsGoodForGroups,  X_test.RestaurantsReservations, X_test.RestaurantsDelivery,X_test.OutdoorSeating, X_test.BikeParking, X_test.Alcohol, X_test.RestaurantsAttire, X_test.WiFi])\n",
    "#[print(predictions[i], y_test.rating.iloc[i]) for i in range(0,len(predictions))]"
   ]
  },
  {
   "cell_type": "markdown",
   "metadata": {},
   "source": [
    "Finding Root mean squared error for the predictions made when the learning rate is 0.001."
   ]
  },
  {
   "cell_type": "code",
   "execution_count": 144,
   "metadata": {
    "colab": {
     "base_uri": "https://localhost:8080/",
     "height": 34
    },
    "colab_type": "code",
    "id": "e53MSiq1Ow46",
    "outputId": "3f67a5cd-0c7e-429c-e8de-929ee01f6eee"
   },
   "outputs": [
    {
     "data": {
      "text/plain": [
       "1.151338050705122"
      ]
     },
     "execution_count": 144,
     "metadata": {},
     "output_type": "execute_result"
    }
   ],
   "source": [
    "from sklearn.metrics import mean_squared_error\n",
    "from math import sqrt\n",
    "\n",
    "rms = sqrt(mean_squared_error(predictions2, y_test.rating))\n",
    "rms"
   ]
  },
  {
   "cell_type": "markdown",
   "metadata": {},
   "source": [
    "# Training model for learning rate 0.005"
   ]
  },
  {
   "cell_type": "code",
   "execution_count": 105,
   "metadata": {},
   "outputs": [],
   "source": [
    "# creating business embedding path\n",
    "busi_input = Input(shape=[1], name=\"busi-Input\")\n",
    "busi_embedding = Embedding(n_busi+1, 5, name=\"busi-Embedding\")(busi_input)\n",
    "busi_vec = Flatten(name=\"Flatten-busi\")(busi_embedding)\n",
    "\n",
    "# creating user embedding path\n",
    "user_input = Input(shape=[1], name=\"User-Input\")\n",
    "user_embedding = Embedding(n_users+1, 5, name=\"User-Embedding\")(user_input)\n",
    "user_vec = Flatten(name=\"Flatten-Users\")(user_embedding)\n",
    "\n",
    "#creating stars embedding path\n",
    "stars_input = Input(shape=[1], name=\"Stars-Input\")\n",
    "stars_embedding = Embedding(n_stars+1, 5, name=\"Stars-Embedding\")(stars_input)\n",
    "stars_vec = Flatten(name=\"Flatten-Stars\")(stars_embedding)\n",
    "\n",
    "#creating useful embedding path\n",
    "useful_input = Input(shape=[1], name=\"Useful-Input\")\n",
    "useful_embedding = Embedding(n_useful+1, 5, name=\"Useful-Embedding\")(useful_input)\n",
    "useful_vec = Flatten(name=\"Flatten-Useful\")(useful_embedding)\n",
    "\n",
    "#creating restauranttakeout embedding path\n",
    "restakeout_input = Input(shape=[1], name=\"restakeout-Input\")\n",
    "restakeout_embedding = Embedding(n_restakeout + 1, 5, name=\"restakeout-Embedding\")(restakeout_input)\n",
    "restakeout_vec = Flatten(name=\"Flatten-restakeout\")(restakeout_embedding)\n",
    "\n",
    "#creating funny embedding path\n",
    "funny_input = Input(shape=[1], name=\"funny-Input\")\n",
    "funny_embedding = Embedding(n_funny+1, 5, name=\"Funny-Embedding\")(funny_input)\n",
    "funny_vec = Flatten(name=\"Flatten-Funny\")(funny_embedding)\n",
    "\n",
    "#creating cool embedding path\n",
    "cool_input = Input(shape=[1], name=\"cool-Input\")\n",
    "cool_embedding = Embedding(n_cool+1, 5, name=\"Cool-Embedding\")(cool_input)\n",
    "cool_vec = Flatten(name=\"Flatten-cool\")(cool_embedding)\n",
    "\n",
    "#creating a restaurant price range embedding path\n",
    "resprice_input = Input(shape=[1], name=\"resprice-Input\")\n",
    "resprice_embedding = Embedding(n_resprice + 1, 5, name=\"resprice-Embedding\")(resprice_input)\n",
    "resprice_vec = Flatten(name=\"Flatten-resprice\")(resprice_embedding)\n",
    "\n",
    "#creating a Goodforkids embedding path\n",
    "goodforkids_input = Input(shape=[1], name=\"goodforkids-Input\")\n",
    "goodforkids_embedding = Embedding(n_goodforkids + 1, 5, name=\"goodforkids-Embedding\")(goodforkids_input)\n",
    "goodforkids_vec = Flatten(name=\"Flatten-goodforkids\")(goodforkids_embedding)\n",
    "\n",
    "#creating a HasTV embedding path\n",
    "hastv_input = Input(shape=[1], name=\"hastv-Input\")\n",
    "hastv_embedding = Embedding(n_hastv + 1, 5, name=\"hastv-Embedding\")(hastv_input)\n",
    "hastv_vec = Flatten(name=\"Flatten-hastv\")(hastv_embedding)\n",
    "\n",
    "#creating a Restaurant good for groups embedding path\n",
    "resgrp_input = Input(shape=[1], name=\"resgrp-Input\")\n",
    "resgrp_embedding = Embedding(n_resgrp + 1, 5, name=\"resgrp-Embedding\")(resgrp_input)\n",
    "resgrp_vec = Flatten(name=\"Flatten-resgrp\")(resgrp_embedding)\n",
    "\n",
    "#creating a Restaurant Reservations embedding path\n",
    "resreserve_input = Input(shape=[1], name=\"resreserve-Input\")\n",
    "resreserve_embedding = Embedding(n_resreserve + 1, 5, name=\"resreserve-Embedding\")(resreserve_input)\n",
    "resreserve_vec = Flatten(name=\"Flatten-resreserve\")(resreserve_embedding)\n",
    "\n",
    "#creating a restaurant delivery embedding path\n",
    "resdelivery_input = Input(shape=[1], name=\"resdelivery-Input\")\n",
    "resdelivery_embedding = Embedding(n_resdelivery + 1, 5, name=\"resdelivery-Embedding\")(resdelivery_input)\n",
    "resdelivery_vec = Flatten(name=\"Flatten-resdelivery\")(resdelivery_embedding)\n",
    "\n",
    "#creating an outdoor seating embedding path\n",
    "outdoor_input = Input(shape=[1], name=\"outdoor-Input\")\n",
    "outdoor_embedding = Embedding(n_outdoor + 1, 5, name=\"outdoor-Embedding\")(outdoor_input)\n",
    "outdoor_vec = Flatten(name=\"Flatten-outdoor\")(outdoor_embedding)\n",
    "\n",
    "#creating a bikeparking  embedding path\n",
    "bike_input = Input(shape=[1], name=\"bike-Input\")\n",
    "bike_embedding = Embedding(n_bike + 1, 5, name=\"bike-Embedding\")(bike_input)\n",
    "bike_vec = Flatten(name=\"Flatten-bike\")(bike_embedding)\n",
    "\n",
    "#creating alcohol embedding path\n",
    "alcohol_input = Input(shape=[1], name=\"alcohol-Input\")\n",
    "alcohol_embedding = Embedding(n_alcohol + 1, 5, name=\"alcohol-Embedding\")(alcohol_input)\n",
    "alcohol_vec = Flatten(name=\"Flatten-alcohol\")(alcohol_embedding)\n",
    "\n",
    "#Creating a restaurant attire path\n",
    "resattire_input = Input(shape=[1], name=\"resattire-Input\")\n",
    "resattire_embedding = Embedding(n_resattire + 1, 5, name=\"resattire-Embedding\")(resattire_input)\n",
    "resattire_vec = Flatten(name=\"Flatten-resattire\")(resattire_embedding)\n",
    "\n",
    "#creating wifi embedding path\n",
    "wifi_input = Input(shape=[1], name=\"wifi-Input\")\n",
    "wifi_embedding = Embedding(n_wifi + 1, 5, name=\"wifi-Embedding\")(wifi_input)\n",
    "wifi_vec = Flatten(name=\"Flatten-wifi\")(wifi_embedding)\n",
    "\n",
    "\n",
    "# concatenate features\n",
    "conc = Concatenate()([busi_vec, user_vec, stars_vec, useful_vec,funny_vec, cool_vec,restakeout_vec,resprice_vec,goodforkids_vec,hastv_vec,resgrp_vec,resreserve_vec,resdelivery_vec, outdoor_vec,bike_vec,alcohol_vec, resattire_vec, wifi_vec])\n",
    "\n",
    "# add fully-connected-layers\n",
    "fc1 = Dense(128, activation='relu')(conc)\n",
    "fc2 = Dense(32, activation='relu')(fc1)\n",
    "out = Dense(1)(fc2)\n",
    "\n",
    "# Create model and compile it and store the best model(the corresponding weights) throughout the epochs.\n",
    "filepath= \"weights2.best.hdf5\"\n",
    "model = Model([user_input, busi_input,stars_input, useful_input,funny_input,cool_input, restakeout_input,resprice_input,goodforkids_input,hastv_input,resgrp_input, resreserve_input,resdelivery_input, outdoor_input,bike_input,alcohol_input, resattire_input,wifi_input], out)\n",
    "mc=ModelCheckpoint(filepath,monitor='val_loss',mode='min',save_best_only=True, verbose = 1)\n",
    "optimizers.Adam(learning_rate=0.005)\n",
    "model.compile('adam', 'mean_squared_error')"
   ]
  },
  {
   "cell_type": "markdown",
   "metadata": {},
   "source": [
    "Fitting the model with training data having learning rate 0.005"
   ]
  },
  {
   "cell_type": "code",
   "execution_count": 106,
   "metadata": {
    "colab": {},
    "colab_type": "code",
    "id": "2NQxi9a7Ow49"
   },
   "outputs": [
    {
     "name": "stderr",
     "output_type": "stream",
     "text": [
      "C:\\Users\\arush\\AppData\\Local\\Continuum\\anaconda3\\lib\\site-packages\\tensorflow_core\\python\\framework\\indexed_slices.py:424: UserWarning: Converting sparse IndexedSlices to a dense Tensor of unknown shape. This may consume a large amount of memory.\n",
      "  \"Converting sparse IndexedSlices to a dense Tensor of unknown shape. \"\n"
     ]
    },
    {
     "name": "stdout",
     "output_type": "stream",
     "text": [
      "Train on 868603 samples, validate on 53192 samples\n",
      "Epoch 1/30\n",
      "868603/868603 [==============================] - 109s 126us/step - loss: 1.1369 - val_loss: 1.3399\n",
      "\n",
      "Epoch 00001: val_loss improved from inf to 1.33986, saving model to weights2.best.hdf5\n",
      "Epoch 2/30\n",
      "868603/868603 [==============================] - 112s 128us/step - loss: 0.9790 - val_loss: 1.3077\n",
      "\n",
      "Epoch 00002: val_loss improved from 1.33986 to 1.30774, saving model to weights2.best.hdf5\n",
      "Epoch 3/30\n",
      "868603/868603 [==============================] - 120s 138us/step - loss: 0.9158 - val_loss: 1.3206\n",
      "\n",
      "Epoch 00003: val_loss did not improve from 1.30774\n",
      "Epoch 4/30\n",
      "868603/868603 [==============================] - 107s 123us/step - loss: 0.8681 - val_loss: 1.3440\n",
      "\n",
      "Epoch 00004: val_loss did not improve from 1.30774\n",
      "Epoch 5/30\n",
      "868603/868603 [==============================] - 107s 123us/step - loss: 0.8252 - val_loss: 1.3581\n",
      "\n",
      "Epoch 00005: val_loss did not improve from 1.30774\n",
      "Epoch 6/30\n",
      "868603/868603 [==============================] - 107s 123us/step - loss: 0.7895 - val_loss: 1.3773\n",
      "\n",
      "Epoch 00006: val_loss did not improve from 1.30774\n",
      "Epoch 7/30\n",
      "868603/868603 [==============================] - 110s 127us/step - loss: 0.7624 - val_loss: 1.4195\n",
      "\n",
      "Epoch 00007: val_loss did not improve from 1.30774\n",
      "Epoch 8/30\n",
      "868603/868603 [==============================] - 114s 132us/step - loss: 0.7397 - val_loss: 1.4266\n",
      "\n",
      "Epoch 00008: val_loss did not improve from 1.30774\n",
      "Epoch 9/30\n",
      "868603/868603 [==============================] - 113s 131us/step - loss: 0.7206 - val_loss: 1.4607\n",
      "\n",
      "Epoch 00009: val_loss did not improve from 1.30774\n",
      "Epoch 10/30\n",
      "868603/868603 [==============================] - 117s 135us/step - loss: 0.7040 - val_loss: 1.4837\n",
      "\n",
      "Epoch 00010: val_loss did not improve from 1.30774\n",
      "Epoch 11/30\n",
      "868603/868603 [==============================] - 115s 132us/step - loss: 0.6897 - val_loss: 1.5237\n",
      "\n",
      "Epoch 00011: val_loss did not improve from 1.30774\n",
      "Epoch 12/30\n",
      "868603/868603 [==============================] - 112s 129us/step - loss: 0.6765 - val_loss: 1.5222\n",
      "\n",
      "Epoch 00012: val_loss did not improve from 1.30774\n",
      "Epoch 13/30\n",
      "868603/868603 [==============================] - 115s 133us/step - loss: 0.6647 - val_loss: 1.5252\n",
      "\n",
      "Epoch 00013: val_loss did not improve from 1.30774\n",
      "Epoch 14/30\n",
      "868603/868603 [==============================] - 117s 134us/step - loss: 0.6541 - val_loss: 1.5514\n",
      "\n",
      "Epoch 00014: val_loss did not improve from 1.30774\n",
      "Epoch 15/30\n",
      "868603/868603 [==============================] - 117s 135us/step - loss: 0.6439 - val_loss: 1.5622\n",
      "\n",
      "Epoch 00015: val_loss did not improve from 1.30774\n",
      "Epoch 16/30\n",
      "868603/868603 [==============================] - 115s 132us/step - loss: 0.6347 - val_loss: 1.6245\n",
      "\n",
      "Epoch 00016: val_loss did not improve from 1.30774\n",
      "Epoch 17/30\n",
      "868603/868603 [==============================] - 121s 139us/step - loss: 0.6266 - val_loss: 1.6016\n",
      "\n",
      "Epoch 00017: val_loss did not improve from 1.30774\n",
      "Epoch 18/30\n",
      "868603/868603 [==============================] - 122s 140us/step - loss: 0.6190 - val_loss: 1.6260\n",
      "\n",
      "Epoch 00018: val_loss did not improve from 1.30774\n",
      "Epoch 19/30\n",
      "868603/868603 [==============================] - 115s 132us/step - loss: 0.6113 - val_loss: 1.6394\n",
      "\n",
      "Epoch 00019: val_loss did not improve from 1.30774\n",
      "Epoch 20/30\n",
      "868603/868603 [==============================] - 117s 135us/step - loss: 0.6045 - val_loss: 1.6601\n",
      "\n",
      "Epoch 00020: val_loss did not improve from 1.30774\n",
      "Epoch 21/30\n",
      "868603/868603 [==============================] - 114s 131us/step - loss: 0.5978 - val_loss: 1.6806\n",
      "\n",
      "Epoch 00021: val_loss did not improve from 1.30774\n",
      "Epoch 22/30\n",
      "868603/868603 [==============================] - 113s 130us/step - loss: 0.5914 - val_loss: 1.6753\n",
      "\n",
      "Epoch 00022: val_loss did not improve from 1.30774\n",
      "Epoch 23/30\n",
      "868603/868603 [==============================] - 116s 134us/step - loss: 0.5855 - val_loss: 1.7029\n",
      "\n",
      "Epoch 00023: val_loss did not improve from 1.30774\n",
      "Epoch 24/30\n",
      "868603/868603 [==============================] - 113s 130us/step - loss: 0.5802 - val_loss: 1.6991\n",
      "\n",
      "Epoch 00024: val_loss did not improve from 1.30774\n",
      "Epoch 25/30\n",
      "868603/868603 [==============================] - 120s 138us/step - loss: 0.5747 - val_loss: 1.7113\n",
      "\n",
      "Epoch 00025: val_loss did not improve from 1.30774\n",
      "Epoch 26/30\n",
      "868603/868603 [==============================] - 117s 135us/step - loss: 0.5699 - val_loss: 1.7183\n",
      "\n",
      "Epoch 00026: val_loss did not improve from 1.30774\n",
      "Epoch 27/30\n",
      "868603/868603 [==============================] - 114s 132us/step - loss: 0.5647 - val_loss: 1.7282\n",
      "\n",
      "Epoch 00027: val_loss did not improve from 1.30774\n",
      "Epoch 28/30\n",
      "868603/868603 [==============================] - 121s 139us/step - loss: 0.5611 - val_loss: 1.7364\n",
      "\n",
      "Epoch 00028: val_loss did not improve from 1.30774\n",
      "Epoch 29/30\n",
      "868603/868603 [==============================] - 112s 128us/step - loss: 0.5560 - val_loss: 1.7344\n",
      "\n",
      "Epoch 00029: val_loss did not improve from 1.30774\n",
      "Epoch 30/30\n",
      "868603/868603 [==============================] - 115s 132us/step - loss: 0.5519 - val_loss: 1.7848\n",
      "\n",
      "Epoch 00030: val_loss did not improve from 1.30774\n"
     ]
    },
    {
     "data": {
      "text/plain": [
       "Text(0, 0.5, 'Training Error')"
      ]
     },
     "execution_count": 106,
     "metadata": {},
     "output_type": "execute_result"
    },
    {
     "data": {
      "image/png": "[encoded data removed]",
      "text/plain": [
       "<Figure size 432x288 with 1 Axes>"
      ]
     },
     "metadata": {
      "needs_background": "light"
     },
     "output_type": "display_data"
    }
   ],
   "source": [
    "#fitting the model\n",
    "history = model.fit([X_train.USER_ID, X_train.BUSINESS_ID,X_train.stars, X_train.useful_x,X_train.funny_x,X_train.cool_x, X_train.RestaurantsTakeOut, X_train.RestaurantsPriceRange2, X_train.GoodForKids, X_train.HasTV, X_train.RestaurantsGoodForGroups,X_train.RestaurantsReservations,X_train.RestaurantsDelivery, X_train.OutdoorSeating, X_train.BikeParking, X_train.Alcohol, X_train.RestaurantsAttire,X_train.WiFi], y_train.rating,batch_size=64,validation_data = ([X_test.USER_ID, X_test.BUSINESS_ID, X_test.stars, X_test.useful_x,X_test.funny_x,X_test.cool_x, X_test.RestaurantsTakeOut,X_test.RestaurantsPriceRange2,X_test.GoodForKids,X_test.HasTV,X_test.RestaurantsGoodForGroups, X_test.RestaurantsReservations, X_test.RestaurantsDelivery, X_test.OutdoorSeating, X_test.BikeParking, X_test.Alcohol, X_test.RestaurantsAttire, X_test.WiFi], y_test.rating), epochs=30, verbose=1,callbacks=[mc])\n",
    "\n",
    "plt.plot(history.history['loss'])\n",
    "plt.xlabel(\"Epochs\")\n",
    "plt.ylabel(\"Training Error\")"
   ]
  },
  {
   "cell_type": "markdown",
   "metadata": {},
   "source": [
    "Loading the best model from all the 30 epochs "
   ]
  },
  {
   "cell_type": "code",
   "execution_count": 108,
   "metadata": {},
   "outputs": [
    {
     "name": "stdout",
     "output_type": "stream",
     "text": [
      "53192/53192 [==============================] - 4s 67us/step\n"
     ]
    },
    {
     "data": {
      "text/plain": [
       "1.3077445050830643"
      ]
     },
     "execution_count": 108,
     "metadata": {},
     "output_type": "execute_result"
    }
   ],
   "source": [
    "model.load_weights(\"weights2.best.hdf5\")\n",
    "model.evaluate([X_test.USER_ID, X_test.BUSINESS_ID, X_test.stars, X_test.useful_x,X_test.funny_x,X_test.cool_x, X_test.RestaurantsTakeOut,X_test.RestaurantsPriceRange2,X_test.GoodForKids,X_test.HasTV,X_test.RestaurantsGoodForGroups, X_test.RestaurantsReservations, X_test.RestaurantsDelivery, X_test.OutdoorSeating, X_test.BikeParking, X_test.Alcohol, X_test.RestaurantsAttire, X_test.WiFi], y_test.rating)"
   ]
  },
  {
   "cell_type": "markdown",
   "metadata": {},
   "source": [
    "Predicting the last rating of the user"
   ]
  },
  {
   "cell_type": "code",
   "execution_count": 110,
   "metadata": {},
   "outputs": [],
   "source": [
    "predictions = model.predict([X_test.USER_ID, X_test.BUSINESS_ID, X_test.stars, X_test.useful_x,X_test.funny_x,X_test.cool_x, X_test.RestaurantsTakeOut,X_test.RestaurantsPriceRange2,X_test.GoodForKids,X_test.HasTV, X_test.RestaurantsGoodForGroups,  X_test.RestaurantsReservations, X_test.RestaurantsDelivery,X_test.OutdoorSeating, X_test.BikeParking, X_test.Alcohol, X_test.RestaurantsAttire, X_test.WiFi])\n",
    "#[print(predictions[i], y_test.rating.iloc[i]) for i in range(0,len(predictions))]"
   ]
  },
  {
   "cell_type": "markdown",
   "metadata": {},
   "source": [
    "Finding Root mean squared error for the predictions made"
   ]
  },
  {
   "cell_type": "code",
   "execution_count": 111,
   "metadata": {},
   "outputs": [
    {
     "data": {
      "text/plain": [
       "1.1435665722222932"
      ]
     },
     "execution_count": 111,
     "metadata": {},
     "output_type": "execute_result"
    }
   ],
   "source": [
    "rms = sqrt(mean_squared_error(predictions, y_test.rating))\n",
    "rms"
   ]
  },
  {
   "cell_type": "markdown",
   "metadata": {},
   "source": [
    "# Model with learning rate 0.01"
   ]
  },
  {
   "cell_type": "code",
   "execution_count": 155,
   "metadata": {},
   "outputs": [],
   "source": [
    "# creating business embedding path\n",
    "busi_input = Input(shape=[1], name=\"busi-Input\")\n",
    "busi_embedding = Embedding(n_busi+1, 5, name=\"busi-Embedding\")(busi_input)\n",
    "busi_vec = Flatten(name=\"Flatten-busi\")(busi_embedding)\n",
    "\n",
    "# creating user embedding path\n",
    "user_input = Input(shape=[1], name=\"User-Input\")\n",
    "user_embedding = Embedding(n_users+1, 5, name=\"User-Embedding\")(user_input)\n",
    "user_vec = Flatten(name=\"Flatten-Users\")(user_embedding)\n",
    "\n",
    "#creating stars embedding path\n",
    "stars_input = Input(shape=[1], name=\"Stars-Input\")\n",
    "stars_embedding = Embedding(n_stars+1, 5, name=\"Stars-Embedding\")(stars_input)\n",
    "stars_vec = Flatten(name=\"Flatten-Stars\")(stars_embedding)\n",
    "\n",
    "#creating useful embedding path\n",
    "useful_input = Input(shape=[1], name=\"Useful-Input\")\n",
    "useful_embedding = Embedding(n_useful+1, 5, name=\"Useful-Embedding\")(useful_input)\n",
    "useful_vec = Flatten(name=\"Flatten-Useful\")(useful_embedding)\n",
    "\n",
    "#creating restauranttakeout embedding path\n",
    "restakeout_input = Input(shape=[1], name=\"restakeout-Input\")\n",
    "restakeout_embedding = Embedding(n_restakeout + 1, 5, name=\"restakeout-Embedding\")(restakeout_input)\n",
    "restakeout_vec = Flatten(name=\"Flatten-restakeout\")(restakeout_embedding)\n",
    "\n",
    "#creating funny embedding path\n",
    "funny_input = Input(shape=[1], name=\"funny-Input\")\n",
    "funny_embedding = Embedding(n_funny+1, 5, name=\"Funny-Embedding\")(funny_input)\n",
    "funny_vec = Flatten(name=\"Flatten-Funny\")(funny_embedding)\n",
    "\n",
    "#creating cool embedding path\n",
    "cool_input = Input(shape=[1], name=\"cool-Input\")\n",
    "cool_embedding = Embedding(n_cool+1, 5, name=\"Cool-Embedding\")(cool_input)\n",
    "cool_vec = Flatten(name=\"Flatten-cool\")(cool_embedding)\n",
    "\n",
    "#creating a restaurant price range embedding path\n",
    "resprice_input = Input(shape=[1], name=\"resprice-Input\")\n",
    "resprice_embedding = Embedding(n_resprice + 1, 5, name=\"resprice-Embedding\")(resprice_input)\n",
    "resprice_vec = Flatten(name=\"Flatten-resprice\")(resprice_embedding)\n",
    "\n",
    "#creating a Goodforkids embedding path\n",
    "goodforkids_input = Input(shape=[1], name=\"goodforkids-Input\")\n",
    "goodforkids_embedding = Embedding(n_goodforkids + 1, 5, name=\"goodforkids-Embedding\")(goodforkids_input)\n",
    "goodforkids_vec = Flatten(name=\"Flatten-goodforkids\")(goodforkids_embedding)\n",
    "\n",
    "#creating a HasTV embedding path\n",
    "hastv_input = Input(shape=[1], name=\"hastv-Input\")\n",
    "hastv_embedding = Embedding(n_hastv + 1, 5, name=\"hastv-Embedding\")(hastv_input)\n",
    "hastv_vec = Flatten(name=\"Flatten-hastv\")(hastv_embedding)\n",
    "\n",
    "#creating a Restaurant good for groups embedding path\n",
    "resgrp_input = Input(shape=[1], name=\"resgrp-Input\")\n",
    "resgrp_embedding = Embedding(n_resgrp + 1, 5, name=\"resgrp-Embedding\")(resgrp_input)\n",
    "resgrp_vec = Flatten(name=\"Flatten-resgrp\")(resgrp_embedding)\n",
    "\n",
    "#creating a Restaurant Reservations embedding path\n",
    "resreserve_input = Input(shape=[1], name=\"resreserve-Input\")\n",
    "resreserve_embedding = Embedding(n_resreserve + 1, 5, name=\"resreserve-Embedding\")(resreserve_input)\n",
    "resreserve_vec = Flatten(name=\"Flatten-resreserve\")(resreserve_embedding)\n",
    "\n",
    "#creating a restaurant delivery embedding path\n",
    "resdelivery_input = Input(shape=[1], name=\"resdelivery-Input\")\n",
    "resdelivery_embedding = Embedding(n_resdelivery + 1, 5, name=\"resdelivery-Embedding\")(resdelivery_input)\n",
    "resdelivery_vec = Flatten(name=\"Flatten-resdelivery\")(resdelivery_embedding)\n",
    "\n",
    "#creating an outdoor seating embedding path\n",
    "outdoor_input = Input(shape=[1], name=\"outdoor-Input\")\n",
    "outdoor_embedding = Embedding(n_outdoor + 1, 5, name=\"outdoor-Embedding\")(outdoor_input)\n",
    "outdoor_vec = Flatten(name=\"Flatten-outdoor\")(outdoor_embedding)\n",
    "\n",
    "#creating a bikeparking  embedding path\n",
    "bike_input = Input(shape=[1], name=\"bike-Input\")\n",
    "bike_embedding = Embedding(n_bike + 1, 5, name=\"bike-Embedding\")(bike_input)\n",
    "bike_vec = Flatten(name=\"Flatten-bike\")(bike_embedding)\n",
    "\n",
    "#creating alcohol embedding path\n",
    "alcohol_input = Input(shape=[1], name=\"alcohol-Input\")\n",
    "alcohol_embedding = Embedding(n_alcohol + 1, 5, name=\"alcohol-Embedding\")(alcohol_input)\n",
    "alcohol_vec = Flatten(name=\"Flatten-alcohol\")(alcohol_embedding)\n",
    "\n",
    "#Creating a restaurant attire path\n",
    "resattire_input = Input(shape=[1], name=\"resattire-Input\")\n",
    "resattire_embedding = Embedding(n_resattire + 1, 5, name=\"resattire-Embedding\")(resattire_input)\n",
    "resattire_vec = Flatten(name=\"Flatten-resattire\")(resattire_embedding)\n",
    "\n",
    "#creating wifi embedding path\n",
    "wifi_input = Input(shape=[1], name=\"wifi-Input\")\n",
    "wifi_embedding = Embedding(n_wifi + 1, 5, name=\"wifi-Embedding\")(wifi_input)\n",
    "wifi_vec = Flatten(name=\"Flatten-wifi\")(wifi_embedding)\n",
    "\n",
    "\n",
    "# concatenate features\n",
    "conc = Concatenate()([busi_vec, user_vec, stars_vec, useful_vec,funny_vec, cool_vec,restakeout_vec,resprice_vec,goodforkids_vec,hastv_vec,resgrp_vec,resreserve_vec,resdelivery_vec, outdoor_vec,bike_vec,alcohol_vec, resattire_vec, wifi_vec])\n",
    "\n",
    "# add fully-connected-layers\n",
    "fc1 = Dense(128, activation='relu')(conc)\n",
    "fc2 = Dense(32, activation='relu')(fc1)\n",
    "out = Dense(1)(fc2)\n",
    "\n",
    "# Create model and compile it and store the best model(the corresponding weights) throughout the epochs.\n",
    "filepath= \"weights3.best.hdf5\"\n",
    "model3 = Model([user_input, busi_input,stars_input, useful_input,funny_input,cool_input, restakeout_input,resprice_input,goodforkids_input,hastv_input,resgrp_input, resreserve_input,resdelivery_input, outdoor_input,bike_input,alcohol_input, resattire_input,wifi_input], out)\n",
    "mc=ModelCheckpoint(filepath,monitor='val_loss',mode='min',save_best_only=True, verbose = 1)\n",
    "optimizers.Adam(learning_rate=0.01)\n",
    "model3.compile('adam', 'mean_squared_error')"
   ]
  },
  {
   "cell_type": "code",
   "execution_count": 156,
   "metadata": {},
   "outputs": [
    {
     "name": "stderr",
     "output_type": "stream",
     "text": [
      "C:\\Users\\arush\\AppData\\Local\\Continuum\\anaconda3\\lib\\site-packages\\tensorflow_core\\python\\framework\\indexed_slices.py:424: UserWarning: Converting sparse IndexedSlices to a dense Tensor of unknown shape. This may consume a large amount of memory.\n",
      "  \"Converting sparse IndexedSlices to a dense Tensor of unknown shape. \"\n"
     ]
    },
    {
     "name": "stdout",
     "output_type": "stream",
     "text": [
      "Train on 868603 samples, validate on 53192 samples\n",
      "Epoch 1/30\n",
      "868603/868603 [==============================] - 141s 162us/step - loss: 1.1456 - val_loss: 1.3460\n",
      "\n",
      "Epoch 00001: val_loss improved from inf to 1.34598, saving model to weights3.best.hdf5\n",
      "Epoch 2/30\n",
      "868603/868603 [==============================] - 131s 151us/step - loss: 0.9854 - val_loss: 1.3339\n",
      "\n",
      "Epoch 00002: val_loss improved from 1.34598 to 1.33393, saving model to weights3.best.hdf5\n",
      "Epoch 3/30\n",
      "868603/868603 [==============================] - 127s 146us/step - loss: 0.9201 - val_loss: 1.3161\n",
      "\n",
      "Epoch 00003: val_loss improved from 1.33393 to 1.31605, saving model to weights3.best.hdf5\n",
      "Epoch 4/30\n",
      "868603/868603 [==============================] - 148s 170us/step - loss: 0.8703 - val_loss: 1.3422\n",
      "\n",
      "Epoch 00004: val_loss did not improve from 1.31605\n",
      "Epoch 5/30\n",
      "868603/868603 [==============================] - 149s 171us/step - loss: 0.8287 - val_loss: 1.3605\n",
      "\n",
      "Epoch 00005: val_loss did not improve from 1.31605\n",
      "Epoch 6/30\n",
      "868603/868603 [==============================] - 134s 154us/step - loss: 0.7954 - val_loss: 1.3765\n",
      "\n",
      "Epoch 00006: val_loss did not improve from 1.31605\n",
      "Epoch 7/30\n",
      "868603/868603 [==============================] - 132s 152us/step - loss: 0.7686 - val_loss: 1.3981\n",
      "\n",
      "Epoch 00007: val_loss did not improve from 1.31605\n",
      "Epoch 8/30\n",
      "868603/868603 [==============================] - 129s 149us/step - loss: 0.7464 - val_loss: 1.4270\n",
      "\n",
      "Epoch 00008: val_loss did not improve from 1.31605\n",
      "Epoch 9/30\n",
      "868603/868603 [==============================] - 142s 164us/step - loss: 0.7274 - val_loss: 1.4451\n",
      "\n",
      "Epoch 00009: val_loss did not improve from 1.31605\n",
      "Epoch 10/30\n",
      "868603/868603 [==============================] - 142s 163us/step - loss: 0.7107 - val_loss: 1.4933\n",
      "\n",
      "Epoch 00010: val_loss did not improve from 1.31605\n",
      "Epoch 11/30\n",
      "868603/868603 [==============================] - 132s 151us/step - loss: 0.6960 - val_loss: 1.4967\n",
      "\n",
      "Epoch 00011: val_loss did not improve from 1.31605\n",
      "Epoch 12/30\n",
      "868603/868603 [==============================] - 134s 154us/step - loss: 0.6831 - val_loss: 1.5121\n",
      "\n",
      "Epoch 00012: val_loss did not improve from 1.31605\n",
      "Epoch 13/30\n",
      "868603/868603 [==============================] - 142s 163us/step - loss: 0.6706 - val_loss: 1.5385\n",
      "\n",
      "Epoch 00013: val_loss did not improve from 1.31605\n",
      "Epoch 14/30\n",
      "868603/868603 [==============================] - 131s 150us/step - loss: 0.6597 - val_loss: 1.5529\n",
      "\n",
      "Epoch 00014: val_loss did not improve from 1.31605\n",
      "Epoch 15/30\n",
      "868603/868603 [==============================] - 138s 159us/step - loss: 0.6497 - val_loss: 1.5756\n",
      "\n",
      "Epoch 00015: val_loss did not improve from 1.31605\n",
      "Epoch 16/30\n",
      "868603/868603 [==============================] - 140s 162us/step - loss: 0.6396 - val_loss: 1.5978\n",
      "\n",
      "Epoch 00016: val_loss did not improve from 1.31605\n",
      "Epoch 17/30\n",
      "868603/868603 [==============================] - 131s 151us/step - loss: 0.6307 - val_loss: 1.6095\n",
      "\n",
      "Epoch 00017: val_loss did not improve from 1.31605\n",
      "Epoch 18/30\n",
      "868603/868603 [==============================] - 137s 158us/step - loss: 0.6225 - val_loss: 1.6270\n",
      "\n",
      "Epoch 00018: val_loss did not improve from 1.31605\n",
      "Epoch 19/30\n",
      "868603/868603 [==============================] - 130s 149us/step - loss: 0.6146 - val_loss: 1.6551\n",
      "\n",
      "Epoch 00019: val_loss did not improve from 1.31605\n",
      "Epoch 20/30\n",
      "868603/868603 [==============================] - 140s 161us/step - loss: 0.6073 - val_loss: 1.6773\n",
      "\n",
      "Epoch 00020: val_loss did not improve from 1.31605\n",
      "Epoch 21/30\n",
      "868603/868603 [==============================] - 127s 146us/step - loss: 0.6003 - val_loss: 1.6978\n",
      "\n",
      "Epoch 00021: val_loss did not improve from 1.31605\n",
      "Epoch 22/30\n",
      "868603/868603 [==============================] - 130s 149us/step - loss: 0.5937 - val_loss: 1.6776\n",
      "\n",
      "Epoch 00022: val_loss did not improve from 1.31605\n",
      "Epoch 23/30\n",
      "868603/868603 [==============================] - 128s 147us/step - loss: 0.5881 - val_loss: 1.6869\n",
      "\n",
      "Epoch 00023: val_loss did not improve from 1.31605\n",
      "Epoch 24/30\n",
      "868603/868603 [==============================] - 129s 148us/step - loss: 0.5813 - val_loss: 1.7211\n",
      "\n",
      "Epoch 00024: val_loss did not improve from 1.31605\n",
      "Epoch 25/30\n",
      "868603/868603 [==============================] - 129s 148us/step - loss: 0.5762 - val_loss: 1.7096\n",
      "\n",
      "Epoch 00025: val_loss did not improve from 1.31605\n",
      "Epoch 26/30\n",
      "868603/868603 [==============================] - 129s 149us/step - loss: 0.5714 - val_loss: 1.7305\n",
      "\n",
      "Epoch 00026: val_loss did not improve from 1.31605\n",
      "Epoch 27/30\n",
      "868603/868603 [==============================] - 129s 149us/step - loss: 0.5659 - val_loss: 1.7299\n",
      "\n",
      "Epoch 00027: val_loss did not improve from 1.31605\n",
      "Epoch 28/30\n",
      "868603/868603 [==============================] - 134s 154us/step - loss: 0.5615 - val_loss: 1.7470\n",
      "\n",
      "Epoch 00028: val_loss did not improve from 1.31605\n",
      "Epoch 29/30\n",
      "868603/868603 [==============================] - 134s 154us/step - loss: 0.5570 - val_loss: 1.7255\n",
      "\n",
      "Epoch 00029: val_loss did not improve from 1.31605\n",
      "Epoch 30/30\n",
      "868603/868603 [==============================] - 138s 159us/step - loss: 0.5525 - val_loss: 1.7525\n",
      "\n",
      "Epoch 00030: val_loss did not improve from 1.31605\n"
     ]
    },
    {
     "data": {
      "text/plain": [
       "Text(0, 0.5, 'Training Error')"
      ]
     },
     "execution_count": 156,
     "metadata": {},
     "output_type": "execute_result"
    },
    {
     "data": {
      "image/png": "[encoded data removed]",
      "text/plain": [
       "<Figure size 432x288 with 1 Axes>"
      ]
     },
     "metadata": {
      "needs_background": "light"
     },
     "output_type": "display_data"
    }
   ],
   "source": [
    "#fitting the model\n",
    "history = model3.fit([X_train.USER_ID, X_train.BUSINESS_ID,X_train.stars, X_train.useful_x,X_train.funny_x,X_train.cool_x, X_train.RestaurantsTakeOut, X_train.RestaurantsPriceRange2, X_train.GoodForKids, X_train.HasTV, X_train.RestaurantsGoodForGroups,X_train.RestaurantsReservations,X_train.RestaurantsDelivery, X_train.OutdoorSeating, X_train.BikeParking, X_train.Alcohol, X_train.RestaurantsAttire,X_train.WiFi], y_train.rating,batch_size=64,validation_data = ([X_test.USER_ID, X_test.BUSINESS_ID, X_test.stars, X_test.useful_x,X_test.funny_x,X_test.cool_x, X_test.RestaurantsTakeOut,X_test.RestaurantsPriceRange2,X_test.GoodForKids,X_test.HasTV,X_test.RestaurantsGoodForGroups, X_test.RestaurantsReservations, X_test.RestaurantsDelivery, X_test.OutdoorSeating, X_test.BikeParking, X_test.Alcohol, X_test.RestaurantsAttire, X_test.WiFi], y_test.rating), epochs=30, verbose=1,callbacks=[mc])\n",
    "\n",
    "plt.plot(history.history['loss'])\n",
    "plt.xlabel(\"Epochs\")\n",
    "plt.ylabel(\"Training Error\")"
   ]
  },
  {
   "cell_type": "markdown",
   "metadata": {},
   "source": [
    "Evaluating the trained model having learning rate 0.01"
   ]
  },
  {
   "cell_type": "code",
   "execution_count": 157,
   "metadata": {},
   "outputs": [
    {
     "name": "stdout",
     "output_type": "stream",
     "text": [
      "53192/53192 [==============================] - 6s 107us/step\n"
     ]
    },
    {
     "data": {
      "text/plain": [
       "1.3160515319926342"
      ]
     },
     "execution_count": 157,
     "metadata": {},
     "output_type": "execute_result"
    }
   ],
   "source": [
    "model3.load_weights(\"weights3.best.hdf5\")\n",
    "model3.evaluate([X_test.USER_ID, X_test.BUSINESS_ID, X_test.stars, X_test.useful_x,X_test.funny_x,X_test.cool_x, X_test.RestaurantsTakeOut,X_test.RestaurantsPriceRange2,X_test.GoodForKids,X_test.HasTV,X_test.RestaurantsGoodForGroups, X_test.RestaurantsReservations, X_test.RestaurantsDelivery, X_test.OutdoorSeating, X_test.BikeParking, X_test.Alcohol, X_test.RestaurantsAttire, X_test.WiFi], y_test.rating)"
   ]
  },
  {
   "cell_type": "markdown",
   "metadata": {},
   "source": [
    "Predicting the last rating of the user\n"
   ]
  },
  {
   "cell_type": "code",
   "execution_count": 158,
   "metadata": {},
   "outputs": [],
   "source": [
    "predictions3 = model3.predict([X_test.USER_ID, X_test.BUSINESS_ID, X_test.stars, X_test.useful_x,X_test.funny_x,X_test.cool_x, X_test.RestaurantsTakeOut,X_test.RestaurantsPriceRange2,X_test.GoodForKids,X_test.HasTV, X_test.RestaurantsGoodForGroups,  X_test.RestaurantsReservations, X_test.RestaurantsDelivery,X_test.OutdoorSeating, X_test.BikeParking, X_test.Alcohol, X_test.RestaurantsAttire, X_test.WiFi])\n",
    "#[print(predictions[i], y_test.rating.iloc[i]) for i in range(0,len(predictions))]"
   ]
  },
  {
   "cell_type": "code",
   "execution_count": 159,
   "metadata": {},
   "outputs": [
    {
     "data": {
      "text/plain": [
       "1.14719289159567"
      ]
     },
     "execution_count": 159,
     "metadata": {},
     "output_type": "execute_result"
    }
   ],
   "source": [
    "rms = sqrt(mean_squared_error(predictions3, y_test.rating))\n",
    "rms"
   ]
  },
  {
   "cell_type": "markdown",
   "metadata": {},
   "source": [
    "# Model with learning rate  = 0.0001"
   ]
  },
  {
   "cell_type": "markdown",
   "metadata": {},
   "source": [
    "Creating the model with learning rate 0.0001"
   ]
  },
  {
   "cell_type": "code",
   "execution_count": 163,
   "metadata": {},
   "outputs": [],
   "source": [
    "# creating business embedding path\n",
    "busi_input = Input(shape=[1], name=\"busi-Input\")\n",
    "busi_embedding = Embedding(n_busi+1, 5, name=\"busi-Embedding\")(busi_input)\n",
    "busi_vec = Flatten(name=\"Flatten-busi\")(busi_embedding)\n",
    "\n",
    "# creating user embedding path\n",
    "user_input = Input(shape=[1], name=\"User-Input\")\n",
    "user_embedding = Embedding(n_users+1, 5, name=\"User-Embedding\")(user_input)\n",
    "user_vec = Flatten(name=\"Flatten-Users\")(user_embedding)\n",
    "\n",
    "#creating stars embedding path\n",
    "stars_input = Input(shape=[1], name=\"Stars-Input\")\n",
    "stars_embedding = Embedding(n_stars+1, 5, name=\"Stars-Embedding\")(stars_input)\n",
    "stars_vec = Flatten(name=\"Flatten-Stars\")(stars_embedding)\n",
    "\n",
    "#creating useful embedding path\n",
    "useful_input = Input(shape=[1], name=\"Useful-Input\")\n",
    "useful_embedding = Embedding(n_useful+1, 5, name=\"Useful-Embedding\")(useful_input)\n",
    "useful_vec = Flatten(name=\"Flatten-Useful\")(useful_embedding)\n",
    "\n",
    "#creating restauranttakeout embedding path\n",
    "restakeout_input = Input(shape=[1], name=\"restakeout-Input\")\n",
    "restakeout_embedding = Embedding(n_restakeout + 1, 5, name=\"restakeout-Embedding\")(restakeout_input)\n",
    "restakeout_vec = Flatten(name=\"Flatten-restakeout\")(restakeout_embedding)\n",
    "\n",
    "#creating funny embedding path\n",
    "funny_input = Input(shape=[1], name=\"funny-Input\")\n",
    "funny_embedding = Embedding(n_funny+1, 5, name=\"Funny-Embedding\")(funny_input)\n",
    "funny_vec = Flatten(name=\"Flatten-Funny\")(funny_embedding)\n",
    "\n",
    "#creating cool embedding path\n",
    "cool_input = Input(shape=[1], name=\"cool-Input\")\n",
    "cool_embedding = Embedding(n_cool+1, 5, name=\"Cool-Embedding\")(cool_input)\n",
    "cool_vec = Flatten(name=\"Flatten-cool\")(cool_embedding)\n",
    "\n",
    "#creating a restaurant price range embedding path\n",
    "resprice_input = Input(shape=[1], name=\"resprice-Input\")\n",
    "resprice_embedding = Embedding(n_resprice + 1, 5, name=\"resprice-Embedding\")(resprice_input)\n",
    "resprice_vec = Flatten(name=\"Flatten-resprice\")(resprice_embedding)\n",
    "\n",
    "#creating a Goodforkids embedding path\n",
    "goodforkids_input = Input(shape=[1], name=\"goodforkids-Input\")\n",
    "goodforkids_embedding = Embedding(n_goodforkids + 1, 5, name=\"goodforkids-Embedding\")(goodforkids_input)\n",
    "goodforkids_vec = Flatten(name=\"Flatten-goodforkids\")(goodforkids_embedding)\n",
    "\n",
    "#creating a HasTV embedding path\n",
    "hastv_input = Input(shape=[1], name=\"hastv-Input\")\n",
    "hastv_embedding = Embedding(n_hastv + 1, 5, name=\"hastv-Embedding\")(hastv_input)\n",
    "hastv_vec = Flatten(name=\"Flatten-hastv\")(hastv_embedding)\n",
    "\n",
    "#creating a Restaurant good for groups embedding path\n",
    "resgrp_input = Input(shape=[1], name=\"resgrp-Input\")\n",
    "resgrp_embedding = Embedding(n_resgrp + 1, 5, name=\"resgrp-Embedding\")(resgrp_input)\n",
    "resgrp_vec = Flatten(name=\"Flatten-resgrp\")(resgrp_embedding)\n",
    "\n",
    "#creating a Restaurant Reservations embedding path\n",
    "resreserve_input = Input(shape=[1], name=\"resreserve-Input\")\n",
    "resreserve_embedding = Embedding(n_resreserve + 1, 5, name=\"resreserve-Embedding\")(resreserve_input)\n",
    "resreserve_vec = Flatten(name=\"Flatten-resreserve\")(resreserve_embedding)\n",
    "\n",
    "#creating a restaurant delivery embedding path\n",
    "resdelivery_input = Input(shape=[1], name=\"resdelivery-Input\")\n",
    "resdelivery_embedding = Embedding(n_resdelivery + 1, 5, name=\"resdelivery-Embedding\")(resdelivery_input)\n",
    "resdelivery_vec = Flatten(name=\"Flatten-resdelivery\")(resdelivery_embedding)\n",
    "\n",
    "#creating an outdoor seating embedding path\n",
    "outdoor_input = Input(shape=[1], name=\"outdoor-Input\")\n",
    "outdoor_embedding = Embedding(n_outdoor + 1, 5, name=\"outdoor-Embedding\")(outdoor_input)\n",
    "outdoor_vec = Flatten(name=\"Flatten-outdoor\")(outdoor_embedding)\n",
    "\n",
    "#creating a bikeparking  embedding path\n",
    "bike_input = Input(shape=[1], name=\"bike-Input\")\n",
    "bike_embedding = Embedding(n_bike + 1, 5, name=\"bike-Embedding\")(bike_input)\n",
    "bike_vec = Flatten(name=\"Flatten-bike\")(bike_embedding)\n",
    "\n",
    "#creating alcohol embedding path\n",
    "alcohol_input = Input(shape=[1], name=\"alcohol-Input\")\n",
    "alcohol_embedding = Embedding(n_alcohol + 1, 5, name=\"alcohol-Embedding\")(alcohol_input)\n",
    "alcohol_vec = Flatten(name=\"Flatten-alcohol\")(alcohol_embedding)\n",
    "\n",
    "#Creating a restaurant attire path\n",
    "resattire_input = Input(shape=[1], name=\"resattire-Input\")\n",
    "resattire_embedding = Embedding(n_resattire + 1, 5, name=\"resattire-Embedding\")(resattire_input)\n",
    "resattire_vec = Flatten(name=\"Flatten-resattire\")(resattire_embedding)\n",
    "\n",
    "#creating wifi embedding path\n",
    "wifi_input = Input(shape=[1], name=\"wifi-Input\")\n",
    "wifi_embedding = Embedding(n_wifi + 1, 5, name=\"wifi-Embedding\")(wifi_input)\n",
    "wifi_vec = Flatten(name=\"Flatten-wifi\")(wifi_embedding)\n",
    "\n",
    "\n",
    "# concatenate features\n",
    "conc = Concatenate()([busi_vec, user_vec, stars_vec, useful_vec,funny_vec, cool_vec,restakeout_vec,resprice_vec,goodforkids_vec,hastv_vec,resgrp_vec,resreserve_vec,resdelivery_vec, outdoor_vec,bike_vec,alcohol_vec, resattire_vec, wifi_vec])\n",
    "\n",
    "# add fully-connected-layers\n",
    "fc1 = Dense(128, activation='relu')(conc)\n",
    "fc2 = Dense(32, activation='relu')(fc1)\n",
    "out = Dense(1)(fc2)\n",
    "\n",
    "# Create model and compile it and store the best model(the corresponding weights) throughout the epochs.\n",
    "filepath= \"weights4.best.hdf5\"\n",
    "model4 = Model([user_input, busi_input,stars_input, useful_input,funny_input,cool_input, restakeout_input,resprice_input,goodforkids_input,hastv_input,resgrp_input, resreserve_input,resdelivery_input, outdoor_input,bike_input,alcohol_input, resattire_input,wifi_input], out)\n",
    "mc=ModelCheckpoint(filepath,monitor='val_loss',mode='min',save_best_only=True, verbose = 1)\n",
    "optimizers.Adam(learning_rate=0.0001)\n",
    "model4.compile('adam', 'mean_squared_error')"
   ]
  },
  {
   "cell_type": "markdown",
   "metadata": {},
   "source": [
    "# Fitting model using the training data "
   ]
  },
  {
   "cell_type": "code",
   "execution_count": 164,
   "metadata": {},
   "outputs": [
    {
     "name": "stderr",
     "output_type": "stream",
     "text": [
      "C:\\Users\\arush\\AppData\\Local\\Continuum\\anaconda3\\lib\\site-packages\\tensorflow_core\\python\\framework\\indexed_slices.py:424: UserWarning: Converting sparse IndexedSlices to a dense Tensor of unknown shape. This may consume a large amount of memory.\n",
      "  \"Converting sparse IndexedSlices to a dense Tensor of unknown shape. \"\n"
     ]
    },
    {
     "name": "stdout",
     "output_type": "stream",
     "text": [
      "Train on 868603 samples, validate on 53192 samples\n",
      "Epoch 1/30\n",
      "868603/868603 [==============================] - 128s 147us/step - loss: 1.1512 - val_loss: 1.3333\n",
      "\n",
      "Epoch 00001: val_loss improved from inf to 1.33335, saving model to weights4.best.hdf5\n",
      "Epoch 2/30\n",
      "868603/868603 [==============================] - 122s 140us/step - loss: 0.9891 - val_loss: 1.3230\n",
      "\n",
      "Epoch 00002: val_loss improved from 1.33335 to 1.32302, saving model to weights4.best.hdf5\n",
      "Epoch 3/30\n",
      "868603/868603 [==============================] - 126s 145us/step - loss: 0.9220 - val_loss: 1.3194\n",
      "\n",
      "Epoch 00003: val_loss improved from 1.32302 to 1.31940, saving model to weights4.best.hdf5\n",
      "Epoch 4/30\n",
      "868603/868603 [==============================] - 121s 139us/step - loss: 0.8698 - val_loss: 1.3277\n",
      "\n",
      "Epoch 00004: val_loss did not improve from 1.31940\n",
      "Epoch 5/30\n",
      "868603/868603 [==============================] - 121s 140us/step - loss: 0.8277 - val_loss: 1.3540\n",
      "\n",
      "Epoch 00005: val_loss did not improve from 1.31940\n",
      "Epoch 6/30\n",
      "868603/868603 [==============================] - 128s 147us/step - loss: 0.7935 - val_loss: 1.3751\n",
      "\n",
      "Epoch 00006: val_loss did not improve from 1.31940\n",
      "Epoch 7/30\n",
      "868603/868603 [==============================] - 127s 147us/step - loss: 0.7649 - val_loss: 1.4009\n",
      "\n",
      "Epoch 00007: val_loss did not improve from 1.31940\n",
      "Epoch 8/30\n",
      "868603/868603 [==============================] - 121s 139us/step - loss: 0.7408 - val_loss: 1.4375\n",
      "\n",
      "Epoch 00008: val_loss did not improve from 1.31940\n",
      "Epoch 9/30\n",
      "868603/868603 [==============================] - 121s 140us/step - loss: 0.7204 - val_loss: 1.4746\n",
      "\n",
      "Epoch 00009: val_loss did not improve from 1.31940\n",
      "Epoch 10/30\n",
      "868603/868603 [==============================] - 131s 151us/step - loss: 0.7029 - val_loss: 1.4754\n",
      "\n",
      "Epoch 00010: val_loss did not improve from 1.31940\n",
      "Epoch 11/30\n",
      "868603/868603 [==============================] - 131s 151us/step - loss: 0.6879 - val_loss: 1.5275\n",
      "\n",
      "Epoch 00011: val_loss did not improve from 1.31940\n",
      "Epoch 12/30\n",
      "868603/868603 [==============================] - 119s 137us/step - loss: 0.6741 - val_loss: 1.5507\n",
      "\n",
      "Epoch 00012: val_loss did not improve from 1.31940\n",
      "Epoch 13/30\n",
      "868603/868603 [==============================] - 102s 118us/step - loss: 0.6618 - val_loss: 1.5537\n",
      "\n",
      "Epoch 00013: val_loss did not improve from 1.31940\n",
      "Epoch 14/30\n",
      "868603/868603 [==============================] - 104s 120us/step - loss: 0.6506 - val_loss: 1.5782\n",
      "\n",
      "Epoch 00014: val_loss did not improve from 1.31940\n",
      "Epoch 15/30\n",
      "868603/868603 [==============================] - 103s 119us/step - loss: 0.6405 - val_loss: 1.5912\n",
      "\n",
      "Epoch 00015: val_loss did not improve from 1.31940\n",
      "Epoch 16/30\n",
      "868603/868603 [==============================] - 108s 124us/step - loss: 0.6312 - val_loss: 1.5769\n",
      "\n",
      "Epoch 00016: val_loss did not improve from 1.31940\n",
      "Epoch 17/30\n",
      "868603/868603 [==============================] - 105s 120us/step - loss: 0.6228 - val_loss: 1.6244\n",
      "\n",
      "Epoch 00017: val_loss did not improve from 1.31940\n",
      "Epoch 18/30\n",
      "868603/868603 [==============================] - 108s 125us/step - loss: 0.6145 - val_loss: 1.6390\n",
      "\n",
      "Epoch 00018: val_loss did not improve from 1.31940\n",
      "Epoch 19/30\n",
      "868603/868603 [==============================] - 104s 120us/step - loss: 0.6070 - val_loss: 1.6461\n",
      "\n",
      "Epoch 00019: val_loss did not improve from 1.31940\n",
      "Epoch 20/30\n",
      "868603/868603 [==============================] - 111s 128us/step - loss: 0.6002 - val_loss: 1.6631\n",
      "\n",
      "Epoch 00020: val_loss did not improve from 1.31940\n",
      "Epoch 21/30\n",
      "868603/868603 [==============================] - 111s 128us/step - loss: 0.5937 - val_loss: 1.6811\n",
      "\n",
      "Epoch 00021: val_loss did not improve from 1.31940\n",
      "Epoch 22/30\n",
      "868603/868603 [==============================] - 106s 122us/step - loss: 0.5870 - val_loss: 1.6978\n",
      "\n",
      "Epoch 00022: val_loss did not improve from 1.31940\n",
      "Epoch 23/30\n",
      "868603/868603 [==============================] - 103s 119us/step - loss: 0.5818 - val_loss: 1.7072\n",
      "\n",
      "Epoch 00023: val_loss did not improve from 1.31940\n",
      "Epoch 24/30\n",
      "868603/868603 [==============================] - 101s 117us/step - loss: 0.5757 - val_loss: 1.7179\n",
      "\n",
      "Epoch 00024: val_loss did not improve from 1.31940\n",
      "Epoch 25/30\n",
      "868603/868603 [==============================] - 105s 120us/step - loss: 0.5703 - val_loss: 1.7235\n",
      "\n",
      "Epoch 00025: val_loss did not improve from 1.31940\n",
      "Epoch 26/30\n",
      "868603/868603 [==============================] - 106s 122us/step - loss: 0.5655 - val_loss: 1.7501\n",
      "\n",
      "Epoch 00026: val_loss did not improve from 1.31940\n",
      "Epoch 27/30\n",
      "868603/868603 [==============================] - 103s 119us/step - loss: 0.5608 - val_loss: 1.7416\n",
      "\n",
      "Epoch 00027: val_loss did not improve from 1.31940\n",
      "Epoch 28/30\n",
      "868603/868603 [==============================] - 107s 124us/step - loss: 0.5563 - val_loss: 1.7643\n",
      "\n",
      "Epoch 00028: val_loss did not improve from 1.31940\n",
      "Epoch 29/30\n",
      "868603/868603 [==============================] - 106s 122us/step - loss: 0.5519 - val_loss: 1.7773\n",
      "\n",
      "Epoch 00029: val_loss did not improve from 1.31940\n",
      "Epoch 30/30\n",
      "868603/868603 [==============================] - 102s 117us/step - loss: 0.5476 - val_loss: 1.8271\n",
      "\n",
      "Epoch 00030: val_loss did not improve from 1.31940\n"
     ]
    },
    {
     "data": {
      "text/plain": [
       "Text(0, 0.5, 'Training Error')"
      ]
     },
     "execution_count": 164,
     "metadata": {},
     "output_type": "execute_result"
    },
    {
     "data": {
      "image/png": "[encoded data removed]",
      "text/plain": [
       "<Figure size 432x288 with 1 Axes>"
      ]
     },
     "metadata": {
      "needs_background": "light"
     },
     "output_type": "display_data"
    }
   ],
   "source": [
    "#fitting the model\n",
    "history = model4.fit([X_train.USER_ID, X_train.BUSINESS_ID,X_train.stars, X_train.useful_x,X_train.funny_x,X_train.cool_x, X_train.RestaurantsTakeOut, X_train.RestaurantsPriceRange2, X_train.GoodForKids, X_train.HasTV, X_train.RestaurantsGoodForGroups,X_train.RestaurantsReservations,X_train.RestaurantsDelivery, X_train.OutdoorSeating, X_train.BikeParking, X_train.Alcohol, X_train.RestaurantsAttire,X_train.WiFi], y_train.rating,batch_size=64,validation_data = ([X_test.USER_ID, X_test.BUSINESS_ID, X_test.stars, X_test.useful_x,X_test.funny_x,X_test.cool_x, X_test.RestaurantsTakeOut,X_test.RestaurantsPriceRange2,X_test.GoodForKids,X_test.HasTV,X_test.RestaurantsGoodForGroups, X_test.RestaurantsReservations, X_test.RestaurantsDelivery, X_test.OutdoorSeating, X_test.BikeParking, X_test.Alcohol, X_test.RestaurantsAttire, X_test.WiFi], y_test.rating), epochs=30, verbose=1,callbacks=[mc])\n",
    "\n",
    "plt.plot(history.history['loss'])\n",
    "plt.xlabel(\"Epochs\")\n",
    "plt.ylabel(\"Training Error\")"
   ]
  },
  {
   "cell_type": "markdown",
   "metadata": {},
   "source": [
    "Loading the best model saved during the 30 epochs"
   ]
  },
  {
   "cell_type": "code",
   "execution_count": 165,
   "metadata": {},
   "outputs": [
    {
     "name": "stdout",
     "output_type": "stream",
     "text": [
      "53192/53192 [==============================] - 4s 66us/step\n"
     ]
    },
    {
     "data": {
      "text/plain": [
       "1.3193972070766833"
      ]
     },
     "execution_count": 165,
     "metadata": {},
     "output_type": "execute_result"
    }
   ],
   "source": [
    "model4.load_weights(\"weights4.best.hdf5\")\n",
    "model4.evaluate([X_test.USER_ID, X_test.BUSINESS_ID, X_test.stars, X_test.useful_x,X_test.funny_x,X_test.cool_x, X_test.RestaurantsTakeOut,X_test.RestaurantsPriceRange2,X_test.GoodForKids,X_test.HasTV,X_test.RestaurantsGoodForGroups, X_test.RestaurantsReservations, X_test.RestaurantsDelivery, X_test.OutdoorSeating, X_test.BikeParking, X_test.Alcohol, X_test.RestaurantsAttire, X_test.WiFi], y_test.rating)"
   ]
  },
  {
   "cell_type": "markdown",
   "metadata": {},
   "source": [
    "# Making predictions on the trained model"
   ]
  },
  {
   "cell_type": "code",
   "execution_count": 172,
   "metadata": {},
   "outputs": [],
   "source": [
    "predictions4 = model4.predict([X_test.USER_ID, X_test.BUSINESS_ID, X_test.stars, X_test.useful_x,X_test.funny_x,X_test.cool_x, X_test.RestaurantsTakeOut,X_test.RestaurantsPriceRange2,X_test.GoodForKids,X_test.HasTV, X_test.RestaurantsGoodForGroups,  X_test.RestaurantsReservations, X_test.RestaurantsDelivery,X_test.OutdoorSeating, X_test.BikeParking, X_test.Alcohol, X_test.RestaurantsAttire, X_test.WiFi])\n",
    "#[print(predictions4[i], y_test.rating.iloc[i]) for i in range(0,len(predictions))]"
   ]
  },
  {
   "cell_type": "markdown",
   "metadata": {},
   "source": [
    "Calculating the RMSE"
   ]
  },
  {
   "cell_type": "code",
   "execution_count": 167,
   "metadata": {},
   "outputs": [
    {
     "data": {
      "text/plain": [
       "1.1486501680560461"
      ]
     },
     "execution_count": 167,
     "metadata": {},
     "output_type": "execute_result"
    }
   ],
   "source": [
    "rmse = sqrt(mean_squared_error(predictions4, y_test.rating))\n",
    "rmse"
   ]
  },
  {
   "cell_type": "markdown",
   "metadata": {},
   "source": [
    "# Predictions for the model with learning rate = 0.01"
   ]
  },
  {
   "cell_type": "code",
   "execution_count": 176,
   "metadata": {},
   "outputs": [
    {
     "name": "stdout",
     "output_type": "stream",
     "text": [
      "[1.5705789] 1.0\n",
      "[4.302258] 4.0\n",
      "[3.5791516] 3.0\n",
      "[3.8916733] 3.0\n",
      "[4.272047] 5.0\n",
      "[4.527193] 4.0\n",
      "[4.855596] 4.0\n",
      "[4.0687547] 4.0\n",
      "[4.186886] 3.0\n",
      "[1.4515109] 3.0\n"
     ]
    },
    {
     "data": {
      "text/plain": [
       "[None, None, None, None, None, None, None, None, None, None]"
      ]
     },
     "execution_count": 176,
     "metadata": {},
     "output_type": "execute_result"
    }
   ],
   "source": [
    "[print(predictions3[i], y_test.rating.iloc[i]) for i in range(0,10)]"
   ]
  }
 ],
 "metadata": {
  "colab": {
   "collapsed_sections": [],
   "name": "kerasmodelfinal.ipynb",
   "provenance": [],
   "toc_visible": true
  },
  "kernelspec": {
   "display_name": "Python 3",
   "language": "python",
   "name": "python3"
  },
  "language_info": {
   "codemirror_mode": {
    "name": "ipython",
    "version": 3
   },
   "file_extension": ".py",
   "mimetype": "text/x-python",
   "name": "python",
   "nbconvert_exporter": "python",
   "pygments_lexer": "ipython3",
   "version": "3.7.3"
  }
 },
 "nbformat": 4,
 "nbformat_minor": 1
}
