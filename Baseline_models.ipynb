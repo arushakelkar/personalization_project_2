{
 "cells": [
  {
   "cell_type": "code",
   "execution_count": 11,
   "metadata": {},
   "outputs": [],
   "source": [
    "import numpy as np\n",
    "import pandas as pd\n",
    "import json\n",
    "from tqdm import tqdm\n",
    "import matplotlib.pyplot as plt\n",
    "import random\n",
    "from sklearn.model_selection import train_test_split\n",
    "from datetime import datetime\n",
    "from sklearn.metrics import mean_squared_error,mean_absolute_error,roc_auc_score\n",
    "from math import sqrt\n",
    "from surprise import Dataset, Reader\n",
    "from surprise import BaselineOnly\n",
    "from surprise import accuracy\n",
    "from surprise.model_selection import cross_validate, train_test_split,GridSearchCV\n",
    "from surprise.prediction_algorithms import Prediction\n"
   ]
  },
  {
   "cell_type": "code",
   "execution_count": 2,
   "metadata": {},
   "outputs": [
    {
     "data": {
      "text/plain": [
       "Index(['Unnamed: 0', 'Unnamed: 0.1', 'user_id', 'business_id', 'review_id',\n",
       "       'rating', 'date', 'useful_x', 'funny_x', 'cool_x', 'text', 'name_x',\n",
       "       'address', 'city', 'state', 'postal_code', 'latitude', 'longitude',\n",
       "       'stars', 'review_count_x', 'category', 'RestaurantsTakeOut',\n",
       "       'RestaurantsPriceRange2', 'GoodForKids', 'HasTV',\n",
       "       'RestaurantsGoodForGroups', 'RestaurantsReservations', 'WiFi',\n",
       "       'RestaurantsAttire', 'Alcohol', 'OutdoorSeating', 'RestaurantsDelivery',\n",
       "       'BikeParking', 'average_stars', 'compliment_cool', 'compliment_cute',\n",
       "       'compliment_funny', 'compliment_hot', 'compliment_list',\n",
       "       'compliment_more', 'compliment_note', 'compliment_photos',\n",
       "       'compliment_plain', 'compliment_profile', 'compliment_writer', 'cool_y',\n",
       "       'elite', 'fans', 'friends', 'funny_y', 'name_y', 'review_count_y',\n",
       "       'useful_y', 'yelping_since'],\n",
       "      dtype='object')"
      ]
     },
     "execution_count": 2,
     "metadata": {},
     "output_type": "execute_result"
    }
   ],
   "source": [
    "final_dataset=pd.read_csv(\"nan_clean_dataset.csv\")\n",
    "final_dataset['date'] =pd.to_datetime(final_dataset.date)\n",
    "final_dataset.columns"
   ]
  },
  {
   "cell_type": "code",
   "execution_count": 3,
   "metadata": {},
   "outputs": [],
   "source": [
    "final_dataset = final_dataset.drop(columns=['Unnamed: 0','Unnamed: 0.1','elite','address','state','postal_code','latitude','longitude'])\n"
   ]
  },
  {
   "cell_type": "markdown",
   "metadata": {},
   "source": [
    "# Select active users from the data"
   ]
  },
  {
   "cell_type": "code",
   "execution_count": 4,
   "metadata": {},
   "outputs": [],
   "source": [
    "users_=final_dataset.user_id.value_counts()\n",
    "active_users = users_.loc[users_ >5].index.to_list()\n",
    "active = pd.DataFrame({\"user_id\": active_users})\n",
    "df_sample2 = pd.merge(left = final_dataset,right= active,left_on='user_id',right_on='user_id')"
   ]
  },
  {
   "cell_type": "markdown",
   "metadata": {},
   "source": [
    "# Distribution of Ratings on sampled data"
   ]
  },
  {
   "cell_type": "code",
   "execution_count": 7,
   "metadata": {},
   "outputs": [
    {
     "data": {
      "image/png": "[encoded data removed]",
      "text/plain": [
       "<Figure size 432x288 with 1 Axes>"
      ]
     },
     "metadata": {
      "needs_background": "light"
     },
     "output_type": "display_data"
    }
   ],
   "source": [
    "x=df_sample2['rating'].value_counts().rename_axis('ratings').reset_index(name='UserCount').sort_values(by=['ratings'])\n",
    "plt.bar([i for i in range(5)], x['UserCount'])\n",
    "plt.xticks([i for i in range(5)],x['ratings'])\n",
    "plt.xlabel(\"Ratings\")\n",
    "plt.ylabel(\"Number of Users\")\n",
    "plt.show()\n",
    "\n"
   ]
  },
  {
   "cell_type": "markdown",
   "metadata": {},
   "source": [
    "# Create Train and Test data"
   ]
  },
  {
   "cell_type": "code",
   "execution_count": 8,
   "metadata": {},
   "outputs": [],
   "source": [
    "df=df_sample2.groupby(['user_id']).date.apply(lambda x: max(x)).reset_index()\n",
    "df_test = pd.merge(df_sample2,df, how='inner',on=['user_id','date'])\n",
    "df_train=df_sample2[~df_sample2.isin(df_test.to_dict('l')).all(1)]"
   ]
  },
  {
   "cell_type": "code",
   "execution_count": 9,
   "metadata": {},
   "outputs": [
    {
     "data": {
      "text/html": [
       "<div>\n",
       "<style scoped>\n",
       "    .dataframe tbody tr th:only-of-type {\n",
       "        vertical-align: middle;\n",
       "    }\n",
       "\n",
       "    .dataframe tbody tr th {\n",
       "        vertical-align: top;\n",
       "    }\n",
       "\n",
       "    .dataframe thead th {\n",
       "        text-align: right;\n",
       "    }\n",
       "</style>\n",
       "<table border=\"1\" class=\"dataframe\">\n",
       "  <thead>\n",
       "    <tr style=\"text-align: right;\">\n",
       "      <th></th>\n",
       "      <th>user_id</th>\n",
       "      <th>business_id</th>\n",
       "      <th>review_id</th>\n",
       "      <th>rating</th>\n",
       "      <th>date</th>\n",
       "      <th>useful_x</th>\n",
       "      <th>funny_x</th>\n",
       "      <th>cool_x</th>\n",
       "      <th>text</th>\n",
       "      <th>name_x</th>\n",
       "      <th>...</th>\n",
       "      <th>compliment_profile</th>\n",
       "      <th>compliment_writer</th>\n",
       "      <th>cool_y</th>\n",
       "      <th>fans</th>\n",
       "      <th>friends</th>\n",
       "      <th>funny_y</th>\n",
       "      <th>name_y</th>\n",
       "      <th>review_count_y</th>\n",
       "      <th>useful_y</th>\n",
       "      <th>yelping_since</th>\n",
       "    </tr>\n",
       "  </thead>\n",
       "  <tbody>\n",
       "    <tr>\n",
       "      <th>0</th>\n",
       "      <td>hG7b0MtEbXx5QzbzE6C_VA</td>\n",
       "      <td>Y07qIurPKiUJDnTZWxZN2A</td>\n",
       "      <td>HeTRGukwBk1TPoX0dr4xZA</td>\n",
       "      <td>5.0</td>\n",
       "      <td>2012-08-28 23:34:11</td>\n",
       "      <td>0.0</td>\n",
       "      <td>0.0</td>\n",
       "      <td>0.0</td>\n",
       "      <td>Not a huge selection but what they do have is ...</td>\n",
       "      <td>Bistro Buffet</td>\n",
       "      <td>...</td>\n",
       "      <td>0</td>\n",
       "      <td>0</td>\n",
       "      <td>0</td>\n",
       "      <td>0</td>\n",
       "      <td>frQs7y5qa-X1pvAM0sJe1w</td>\n",
       "      <td>4</td>\n",
       "      <td>Stefan</td>\n",
       "      <td>10</td>\n",
       "      <td>18</td>\n",
       "      <td>2008-07-10 17:24:47</td>\n",
       "    </tr>\n",
       "    <tr>\n",
       "      <th>1</th>\n",
       "      <td>hG7b0MtEbXx5QzbzE6C_VA</td>\n",
       "      <td>eSLwC2iFJOU4UWXyuPiTpg</td>\n",
       "      <td>C_25_cKO3JXflunMIwBHdA</td>\n",
       "      <td>1.0</td>\n",
       "      <td>2008-08-23 20:07:25</td>\n",
       "      <td>0.0</td>\n",
       "      <td>0.0</td>\n",
       "      <td>0.0</td>\n",
       "      <td>If you are a grown man, you will leave hungry ...</td>\n",
       "      <td>Hennessey's Tavern</td>\n",
       "      <td>...</td>\n",
       "      <td>0</td>\n",
       "      <td>0</td>\n",
       "      <td>0</td>\n",
       "      <td>0</td>\n",
       "      <td>frQs7y5qa-X1pvAM0sJe1w</td>\n",
       "      <td>4</td>\n",
       "      <td>Stefan</td>\n",
       "      <td>10</td>\n",
       "      <td>18</td>\n",
       "      <td>2008-07-10 17:24:47</td>\n",
       "    </tr>\n",
       "    <tr>\n",
       "      <th>3</th>\n",
       "      <td>hG7b0MtEbXx5QzbzE6C_VA</td>\n",
       "      <td>0giQuOv-hLFlVuwgw_VG9A</td>\n",
       "      <td>tDpkjj18ZnumFUa91M34eA</td>\n",
       "      <td>2.0</td>\n",
       "      <td>2014-12-11 03:51:29</td>\n",
       "      <td>0.0</td>\n",
       "      <td>2.0</td>\n",
       "      <td>0.0</td>\n",
       "      <td>FE has gone from being a food store to a quasi...</td>\n",
       "      <td>Fresh &amp; Easy</td>\n",
       "      <td>...</td>\n",
       "      <td>0</td>\n",
       "      <td>0</td>\n",
       "      <td>0</td>\n",
       "      <td>0</td>\n",
       "      <td>frQs7y5qa-X1pvAM0sJe1w</td>\n",
       "      <td>4</td>\n",
       "      <td>Stefan</td>\n",
       "      <td>10</td>\n",
       "      <td>18</td>\n",
       "      <td>2008-07-10 17:24:47</td>\n",
       "    </tr>\n",
       "    <tr>\n",
       "      <th>4</th>\n",
       "      <td>FIk4lQQu1eTe2EpzQ4xhBA</td>\n",
       "      <td>Y07qIurPKiUJDnTZWxZN2A</td>\n",
       "      <td>1gAM0UO81wbM2vdRrQtywA</td>\n",
       "      <td>2.0</td>\n",
       "      <td>2011-11-06 05:11:33</td>\n",
       "      <td>0.0</td>\n",
       "      <td>0.0</td>\n",
       "      <td>0.0</td>\n",
       "      <td>Small breakfast buffet.  I was surprised it wa...</td>\n",
       "      <td>Bistro Buffet</td>\n",
       "      <td>...</td>\n",
       "      <td>3</td>\n",
       "      <td>32</td>\n",
       "      <td>726</td>\n",
       "      <td>63</td>\n",
       "      <td>WeIrA7LbdfS5HeV13iymuw, QFjqxXn3acDC7hckFGUKMg...</td>\n",
       "      <td>314</td>\n",
       "      <td>Carol</td>\n",
       "      <td>866</td>\n",
       "      <td>1635</td>\n",
       "      <td>2010-08-26 22:09:14</td>\n",
       "    </tr>\n",
       "    <tr>\n",
       "      <th>5</th>\n",
       "      <td>FIk4lQQu1eTe2EpzQ4xhBA</td>\n",
       "      <td>9edPSkfXKsJmkZYIaOmA7Q</td>\n",
       "      <td>5m91U7Ha0XrGgP82-lc-Sg</td>\n",
       "      <td>4.0</td>\n",
       "      <td>2012-06-12 02:07:44</td>\n",
       "      <td>2.0</td>\n",
       "      <td>0.0</td>\n",
       "      <td>1.0</td>\n",
       "      <td>I'm not much for shopping, I do not like to ju...</td>\n",
       "      <td>Las Vegas South Premium Outlets</td>\n",
       "      <td>...</td>\n",
       "      <td>3</td>\n",
       "      <td>32</td>\n",
       "      <td>726</td>\n",
       "      <td>63</td>\n",
       "      <td>WeIrA7LbdfS5HeV13iymuw, QFjqxXn3acDC7hckFGUKMg...</td>\n",
       "      <td>314</td>\n",
       "      <td>Carol</td>\n",
       "      <td>866</td>\n",
       "      <td>1635</td>\n",
       "      <td>2010-08-26 22:09:14</td>\n",
       "    </tr>\n",
       "  </tbody>\n",
       "</table>\n",
       "<p>5 rows × 46 columns</p>\n",
       "</div>"
      ],
      "text/plain": [
       "                  user_id             business_id               review_id  \\\n",
       "0  hG7b0MtEbXx5QzbzE6C_VA  Y07qIurPKiUJDnTZWxZN2A  HeTRGukwBk1TPoX0dr4xZA   \n",
       "1  hG7b0MtEbXx5QzbzE6C_VA  eSLwC2iFJOU4UWXyuPiTpg  C_25_cKO3JXflunMIwBHdA   \n",
       "3  hG7b0MtEbXx5QzbzE6C_VA  0giQuOv-hLFlVuwgw_VG9A  tDpkjj18ZnumFUa91M34eA   \n",
       "4  FIk4lQQu1eTe2EpzQ4xhBA  Y07qIurPKiUJDnTZWxZN2A  1gAM0UO81wbM2vdRrQtywA   \n",
       "5  FIk4lQQu1eTe2EpzQ4xhBA  9edPSkfXKsJmkZYIaOmA7Q  5m91U7Ha0XrGgP82-lc-Sg   \n",
       "\n",
       "   rating                date  useful_x  funny_x  cool_x  \\\n",
       "0     5.0 2012-08-28 23:34:11       0.0      0.0     0.0   \n",
       "1     1.0 2008-08-23 20:07:25       0.0      0.0     0.0   \n",
       "3     2.0 2014-12-11 03:51:29       0.0      2.0     0.0   \n",
       "4     2.0 2011-11-06 05:11:33       0.0      0.0     0.0   \n",
       "5     4.0 2012-06-12 02:07:44       2.0      0.0     1.0   \n",
       "\n",
       "                                                text  \\\n",
       "0  Not a huge selection but what they do have is ...   \n",
       "1  If you are a grown man, you will leave hungry ...   \n",
       "3  FE has gone from being a food store to a quasi...   \n",
       "4  Small breakfast buffet.  I was surprised it wa...   \n",
       "5  I'm not much for shopping, I do not like to ju...   \n",
       "\n",
       "                            name_x  ... compliment_profile  compliment_writer  \\\n",
       "0                    Bistro Buffet  ...                  0                  0   \n",
       "1               Hennessey's Tavern  ...                  0                  0   \n",
       "3                     Fresh & Easy  ...                  0                  0   \n",
       "4                    Bistro Buffet  ...                  3                 32   \n",
       "5  Las Vegas South Premium Outlets  ...                  3                 32   \n",
       "\n",
       "   cool_y fans                                            friends funny_y  \\\n",
       "0       0    0                             frQs7y5qa-X1pvAM0sJe1w       4   \n",
       "1       0    0                             frQs7y5qa-X1pvAM0sJe1w       4   \n",
       "3       0    0                             frQs7y5qa-X1pvAM0sJe1w       4   \n",
       "4     726   63  WeIrA7LbdfS5HeV13iymuw, QFjqxXn3acDC7hckFGUKMg...     314   \n",
       "5     726   63  WeIrA7LbdfS5HeV13iymuw, QFjqxXn3acDC7hckFGUKMg...     314   \n",
       "\n",
       "   name_y  review_count_y  useful_y        yelping_since  \n",
       "0  Stefan              10        18  2008-07-10 17:24:47  \n",
       "1  Stefan              10        18  2008-07-10 17:24:47  \n",
       "3  Stefan              10        18  2008-07-10 17:24:47  \n",
       "4   Carol             866      1635  2010-08-26 22:09:14  \n",
       "5   Carol             866      1635  2010-08-26 22:09:14  \n",
       "\n",
       "[5 rows x 46 columns]"
      ]
     },
     "execution_count": 9,
     "metadata": {},
     "output_type": "execute_result"
    }
   ],
   "source": [
    "df_train.head()"
   ]
  },
  {
   "cell_type": "markdown",
   "metadata": {},
   "source": [
    "# Create X_train X_test Y_train Y_test"
   ]
  },
  {
   "cell_type": "code",
   "execution_count": 69,
   "metadata": {},
   "outputs": [],
   "source": [
    "X_train=df_train.loc[:, df_train.columns != 'rating']\n",
    "Y_train=df_train[['rating']]\n",
    "X_test=df_test.loc[:, df_test.columns != 'rating']\n",
    "Y_test=df_test[['rating']]"
   ]
  },
  {
   "cell_type": "code",
   "execution_count": 70,
   "metadata": {},
   "outputs": [],
   "source": [
    "X_train.to_csv(\"X_train.csv\")\n",
    "X_test.to_csv(\"X_test.csv\")\n",
    "Y_test.to_csv(\"y_test.csv\")\n",
    "Y_train.to_csv(\"y_train.csv\")"
   ]
  },
  {
   "cell_type": "markdown",
   "metadata": {},
   "source": [
    "#  Baseline Model\n",
    "# user and item bias baseline"
   ]
  },
  {
   "cell_type": "code",
   "execution_count": 15,
   "metadata": {},
   "outputs": [],
   "source": [
    "reader = Reader(rating_scale=(1,5))\n",
    "train_ = Dataset.load_from_df(df_train[['user_id', 'business_id', 'rating']], reader)\n",
    "trainset = train_.build_full_trainset()"
   ]
  },
  {
   "cell_type": "code",
   "execution_count": 16,
   "metadata": {},
   "outputs": [
    {
     "name": "stdout",
     "output_type": "stream",
     "text": [
      "Estimating biases using als...\n"
     ]
    },
    {
     "data": {
      "text/plain": [
       "<surprise.prediction_algorithms.baseline_only.BaselineOnly at 0x7fd3849e00b8>"
      ]
     },
     "execution_count": 16,
     "metadata": {},
     "output_type": "execute_result"
    }
   ],
   "source": [
    "algo = BaselineOnly()\n",
    "algo.fit(trainset)"
   ]
  },
  {
   "cell_type": "code",
   "execution_count": 17,
   "metadata": {},
   "outputs": [],
   "source": [
    "prediction=[]\n",
    "for index, row in df_test.iterrows():\n",
    "    prediction.append(algo.predict(row.user_id, row.business_id).est)"
   ]
  },
  {
   "cell_type": "code",
   "execution_count": 18,
   "metadata": {},
   "outputs": [
    {
     "name": "stdout",
     "output_type": "stream",
     "text": [
      "rmse on test data is:1.2174408133049304\n"
     ]
    }
   ],
   "source": [
    "rmse = sqrt(mean_squared_error(prediction, df_test.rating))\n",
    "print('rmse on test data is:{}'.format(rmse))"
   ]
  },
  {
   "cell_type": "code",
   "execution_count": 19,
   "metadata": {},
   "outputs": [
    {
     "name": "stdout",
     "output_type": "stream",
     "text": [
      "mse on test data is:1.4821621339005702\n"
     ]
    }
   ],
   "source": [
    "mse = mean_squared_error(prediction, df_test.rating)\n",
    "print('mse on test data is:{}'.format(mse))"
   ]
  },
  {
   "cell_type": "code",
   "execution_count": null,
   "metadata": {},
   "outputs": [],
   "source": []
  }
 ],
 "metadata": {
  "kernelspec": {
   "display_name": "Python 3",
   "language": "python",
   "name": "python3"
  },
  "language_info": {
   "codemirror_mode": {
    "name": "ipython",
    "version": 3
   },
   "file_extension": ".py",
   "mimetype": "text/x-python",
   "name": "python",
   "nbconvert_exporter": "python",
   "pygments_lexer": "ipython3",
   "version": "3.7.3"
  }
 },
 "nbformat": 4,
 "nbformat_minor": 2
}
