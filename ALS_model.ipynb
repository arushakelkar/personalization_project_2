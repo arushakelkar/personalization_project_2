{
 "cells": [
  {
   "cell_type": "code",
   "execution_count": 1,
   "metadata": {},
   "outputs": [],
   "source": [
    "import numpy as np\n",
    "import pandas as pd\n",
    "import json\n",
    "from tqdm import tqdm\n",
    "import matplotlib.pyplot as plt\n",
    "import random\n",
    "from sklearn.model_selection import train_test_split\n",
    "from datetime import datetime\n",
    "from sklearn.metrics import mean_squared_error,mean_absolute_error,roc_auc_score\n",
    "from math import sqrt\n",
    "from sklearn import preprocessing\n",
    "from sklearn.metrics import recall_score,precision_score"
   ]
  },
  {
   "cell_type": "code",
   "execution_count": 2,
   "metadata": {},
   "outputs": [
    {
     "data": {
      "text/plain": [
       "Index(['Unnamed: 0', 'Unnamed: 0.1', 'user_id', 'business_id', 'review_id',\n",
       "       'rating', 'date', 'useful_x', 'funny_x', 'cool_x', 'text', 'name_x',\n",
       "       'address', 'city', 'state', 'postal_code', 'latitude', 'longitude',\n",
       "       'stars', 'review_count_x', 'category', 'RestaurantsTakeOut',\n",
       "       'RestaurantsPriceRange2', 'GoodForKids', 'HasTV',\n",
       "       'RestaurantsGoodForGroups', 'RestaurantsReservations', 'WiFi',\n",
       "       'RestaurantsAttire', 'Alcohol', 'OutdoorSeating', 'RestaurantsDelivery',\n",
       "       'BikeParking', 'average_stars', 'compliment_cool', 'compliment_cute',\n",
       "       'compliment_funny', 'compliment_hot', 'compliment_list',\n",
       "       'compliment_more', 'compliment_note', 'compliment_photos',\n",
       "       'compliment_plain', 'compliment_profile', 'compliment_writer', 'cool_y',\n",
       "       'elite', 'fans', 'friends', 'funny_y', 'name_y', 'review_count_y',\n",
       "       'useful_y', 'yelping_since'],\n",
       "      dtype='object')"
      ]
     },
     "execution_count": 2,
     "metadata": {},
     "output_type": "execute_result"
    }
   ],
   "source": [
    "final_dataset=pd.read_csv(\"nan_clean_dataset.csv\")\n",
    "final_dataset['date'] =pd.to_datetime(final_dataset.date)\n",
    "final_dataset.columns"
   ]
  },
  {
   "cell_type": "code",
   "execution_count": 3,
   "metadata": {},
   "outputs": [],
   "source": [
    "df_sample2 = final_dataset.drop(columns=['Unnamed: 0','Unnamed: 0.1','elite','address','state','postal_code','latitude','longitude'])\n"
   ]
  },
  {
   "cell_type": "markdown",
   "metadata": {},
   "source": [
    "#  ALS model "
   ]
  },
  {
   "cell_type": "markdown",
   "metadata": {},
   "source": [
    "# Creating a dictionary for mapping user_id and business_id to integer values"
   ]
  },
  {
   "cell_type": "code",
   "execution_count": 8,
   "metadata": {},
   "outputs": [],
   "source": [
    "uidmapping=dict()\n",
    "c=0\n",
    "for i in df_sample2['user_id']:\n",
    "    uidmapping[i]=c\n",
    "    c=c+1\n",
    "bidmapping=dict()\n",
    "c=0\n",
    "for i in df_sample2['business_id']:\n",
    "    bidmapping[i]=c\n",
    "    c=c+1"
   ]
  },
  {
   "cell_type": "code",
   "execution_count": 10,
   "metadata": {},
   "outputs": [],
   "source": [
    "l = []\n",
    "for i in df_sample2['user_id']:\n",
    "     l.append(uidmapping[i])\n",
    "df_sample2['UID'] = l\n",
    "\n",
    "l = []\n",
    "for i in df_sample2['business_id']:\n",
    "     l.append(bidmapping[i])\n",
    "df_sample2['BID'] = l"
   ]
  },
  {
   "cell_type": "code",
   "execution_count": 12,
   "metadata": {},
   "outputs": [],
   "source": [
    "df=df_sample2.groupby(['UID']).date.apply(lambda x: max(x)).reset_index()\n",
    "df_test = pd.merge(df_sample2,df, how='inner',on=['UID','date'])"
   ]
  },
  {
   "cell_type": "code",
   "execution_count": 13,
   "metadata": {},
   "outputs": [],
   "source": [
    "df_train=df_sample2[~df_sample2.isin(df_test.to_dict('l')).all(1)]\n"
   ]
  },
  {
   "cell_type": "code",
   "execution_count": 14,
   "metadata": {},
   "outputs": [],
   "source": [
    "df_train[['UID','BID','rating']].to_csv('df_train.csv')\n",
    "df_test[['UID','BID','rating']].to_csv('df_test.csv')"
   ]
  },
  {
   "cell_type": "code",
   "execution_count": 15,
   "metadata": {},
   "outputs": [],
   "source": [
    "from pyspark.sql import SparkSession\n",
    "from pyspark.ml.evaluation import RegressionEvaluator\n",
    "from pyspark.ml.recommendation import ALS\n",
    "from pyspark.ml.tuning import ParamGridBuilder, CrossValidator\n",
    "from pyspark.sql.functions import min,max,avg,col\n",
    "spark = SparkSession.builder.appName('recommend').getOrCreate()"
   ]
  },
  {
   "cell_type": "code",
   "execution_count": 16,
   "metadata": {},
   "outputs": [
    {
     "name": "stdout",
     "output_type": "stream",
     "text": [
      "root\n",
      " |-- _c0: integer (nullable = true)\n",
      " |-- UID: integer (nullable = true)\n",
      " |-- BID: integer (nullable = true)\n",
      " |-- rating: double (nullable = true)\n",
      "\n",
      "root\n",
      " |-- _c0: integer (nullable = true)\n",
      " |-- UID: integer (nullable = true)\n",
      " |-- BID: integer (nullable = true)\n",
      " |-- rating: double (nullable = true)\n",
      "\n",
      "+---+---+------+------+\n",
      "|_c0|UID|   BID|rating|\n",
      "+---+---+------+------+\n",
      "|  0|  3| 16295|   5.0|\n",
      "|  1|  3| 26762|   1.0|\n",
      "|  3|  3| 28346|   2.0|\n",
      "|  4|424| 16295|   2.0|\n",
      "|  5|424|328297|   4.0|\n",
      "+---+---+------+------+\n",
      "only showing top 5 rows\n",
      "\n",
      "None\n"
     ]
    }
   ],
   "source": [
    "train_ratings = spark.read.csv('df_train.csv', inferSchema=True, header=True)\n",
    "test_ratings = spark.read.csv('df_test.csv', inferSchema=True, header=True)\n",
    "\n",
    "train_ratings.printSchema()\n",
    "test_ratings.printSchema()\n",
    "print(train_ratings.show(n = 5))\n"
   ]
  },
  {
   "cell_type": "code",
   "execution_count": 27,
   "metadata": {},
   "outputs": [],
   "source": [
    "def train_ALS(train_data, validation_data, num_iters, reg_param, ranks):\n",
    "    colors=['b', 'g', 'r', 'c', 'm', 'y', 'k']\n",
    "    min_RMSE = float('inf')\n",
    "    best_rank = -1\n",
    "    best_regularization = 0\n",
    "    best_model = None\n",
    "    mse1=[]\n",
    "    for i,rank in enumerate(ranks):\n",
    "        mse=[]\n",
    "        RMSE1=[]\n",
    "        for reg in reg_param:\n",
    "            als = ALS(userCol=\"UID\", itemCol=\"BID\", ratingCol=\"rating\", maxIter=num_iters, rank=rank,\n",
    "                      regParam=reg,coldStartStrategy=\"drop\", nonnegative = True, implicitPrefs = False)\n",
    "            model = als.fit(train_data)\n",
    "            evaluator = RegressionEvaluator(metricName=\"rmse\", labelCol=\"rating\", predictionCol=\"prediction\") \n",
    "            evaluator1 = RegressionEvaluator(metricName=\"mse\", labelCol=\"rating\", predictionCol=\"prediction\")\n",
    "            test_predictions = model.transform(validation_data)\n",
    "            RMSE = evaluator.evaluate(test_predictions)\n",
    "            MSE = evaluator1.evaluate(test_predictions)\n",
    "            RMSE1.append(RMSE)\n",
    "            mse.append(MSE)\n",
    "            print('for rank ',rank,'regularization parameter ',reg,'rmse is', RMSE,'MSE is', MSE)\n",
    "            if RMSE < min_RMSE:\n",
    "                min_RMSE = RMSE\n",
    "                best_rank = rank\n",
    "                best_regularization = reg\n",
    "                best_model = model\n",
    "        mse1.append(mse)\n",
    "        plt.plot(reg_param, RMSE1,marker='o',color=colors[i],label='rank'+str(rank))\n",
    "        \n",
    "    plt.xlabel('regularization parameters')\n",
    "    plt.ylabel('RMSE')\n",
    "    plt.title('ALS Learning Curve')\n",
    "    plt.grid(True)\n",
    "    plt.legend()\n",
    "    plt.show()\n",
    "    for i in range(len(mse1)):\n",
    "        plt.plot(reg_param, mse1[i],marker='o',color=colors[i],label='rank'+str(ranks[i]))\n",
    "    plt.xlabel('regularization parameters')\n",
    "    plt.ylabel('MSE')\n",
    "    plt.title('ALS Learning Curve')\n",
    "    plt.grid(True)\n",
    "    plt.legend()\n",
    "    plt.show()\n",
    "    print('\\nThe best model has {} latent factors and regularization = {}'.format(best_rank, best_regularization))\n",
    "    return best_model"
   ]
  },
  {
   "cell_type": "code",
   "execution_count": 28,
   "metadata": {},
   "outputs": [
    {
     "name": "stdout",
     "output_type": "stream",
     "text": [
      "for rank  10 regularization parameter  0.05 rmse is 1.4545227242108065 MSE is 2.1156363552456257\n",
      "for rank  10 regularization parameter  0.1 rmse is 1.3707433287025683 MSE is 1.878937273182597\n",
      "for rank  10 regularization parameter  0.15 rmse is 1.3192057579401408 MSE is 1.7403038317824213\n",
      "for rank  10 regularization parameter  0.3 rmse is 1.2713320103747279 MSE is 1.616285080603447\n",
      "for rank  13 regularization parameter  0.05 rmse is 1.4457174203945442 MSE is 2.0900988596322554\n",
      "for rank  13 regularization parameter  0.1 rmse is 1.3656431320243467 MSE is 1.8649811640452674\n",
      "for rank  13 regularization parameter  0.15 rmse is 1.3182839236258022 MSE is 1.7378725032902398\n",
      "for rank  13 regularization parameter  0.3 rmse is 1.270974308198496 MSE is 1.615375692100646\n",
      "for rank  17 regularization parameter  0.05 rmse is 1.4271549079771932 MSE is 2.036771131363391\n",
      "for rank  17 regularization parameter  0.1 rmse is 1.3569680693968509 MSE is 1.8413623413626166\n",
      "for rank  17 regularization parameter  0.15 rmse is 1.3108700203269947 MSE is 1.718380210192096\n",
      "for rank  17 regularization parameter  0.3 rmse is 1.2704955345064337 MSE is 1.6141589032007888\n",
      "for rank  20 regularization parameter  0.05 rmse is 1.4081480172074226 MSE is 1.982880838365196\n",
      "for rank  20 regularization parameter  0.1 rmse is 1.3547991206275398 MSE is 1.8354806572531552\n",
      "for rank  20 regularization parameter  0.15 rmse is 1.312684732375154 MSE is 1.7231412066108296\n",
      "for rank  20 regularization parameter  0.3 rmse is 1.2711652137384866 MSE is 1.6158610006188123\n"
     ]
    },
    {
     "data": {
      "image/png": "[encoded data removed]",
      "text/plain": [
       "<Figure size 432x288 with 1 Axes>"
      ]
     },
     "metadata": {
      "needs_background": "light"
     },
     "output_type": "display_data"
    },
    {
     "data": {
      "image/png": "[encoded data removed]",
      "text/plain": [
       "<Figure size 432x288 with 1 Axes>"
      ]
     },
     "metadata": {
      "needs_background": "light"
     },
     "output_type": "display_data"
    },
    {
     "name": "stdout",
     "output_type": "stream",
     "text": [
      "\n",
      "The best model has 17 latent factors and regularization = 0.3\n"
     ]
    }
   ],
   "source": [
    "best_model=train_ALS(train_ratings,test_ratings,10,[.05, .1, .15,0.3],[10,13,17,20])"
   ]
  },
  {
   "cell_type": "markdown",
   "metadata": {},
   "source": [
    "# Fit ALS on training data"
   ]
  },
  {
   "cell_type": "code",
   "execution_count": 21,
   "metadata": {},
   "outputs": [],
   "source": [
    "from pyspark.ml.evaluation import RegressionEvaluator\n",
    "from pyspark.ml.recommendation import ALS\n",
    "from pyspark.ml.tuning import ParamGridBuilder, CrossValidator\n",
    "\n",
    "als = ALS(userCol=\"UID\", itemCol=\"BID\", ratingCol=\"rating\", maxIter=10, rank=17,\n",
    "                      regParam=0.3, coldStartStrategy=\"drop\", nonnegative = True, implicitPrefs = False)\n",
    "model1=als.fit(train_ratings)"
   ]
  },
  {
   "cell_type": "markdown",
   "metadata": {},
   "source": [
    "# Model Evaluation "
   ]
  },
  {
   "cell_type": "code",
   "execution_count": 22,
   "metadata": {},
   "outputs": [
    {
     "name": "stdout",
     "output_type": "stream",
     "text": [
      "The ALS model gives rmse value of 1.2704955345064337 and mse value of 1.6141589032007888 on test data\n"
     ]
    }
   ],
   "source": [
    "test_predictions1=model1.transform(test_ratings)\n",
    "evaluator = RegressionEvaluator(metricName=\"rmse\", labelCol=\"rating\", predictionCol=\"prediction\") \n",
    "evaluator1 = RegressionEvaluator(metricName=\"mse\", labelCol=\"rating\", predictionCol=\"prediction\") \n",
    "RMSE = evaluator.evaluate(test_predictions1)\n",
    "MSE = evaluator1.evaluate(test_predictions1)\n",
    "print('The ALS model gives rmse value of {} and mse value of {} on test data'.format(RMSE,MSE))\n"
   ]
  },
  {
   "cell_type": "code",
   "execution_count": null,
   "metadata": {},
   "outputs": [],
   "source": []
  }
 ],
 "metadata": {
  "kernelspec": {
   "display_name": "Python 3",
   "language": "python",
   "name": "python3"
  },
  "language_info": {
   "codemirror_mode": {
    "name": "ipython",
    "version": 3
   },
   "file_extension": ".py",
   "mimetype": "text/x-python",
   "name": "python",
   "nbconvert_exporter": "python",
   "pygments_lexer": "ipython3",
   "version": "3.7.3"
  }
 },
 "nbformat": 4,
 "nbformat_minor": 2
}
