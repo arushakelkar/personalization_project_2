{
 "cells": [
  {
   "cell_type": "code",
   "execution_count": 0,
   "metadata": {
    "colab": {},
    "colab_type": "code",
    "id": "YRp3GbhTwYEx"
   },
   "outputs": [],
   "source": [
    "import numpy as np\n",
    "import pandas as pd\n",
    "import json\n",
    "from tqdm import tqdm\n",
    "import matplotlib.pyplot as plt\n",
    "import random\n",
    "from sklearn.model_selection import train_test_split\n",
    "from datetime import datetime"
   ]
  },
  {
   "cell_type": "code",
   "execution_count": 0,
   "metadata": {
    "colab": {
     "base_uri": "https://localhost:8080/",
     "height": 70
    },
    "colab_type": "code",
    "id": "cRA0Xeihw0CF",
    "outputId": "84bcc60f-09b2-4254-d827-c2a1864c067f"
   },
   "outputs": [
    {
     "name": "stderr",
     "output_type": "stream",
     "text": [
      "/usr/local/lib/python3.6/dist-packages/IPython/core/interactiveshell.py:2718: DtypeWarning: Columns (21) have mixed types. Specify dtype option on import or set low_memory=False.\n",
      "  interactivity=interactivity, compiler=compiler, result=result)\n"
     ]
    }
   ],
   "source": [
    "final_dataset = pd.read_csv('final_dataset.csv')"
   ]
  },
  {
   "cell_type": "code",
   "execution_count": 0,
   "metadata": {
    "colab": {
     "base_uri": "https://localhost:8080/",
     "height": 252
    },
    "colab_type": "code",
    "id": "WhRs5q3W62Tg",
    "outputId": "451457af-7422-4dee-fe2f-8cc7cd952343"
   },
   "outputs": [
    {
     "data": {
      "text/plain": [
       "Index(['Unnamed: 0', 'user_id', 'business_id', 'review_id', 'rating', 'date',\n",
       "       'useful_x', 'funny_x', 'cool_x', 'text', 'name_x', 'address', 'city',\n",
       "       'state', 'postal_code', 'latitude', 'longitude', 'stars',\n",
       "       'review_count_x', 'category', 'RestaurantsTakeOut',\n",
       "       'RestaurantsPriceRange2', 'GoodForKids', 'HasTV',\n",
       "       'RestaurantsGoodForGroups', 'RestaurantsReservations', 'WiFi',\n",
       "       'RestaurantsAttire', 'Alcohol', 'OutdoorSeating', 'RestaurantsDelivery',\n",
       "       'BikeParking', 'average_stars', 'compliment_cool', 'compliment_cute',\n",
       "       'compliment_funny', 'compliment_hot', 'compliment_list',\n",
       "       'compliment_more', 'compliment_note', 'compliment_photos',\n",
       "       'compliment_plain', 'compliment_profile', 'compliment_writer', 'cool_y',\n",
       "       'elite', 'fans', 'friends', 'funny_y', 'name_y', 'review_count_y',\n",
       "       'useful_y', 'yelping_since'],\n",
       "      dtype='object')"
      ]
     },
     "execution_count": 5,
     "metadata": {
      "tags": []
     },
     "output_type": "execute_result"
    }
   ],
   "source": [
    "final_dataset.columns"
   ]
  },
  {
   "cell_type": "code",
   "execution_count": 0,
   "metadata": {
    "colab": {
     "base_uri": "https://localhost:8080/",
     "height": 34
    },
    "colab_type": "code",
    "id": "pME17Qjz7CLq",
    "outputId": "e2e437fa-5c3c-4234-b59f-8f92347339c2"
   },
   "outputs": [
    {
     "data": {
      "text/plain": [
       "array(['Las Vegas', 'Phoenix', 'Toronto'], dtype=object)"
      ]
     },
     "execution_count": 7,
     "metadata": {
      "tags": []
     },
     "output_type": "execute_result"
    }
   ],
   "source": [
    "final_dataset.city.unique()"
   ]
  },
  {
   "cell_type": "markdown",
   "metadata": {},
   "source": [
    "# Select only 'Las Vegas' and 'Toronto' cities "
   ]
  },
  {
   "cell_type": "code",
   "execution_count": 0,
   "metadata": {
    "colab": {},
    "colab_type": "code",
    "id": "VanAqD6e7IWi"
   },
   "outputs": [],
   "source": [
    "val = [\"Las Vegas\",\"Toronto\"]"
   ]
  },
  {
   "cell_type": "code",
   "execution_count": 0,
   "metadata": {
    "colab": {},
    "colab_type": "code",
    "id": "Vck0lnfm6Qcj"
   },
   "outputs": [],
   "source": [
    "sample = final_dataset.loc[final_dataset['city'].isin(val) ]"
   ]
  },
  {
   "cell_type": "code",
   "execution_count": 0,
   "metadata": {
    "colab": {},
    "colab_type": "code",
    "id": "devQT7R2Lk_e"
   },
   "outputs": [],
   "source": [
    "sample.to_csv(\"clean_dataset.csv\")"
   ]
  },
  {
   "cell_type": "code",
   "execution_count": 0,
   "metadata": {
    "colab": {
     "base_uri": "https://localhost:8080/",
     "height": 958
    },
    "colab_type": "code",
    "id": "bFKyaRPm1An7",
    "outputId": "9c254368-01f6-4594-c7e4-6bf31cbea8d6"
   },
   "outputs": [
    {
     "data": {
      "text/plain": [
       "Unnamed: 0                       0\n",
       "user_id                          0\n",
       "business_id                      0\n",
       "review_id                        0\n",
       "rating                           0\n",
       "date                             0\n",
       "useful_x                         0\n",
       "funny_x                          0\n",
       "cool_x                           0\n",
       "text                             0\n",
       "name_x                           0\n",
       "address                       2222\n",
       "city                             0\n",
       "state                            0\n",
       "postal_code                    405\n",
       "latitude                         0\n",
       "longitude                        0\n",
       "stars                            0\n",
       "review_count_x                   0\n",
       "category                         0\n",
       "RestaurantsTakeOut               0\n",
       "RestaurantsPriceRange2           0\n",
       "GoodForKids                      0\n",
       "HasTV                            0\n",
       "RestaurantsGoodForGroups         0\n",
       "RestaurantsReservations          0\n",
       "WiFi                             0\n",
       "RestaurantsAttire                0\n",
       "Alcohol                          0\n",
       "OutdoorSeating                   0\n",
       "RestaurantsDelivery              0\n",
       "BikeParking                      0\n",
       "average_stars                    0\n",
       "compliment_cool                  0\n",
       "compliment_cute                  0\n",
       "compliment_funny                 0\n",
       "compliment_hot                   0\n",
       "compliment_list                  0\n",
       "compliment_more                  0\n",
       "compliment_note                  0\n",
       "compliment_photos                0\n",
       "compliment_plain                 0\n",
       "compliment_profile               0\n",
       "compliment_writer                0\n",
       "cool_y                           0\n",
       "elite                       520790\n",
       "fans                             0\n",
       "friends                          0\n",
       "funny_y                          0\n",
       "name_y                           0\n",
       "review_count_y                   0\n",
       "useful_y                         0\n",
       "yelping_since                    0\n",
       "WifiNew                      83051\n",
       "Wifi                         83051\n",
       "dtype: int64"
      ]
     },
     "execution_count": 83,
     "metadata": {
      "tags": []
     },
     "output_type": "execute_result"
    }
   ],
   "source": [
    "sample.isnull().sum()"
   ]
  },
  {
   "cell_type": "code",
   "execution_count": 0,
   "metadata": {
    "colab": {
     "base_uri": "https://localhost:8080/",
     "height": 34
    },
    "colab_type": "code",
    "id": "u_cjgN5C9UUI",
    "outputId": "f1709763-f5cb-4d18-d0fb-feb3c27f1a63"
   },
   "outputs": [
    {
     "data": {
      "text/plain": [
       "53"
      ]
     },
     "execution_count": 17,
     "metadata": {
      "tags": []
     },
     "output_type": "execute_result"
    }
   ],
   "source": [
    "len(sample.columns)"
   ]
  },
  {
   "cell_type": "code",
   "execution_count": 0,
   "metadata": {
    "colab": {
     "base_uri": "https://localhost:8080/",
     "height": 202
    },
    "colab_type": "code",
    "id": "IWYLAEfl8Ogz",
    "outputId": "4b0919b0-e773-4218-fe1f-4221dc88afbd"
   },
   "outputs": [
    {
     "name": "stderr",
     "output_type": "stream",
     "text": [
      "/usr/local/lib/python3.6/dist-packages/pandas/core/indexing.py:494: SettingWithCopyWarning: \n",
      "A value is trying to be set on a copy of a slice from a DataFrame.\n",
      "Try using .loc[row_indexer,col_indexer] = value instead\n",
      "\n",
      "See the caveats in the documentation: http://pandas.pydata.org/pandas-docs/stable/user_guide/indexing.html#returning-a-view-versus-a-copy\n",
      "  self.obj[item] = s\n",
      "/usr/local/lib/python3.6/dist-packages/pandas/core/generic.py:6287: SettingWithCopyWarning: \n",
      "A value is trying to be set on a copy of a slice from a DataFrame\n",
      "\n",
      "See the caveats in the documentation: http://pandas.pydata.org/pandas-docs/stable/user_guide/indexing.html#returning-a-view-versus-a-copy\n",
      "  self._update_inplace(new_data)\n"
     ]
    }
   ],
   "source": [
    "sample.loc[(sample.RestaurantsTakeOut == 'False'),'RestaurantsTakeOut'] = False\n",
    "sample.loc[(sample.RestaurantsTakeOut == 'True'),'RestaurantsTakeOut'] = True\n",
    "sample.loc[(sample.RestaurantsTakeOut == 'None'),'RestaurantsTakeOut'] = False\n",
    "sample['RestaurantsTakeOut'].fillna(False, inplace=True)"
   ]
  },
  {
   "cell_type": "code",
   "execution_count": 0,
   "metadata": {
    "colab": {},
    "colab_type": "code",
    "id": "3RsH3j7G-Nt0"
   },
   "outputs": [],
   "source": [
    "sample['RestaurantsPriceRange2'] = sample['RestaurantsPriceRange2'].astype(str)"
   ]
  },
  {
   "cell_type": "code",
   "execution_count": 0,
   "metadata": {
    "colab": {},
    "colab_type": "code",
    "id": "CLwibShpCSsy"
   },
   "outputs": [],
   "source": [
    "sample.loc[(sample.RestaurantsPriceRange2 == '2.0'),'RestaurantsPriceRange2'] = '2'\n",
    "sample.loc[(sample.RestaurantsPriceRange2 == '3.0'),'RestaurantsPriceRange2'] = '3'\n",
    "sample.loc[(sample.RestaurantsPriceRange2 == '1.0'),'RestaurantsPriceRange2'] = '1'\n",
    "sample.loc[(sample.RestaurantsPriceRange2 == '4.0'),'RestaurantsPriceRange2'] = '4'\n",
    "sample['RestaurantsPriceRange2'].fillna('None', inplace=True)\n",
    "sample.loc[(sample.RestaurantsPriceRange2 == 'nan'),'RestaurantsPriceRange2'] = 'None'"
   ]
  },
  {
   "cell_type": "code",
   "execution_count": 0,
   "metadata": {
    "colab": {
     "base_uri": "https://localhost:8080/",
     "height": 34
    },
    "colab_type": "code",
    "id": "H9mzA5EdCCuS",
    "outputId": "efc4ad97-98fe-4aed-fb0f-46f65dde123b"
   },
   "outputs": [
    {
     "data": {
      "text/plain": [
       "array(['2', '1', '3', 'None', '4'], dtype=object)"
      ]
     },
     "execution_count": 23,
     "metadata": {
      "tags": []
     },
     "output_type": "execute_result"
    }
   ],
   "source": [
    "sample.RestaurantsPriceRange2.unique()"
   ]
  },
  {
   "cell_type": "code",
   "execution_count": 0,
   "metadata": {
    "colab": {
     "base_uri": "https://localhost:8080/",
     "height": 34
    },
    "colab_type": "code",
    "id": "2411vA_uAfl3",
    "outputId": "e3908962-9087-4eb0-e109-26a0e1347554"
   },
   "outputs": [
    {
     "data": {
      "text/plain": [
       "array([ True, False])"
      ]
     },
     "execution_count": 26,
     "metadata": {
      "tags": []
     },
     "output_type": "execute_result"
    }
   ],
   "source": [
    "sample.GoodForKids.unique()"
   ]
  },
  {
   "cell_type": "code",
   "execution_count": 0,
   "metadata": {
    "colab": {},
    "colab_type": "code",
    "id": "1_88lNz1DjzT"
   },
   "outputs": [],
   "source": [
    "sample.loc[(sample.GoodForKids == 'False'),'GoodForKids'] = False\n",
    "sample.loc[(sample.GoodForKids == 'True'),'GoodForKids'] = True\n",
    "sample.loc[(sample.GoodForKids == 'None'),'GoodForKids'] = False\n",
    "sample['GoodForKids'].fillna(False, inplace=True)"
   ]
  },
  {
   "cell_type": "code",
   "execution_count": 0,
   "metadata": {
    "colab": {
     "base_uri": "https://localhost:8080/",
     "height": 34
    },
    "colab_type": "code",
    "id": "2b10Jr7LEVhV",
    "outputId": "58aca210-0387-403b-aab8-ba6e123c4918"
   },
   "outputs": [
    {
     "data": {
      "text/plain": [
       "array([False,  True])"
      ]
     },
     "execution_count": 29,
     "metadata": {
      "tags": []
     },
     "output_type": "execute_result"
    }
   ],
   "source": [
    "sample.HasTV.unique()"
   ]
  },
  {
   "cell_type": "code",
   "execution_count": 0,
   "metadata": {
    "colab": {},
    "colab_type": "code",
    "id": "Q-4lecSNEc62"
   },
   "outputs": [],
   "source": [
    "sample.loc[(sample.HasTV == 'False'),'HasTV'] = False\n",
    "sample.loc[(sample.HasTV == 'True'),'HasTV'] = True\n",
    "sample.loc[(sample.HasTV == 'None'),'HasTV'] = False\n",
    "sample['HasTV'].fillna(False, inplace=True)"
   ]
  },
  {
   "cell_type": "code",
   "execution_count": 0,
   "metadata": {
    "colab": {
     "base_uri": "https://localhost:8080/",
     "height": 34
    },
    "colab_type": "code",
    "id": "LFtHfiMwE-D6",
    "outputId": "80bcdf3a-f2e8-42ba-f7e8-67c949b5a01e"
   },
   "outputs": [
    {
     "data": {
      "text/plain": [
       "array([ True, False])"
      ]
     },
     "execution_count": 32,
     "metadata": {
      "tags": []
     },
     "output_type": "execute_result"
    }
   ],
   "source": [
    "sample.RestaurantsGoodForGroups.unique()"
   ]
  },
  {
   "cell_type": "code",
   "execution_count": 0,
   "metadata": {
    "colab": {},
    "colab_type": "code",
    "id": "eeoUW1RJFQg8"
   },
   "outputs": [],
   "source": [
    "sample.loc[(sample.RestaurantsGoodForGroups == 'False'),'RestaurantsGoodForGroups'] = False\n",
    "sample.loc[(sample.RestaurantsGoodForGroups == 'True'),'RestaurantsGoodForGroups'] = True\n",
    "sample.loc[(sample.RestaurantsGoodForGroups == 'None'),'RestaurantsGoodForGroups'] = False\n",
    "sample['RestaurantsGoodForGroups'].fillna(False, inplace=True)"
   ]
  },
  {
   "cell_type": "code",
   "execution_count": 0,
   "metadata": {
    "colab": {
     "base_uri": "https://localhost:8080/",
     "height": 34
    },
    "colab_type": "code",
    "id": "XfJCPWJBFaEV",
    "outputId": "b85448a3-a524-4f80-8dca-27a50c9a1bbc"
   },
   "outputs": [
    {
     "data": {
      "text/plain": [
       "array([False,  True])"
      ]
     },
     "execution_count": 35,
     "metadata": {
      "tags": []
     },
     "output_type": "execute_result"
    }
   ],
   "source": [
    "sample.RestaurantsReservations.unique()"
   ]
  },
  {
   "cell_type": "code",
   "execution_count": 0,
   "metadata": {
    "colab": {},
    "colab_type": "code",
    "id": "QWepGo73Fn-X"
   },
   "outputs": [],
   "source": [
    "sample.loc[(sample.RestaurantsReservations == 'False'),'RestaurantsReservations'] = False\n",
    "sample.loc[(sample.RestaurantsReservations == 'True'),'RestaurantsReservations'] = True\n",
    "sample.loc[(sample.RestaurantsReservations == 'None'),'RestaurantsReservations'] = False\n",
    "sample['RestaurantsReservations'].fillna(False, inplace=True)"
   ]
  },
  {
   "cell_type": "code",
   "execution_count": 0,
   "metadata": {
    "colab": {
     "base_uri": "https://localhost:8080/",
     "height": 34
    },
    "colab_type": "code",
    "id": "3SLfFyCJF3_U",
    "outputId": "f9bf1a17-fce0-41f8-b0e9-01cabcea34c8"
   },
   "outputs": [
    {
     "data": {
      "text/plain": [
       "array(['no', 'free', 'None', 'paid'], dtype=object)"
      ]
     },
     "execution_count": 51,
     "metadata": {
      "tags": []
     },
     "output_type": "execute_result"
    }
   ],
   "source": [
    "sample.WiFi.unique()"
   ]
  },
  {
   "cell_type": "code",
   "execution_count": 0,
   "metadata": {
    "colab": {},
    "colab_type": "code",
    "id": "uQ-shGkBGwhA"
   },
   "outputs": [],
   "source": [
    "print(sample.WiFi[0])\n",
    "val = sample.WiFi[0]\n",
    "val = val.replace(\"'\",\"\")\n",
    "sample['WiFi'] = sample['WiFi'].str.replace(\"'\",\"\")"
   ]
  },
  {
   "cell_type": "code",
   "execution_count": 0,
   "metadata": {
    "colab": {},
    "colab_type": "code",
    "id": "5Wgt9iL7GBK3"
   },
   "outputs": [],
   "source": [
    "sample.loc[(sample.WiFi == 'uno' ),'WiFi'] = 'no'\n",
    "sample.loc[(sample.WiFi == 'ufree' ),'WiFi'] = 'free'\n",
    "sample.loc[(sample.WiFi == 'upaid' ),'WiFi'] = 'paid'\n",
    "sample['WiFi'].fillna('None', inplace=True)"
   ]
  },
  {
   "cell_type": "code",
   "execution_count": 0,
   "metadata": {
    "colab": {
     "base_uri": "https://localhost:8080/",
     "height": 34
    },
    "colab_type": "code",
    "id": "MVFhfUBwSO50",
    "outputId": "7a93e7f2-d502-4a2f-f545-9dc89a2ba832"
   },
   "outputs": [
    {
     "data": {
      "text/plain": [
       "array(['casual', 'None', 'dressy', 'formal'], dtype=object)"
      ]
     },
     "execution_count": 61,
     "metadata": {
      "tags": []
     },
     "output_type": "execute_result"
    }
   ],
   "source": [
    "sample.RestaurantsAttire.unique()"
   ]
  },
  {
   "cell_type": "code",
   "execution_count": 0,
   "metadata": {
    "colab": {},
    "colab_type": "code",
    "id": "kETtIVwe-Y1j"
   },
   "outputs": [],
   "source": [
    "sample['RestaurantsAttire'] = sample['RestaurantsAttire'].str.replace(\"'\",\"\")"
   ]
  },
  {
   "cell_type": "code",
   "execution_count": 0,
   "metadata": {
    "colab": {},
    "colab_type": "code",
    "id": "sGVBnk2cSlDn"
   },
   "outputs": [],
   "source": [
    "sample.loc[(sample.RestaurantsAttire == 'ucasual' ),'RestaurantsAttire'] = 'casual'\n",
    "sample.loc[(sample.RestaurantsAttire == 'udressy' ),'RestaurantsAttire'] = 'dressy'\n",
    "sample.loc[(sample.RestaurantsAttire == 'uformal' ),'RestaurantsAttire'] = 'formal'\n",
    "sample['RestaurantsAttire'].fillna('None', inplace=True)"
   ]
  },
  {
   "cell_type": "code",
   "execution_count": 0,
   "metadata": {
    "colab": {
     "base_uri": "https://localhost:8080/",
     "height": 34
    },
    "colab_type": "code",
    "id": "csprrFAmTTKU",
    "outputId": "43ad1fd2-01ce-4d30-8a9d-2863e2a50975"
   },
   "outputs": [
    {
     "data": {
      "text/plain": [
       "array(['beer_and_wine', 'full_bar', 'None'], dtype=object)"
      ]
     },
     "execution_count": 69,
     "metadata": {
      "tags": []
     },
     "output_type": "execute_result"
    }
   ],
   "source": [
    "sample.Alcohol.unique()"
   ]
  },
  {
   "cell_type": "code",
   "execution_count": 0,
   "metadata": {
    "colab": {},
    "colab_type": "code",
    "id": "1DuHTyXXTejw"
   },
   "outputs": [],
   "source": [
    "sample['Alcohol'] = sample['Alcohol'].str.replace(\"'\",\"\")"
   ]
  },
  {
   "cell_type": "code",
   "execution_count": 0,
   "metadata": {
    "colab": {},
    "colab_type": "code",
    "id": "4J0HqmqETnQq"
   },
   "outputs": [],
   "source": [
    "sample.loc[(sample.Alcohol == 'ubeer_and_wine' ),'Alcohol'] = 'beer_and_wine'\n",
    "sample.loc[(sample.Alcohol == 'ufull_bar' ),'Alcohol'] = 'full_bar'\n",
    "sample.loc[(sample.Alcohol == 'unone' ),'Alcohol'] = 'None'\n",
    "sample.loc[(sample.Alcohol == 'none' ),'Alcohol'] = 'None'\n",
    "sample['Alcohol'].fillna('None', inplace=True)"
   ]
  },
  {
   "cell_type": "code",
   "execution_count": 0,
   "metadata": {
    "colab": {
     "base_uri": "https://localhost:8080/",
     "height": 34
    },
    "colab_type": "code",
    "id": "D_JjafTXUP5j",
    "outputId": "a739566d-0d47-41da-969d-bf4532f063bf"
   },
   "outputs": [
    {
     "data": {
      "text/plain": [
       "array([False,  True])"
      ]
     },
     "execution_count": 73,
     "metadata": {
      "tags": []
     },
     "output_type": "execute_result"
    }
   ],
   "source": [
    "sample.OutdoorSeating.unique()"
   ]
  },
  {
   "cell_type": "code",
   "execution_count": 0,
   "metadata": {
    "colab": {},
    "colab_type": "code",
    "id": "Pp5v-Rp7UXon"
   },
   "outputs": [],
   "source": [
    "sample.loc[(sample.OutdoorSeating == 'False'),'OutdoorSeating'] = False\n",
    "sample.loc[(sample.OutdoorSeating == 'True'),'OutdoorSeating'] = True\n",
    "sample.loc[(sample.OutdoorSeating == 'None'),'OutdoorSeating'] = False\n",
    "sample['OutdoorSeating'].fillna(False, inplace=True)"
   ]
  },
  {
   "cell_type": "code",
   "execution_count": 0,
   "metadata": {
    "colab": {
     "base_uri": "https://localhost:8080/",
     "height": 34
    },
    "colab_type": "code",
    "id": "rbD2rXnPUlWx",
    "outputId": "941a9ec9-c60c-4457-c996-fc06f4c4b7e5"
   },
   "outputs": [
    {
     "data": {
      "text/plain": [
       "array([False,  True])"
      ]
     },
     "execution_count": 78,
     "metadata": {
      "tags": []
     },
     "output_type": "execute_result"
    }
   ],
   "source": [
    "sample.RestaurantsDelivery.unique()"
   ]
  },
  {
   "cell_type": "code",
   "execution_count": 0,
   "metadata": {
    "colab": {},
    "colab_type": "code",
    "id": "XQaLiuuwUz9S"
   },
   "outputs": [],
   "source": [
    "sample.loc[(sample.RestaurantsDelivery == 'False'),'RestaurantsDelivery'] = False\n",
    "sample.loc[(sample.RestaurantsDelivery == 'True'),'RestaurantsDelivery'] = True\n",
    "sample.loc[(sample.RestaurantsDelivery == 'None'),'RestaurantsDelivery'] = False\n",
    "sample['RestaurantsDelivery'].fillna(False, inplace=True)"
   ]
  },
  {
   "cell_type": "code",
   "execution_count": 0,
   "metadata": {
    "colab": {
     "base_uri": "https://localhost:8080/",
     "height": 34
    },
    "colab_type": "code",
    "id": "xyR-3BX3VBBV",
    "outputId": "8269aca4-deb3-4dca-c86c-137a6f06c3db"
   },
   "outputs": [
    {
     "data": {
      "text/plain": [
       "array([False,  True])"
      ]
     },
     "execution_count": 82,
     "metadata": {
      "tags": []
     },
     "output_type": "execute_result"
    }
   ],
   "source": [
    "sample.BikeParking.unique()"
   ]
  },
  {
   "cell_type": "code",
   "execution_count": 0,
   "metadata": {
    "colab": {},
    "colab_type": "code",
    "id": "hP28K4GHVKta"
   },
   "outputs": [],
   "source": [
    "sample.loc[(sample.BikeParking == 'False'),'BikeParking'] = False\n",
    "sample.loc[(sample.BikeParking == 'True'),'BikeParking'] = True\n",
    "sample.loc[(sample.BikeParking == 'None'),'BikeParking'] = False\n",
    "sample['BikeParking'].fillna(False, inplace=True)"
   ]
  },
  {
   "cell_type": "code",
   "execution_count": 0,
   "metadata": {
    "colab": {
     "base_uri": "https://localhost:8080/",
     "height": 34
    },
    "colab_type": "code",
    "id": "MSk0FebxVh7C",
    "outputId": "f070e4b5-7127-4f24-fd37-639306698f3b"
   },
   "outputs": [
    {
     "data": {
      "text/plain": [
       "53"
      ]
     },
     "execution_count": 87,
     "metadata": {
      "tags": []
     },
     "output_type": "execute_result"
    }
   ],
   "source": [
    "len(sample.columns)"
   ]
  },
  {
   "cell_type": "code",
   "execution_count": 0,
   "metadata": {
    "colab": {
     "base_uri": "https://localhost:8080/",
     "height": 101
    },
    "colab_type": "code",
    "id": "V0UrfcddV3-t",
    "outputId": "6da84b9d-fc05-47fa-8820-168640f75ebe"
   },
   "outputs": [
    {
     "name": "stderr",
     "output_type": "stream",
     "text": [
      "/usr/local/lib/python3.6/dist-packages/pandas/core/frame.py:4117: SettingWithCopyWarning: \n",
      "A value is trying to be set on a copy of a slice from a DataFrame\n",
      "\n",
      "See the caveats in the documentation: http://pandas.pydata.org/pandas-docs/stable/user_guide/indexing.html#returning-a-view-versus-a-copy\n",
      "  errors=errors,\n"
     ]
    }
   ],
   "source": [
    "sample.drop(columns=['WifiNew','Wifi'],inplace=True)"
   ]
  },
  {
   "cell_type": "code",
   "execution_count": 0,
   "metadata": {
    "colab": {},
    "colab_type": "code",
    "id": "46xKYr32WC2X"
   },
   "outputs": [],
   "source": [
    "sample.to_csv(\"nan_clean_dataset.csv\")"
   ]
  },
  {
   "cell_type": "code",
   "execution_count": 0,
   "metadata": {
    "colab": {},
    "colab_type": "code",
    "id": "-GkJXs9HW-9i"
   },
   "outputs": [],
   "source": [
    "nan_clean_dataset = pd.read_csv('nan_clean_dataset.csv')"
   ]
  },
  {
   "cell_type": "code",
   "execution_count": null,
   "metadata": {},
   "outputs": [],
   "source": []
  }
 ],
 "metadata": {
  "colab": {
   "collapsed_sections": [],
   "name": "DataCleaning.ipynb",
   "provenance": []
  },
  "kernelspec": {
   "display_name": "Python 3",
   "language": "python",
   "name": "python3"
  },
  "language_info": {
   "codemirror_mode": {
    "name": "ipython",
    "version": 3
   },
   "file_extension": ".py",
   "mimetype": "text/x-python",
   "name": "python",
   "nbconvert_exporter": "python",
   "pygments_lexer": "ipython3",
   "version": "3.7.3"
  }
 },
 "nbformat": 4,
 "nbformat_minor": 1
}
